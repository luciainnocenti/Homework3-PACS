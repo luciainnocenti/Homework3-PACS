{
  "nbformat": 4,
  "nbformat_minor": 0,
  "metadata": {
    "colab": {
      "name": "MLDL - Homework3.ipynb",
      "provenance": [],
      "toc_visible": true,
      "include_colab_link": true
    },
    "kernelspec": {
      "name": "python3",
      "display_name": "Python 3"
    },
    "accelerator": "GPU",
    "widgets": {
      "application/vnd.jupyter.widget-state+json": {
        "8d883b0571b949b297123b735a13e02e": {
          "model_module": "@jupyter-widgets/controls",
          "model_name": "HBoxModel",
          "state": {
            "_view_name": "HBoxView",
            "_dom_classes": [],
            "_model_name": "HBoxModel",
            "_view_module": "@jupyter-widgets/controls",
            "_model_module_version": "1.5.0",
            "_view_count": null,
            "_view_module_version": "1.5.0",
            "box_style": "",
            "layout": "IPY_MODEL_7540d4303f0943dc9ade9f6c551dcf9a",
            "_model_module": "@jupyter-widgets/controls",
            "children": [
              "IPY_MODEL_76cd9adc413a4ba4b1ffb5638cea3501",
              "IPY_MODEL_65b7c59c2294448c8f17148b6301f84b"
            ]
          }
        },
        "7540d4303f0943dc9ade9f6c551dcf9a": {
          "model_module": "@jupyter-widgets/base",
          "model_name": "LayoutModel",
          "state": {
            "_view_name": "LayoutView",
            "grid_template_rows": null,
            "right": null,
            "justify_content": null,
            "_view_module": "@jupyter-widgets/base",
            "overflow": null,
            "_model_module_version": "1.2.0",
            "_view_count": null,
            "flex_flow": null,
            "width": null,
            "min_width": null,
            "border": null,
            "align_items": null,
            "bottom": null,
            "_model_module": "@jupyter-widgets/base",
            "top": null,
            "grid_column": null,
            "overflow_y": null,
            "overflow_x": null,
            "grid_auto_flow": null,
            "grid_area": null,
            "grid_template_columns": null,
            "flex": null,
            "_model_name": "LayoutModel",
            "justify_items": null,
            "grid_row": null,
            "max_height": null,
            "align_content": null,
            "visibility": null,
            "align_self": null,
            "height": null,
            "min_height": null,
            "padding": null,
            "grid_auto_rows": null,
            "grid_gap": null,
            "max_width": null,
            "order": null,
            "_view_module_version": "1.2.0",
            "grid_template_areas": null,
            "object_position": null,
            "object_fit": null,
            "grid_auto_columns": null,
            "margin": null,
            "display": null,
            "left": null
          }
        },
        "76cd9adc413a4ba4b1ffb5638cea3501": {
          "model_module": "@jupyter-widgets/controls",
          "model_name": "FloatProgressModel",
          "state": {
            "_view_name": "ProgressView",
            "style": "IPY_MODEL_07a1bde3f8a042f8a338bcc714f56635",
            "_dom_classes": [],
            "description": "100%",
            "_model_name": "FloatProgressModel",
            "bar_style": "success",
            "max": 244418560,
            "_view_module": "@jupyter-widgets/controls",
            "_model_module_version": "1.5.0",
            "value": 244418560,
            "_view_count": null,
            "_view_module_version": "1.5.0",
            "orientation": "horizontal",
            "min": 0,
            "description_tooltip": null,
            "_model_module": "@jupyter-widgets/controls",
            "layout": "IPY_MODEL_42b306f37fb5453fbf0b28c3bbce2f1c"
          }
        },
        "65b7c59c2294448c8f17148b6301f84b": {
          "model_module": "@jupyter-widgets/controls",
          "model_name": "HTMLModel",
          "state": {
            "_view_name": "HTMLView",
            "style": "IPY_MODEL_9ce6352254974e738a4f35afabb3173d",
            "_dom_classes": [],
            "description": "",
            "_model_name": "HTMLModel",
            "placeholder": "​",
            "_view_module": "@jupyter-widgets/controls",
            "_model_module_version": "1.5.0",
            "value": " 233M/233M [02:01&lt;00:00, 2.01MB/s]",
            "_view_count": null,
            "_view_module_version": "1.5.0",
            "description_tooltip": null,
            "_model_module": "@jupyter-widgets/controls",
            "layout": "IPY_MODEL_4523bae2b9ed40a2b09eee30c1960ebf"
          }
        },
        "07a1bde3f8a042f8a338bcc714f56635": {
          "model_module": "@jupyter-widgets/controls",
          "model_name": "ProgressStyleModel",
          "state": {
            "_view_name": "StyleView",
            "_model_name": "ProgressStyleModel",
            "description_width": "initial",
            "_view_module": "@jupyter-widgets/base",
            "_model_module_version": "1.5.0",
            "_view_count": null,
            "_view_module_version": "1.2.0",
            "bar_color": null,
            "_model_module": "@jupyter-widgets/controls"
          }
        },
        "42b306f37fb5453fbf0b28c3bbce2f1c": {
          "model_module": "@jupyter-widgets/base",
          "model_name": "LayoutModel",
          "state": {
            "_view_name": "LayoutView",
            "grid_template_rows": null,
            "right": null,
            "justify_content": null,
            "_view_module": "@jupyter-widgets/base",
            "overflow": null,
            "_model_module_version": "1.2.0",
            "_view_count": null,
            "flex_flow": null,
            "width": null,
            "min_width": null,
            "border": null,
            "align_items": null,
            "bottom": null,
            "_model_module": "@jupyter-widgets/base",
            "top": null,
            "grid_column": null,
            "overflow_y": null,
            "overflow_x": null,
            "grid_auto_flow": null,
            "grid_area": null,
            "grid_template_columns": null,
            "flex": null,
            "_model_name": "LayoutModel",
            "justify_items": null,
            "grid_row": null,
            "max_height": null,
            "align_content": null,
            "visibility": null,
            "align_self": null,
            "height": null,
            "min_height": null,
            "padding": null,
            "grid_auto_rows": null,
            "grid_gap": null,
            "max_width": null,
            "order": null,
            "_view_module_version": "1.2.0",
            "grid_template_areas": null,
            "object_position": null,
            "object_fit": null,
            "grid_auto_columns": null,
            "margin": null,
            "display": null,
            "left": null
          }
        },
        "9ce6352254974e738a4f35afabb3173d": {
          "model_module": "@jupyter-widgets/controls",
          "model_name": "DescriptionStyleModel",
          "state": {
            "_view_name": "StyleView",
            "_model_name": "DescriptionStyleModel",
            "description_width": "",
            "_view_module": "@jupyter-widgets/base",
            "_model_module_version": "1.5.0",
            "_view_count": null,
            "_view_module_version": "1.2.0",
            "_model_module": "@jupyter-widgets/controls"
          }
        },
        "4523bae2b9ed40a2b09eee30c1960ebf": {
          "model_module": "@jupyter-widgets/base",
          "model_name": "LayoutModel",
          "state": {
            "_view_name": "LayoutView",
            "grid_template_rows": null,
            "right": null,
            "justify_content": null,
            "_view_module": "@jupyter-widgets/base",
            "overflow": null,
            "_model_module_version": "1.2.0",
            "_view_count": null,
            "flex_flow": null,
            "width": null,
            "min_width": null,
            "border": null,
            "align_items": null,
            "bottom": null,
            "_model_module": "@jupyter-widgets/base",
            "top": null,
            "grid_column": null,
            "overflow_y": null,
            "overflow_x": null,
            "grid_auto_flow": null,
            "grid_area": null,
            "grid_template_columns": null,
            "flex": null,
            "_model_name": "LayoutModel",
            "justify_items": null,
            "grid_row": null,
            "max_height": null,
            "align_content": null,
            "visibility": null,
            "align_self": null,
            "height": null,
            "min_height": null,
            "padding": null,
            "grid_auto_rows": null,
            "grid_gap": null,
            "max_width": null,
            "order": null,
            "_view_module_version": "1.2.0",
            "grid_template_areas": null,
            "object_position": null,
            "object_fit": null,
            "grid_auto_columns": null,
            "margin": null,
            "display": null,
            "left": null
          }
        }
      }
    }
  },
  "cells": [
    {
      "cell_type": "markdown",
      "metadata": {
        "id": "view-in-github",
        "colab_type": "text"
      },
      "source": [
        "<a href=\"https://colab.research.google.com/github/luciainnocenti/Homework3-PACS/blob/master/MLDL_Homework3.ipynb\" target=\"_parent\"><img src=\"https://colab.research.google.com/assets/colab-badge.svg\" alt=\"Open In Colab\"/></a>"
      ]
    },
    {
      "cell_type": "markdown",
      "metadata": {
        "id": "fo942LMOdlh4",
        "colab_type": "text"
      },
      "source": [
        "#**Import libraries**"
      ]
    },
    {
      "cell_type": "code",
      "metadata": {
        "id": "DokFOdD1dJEl",
        "colab_type": "code",
        "colab": {}
      },
      "source": [
        "import os\n",
        "import logging\n",
        "\n",
        "import torch\n",
        "import torch.nn as nn\n",
        "import torch.optim as optim\n",
        "from torch.utils.data import Subset, DataLoader\n",
        "from torch.backends import cudnn\n",
        "\n",
        "import torchvision\n",
        "from torchvision import transforms\n",
        "\n",
        "from PIL import Image\n",
        "from tqdm import tqdm\n",
        "\n",
        "\n",
        "from numpy import random \n",
        "\n",
        "random.seed(33)"
      ],
      "execution_count": 0,
      "outputs": []
    },
    {
      "cell_type": "markdown",
      "metadata": {
        "id": "OIDLJuIXK_vh",
        "colab_type": "text"
      },
      "source": [
        "#**Set Arguments**"
      ]
    },
    {
      "cell_type": "code",
      "metadata": {
        "id": "d5PkYfqfK_SA",
        "colab_type": "code",
        "colab": {}
      },
      "source": [
        "DEVICE = 'cuda' # 'cuda' or 'cpu'\n",
        "\n",
        "BATCH_SIZE = 128     # Higher batch sizes allows for larger learning rates. An empirical heuristic suggests that, when changing\n",
        "                     # the batch size, learning rate should change by the same factor to have comparable results\n",
        "\n",
        "MOMENTUM = 0.9       # Hyperparameter for SGD, keep this at 0.9 when using SGD\n",
        "WEIGHT_DECAY = 5e-5  # Regularization, you can keep this at the default\n",
        "\n",
        "NUM_EPOCHS = 20      # Total number of training epochs (iterations over dataset)\n",
        "STEP_SIZE = 20       # How many epochs before decreasing learning rate (if using a step-down policy)\n",
        "GAMMA = 0.1          # Multiplicative factor for learning rate step-down\n",
        "\n",
        "LOG_FREQUENCY = 10"
      ],
      "execution_count": 0,
      "outputs": []
    },
    {
      "cell_type": "code",
      "metadata": {
        "id": "0-67R9ZKOK56",
        "colab_type": "code",
        "colab": {}
      },
      "source": [
        "#V1\n",
        "\n",
        "alfa = 1\n",
        "LR = 1e-4"
      ],
      "execution_count": 0,
      "outputs": []
    },
    {
      "cell_type": "code",
      "metadata": {
        "id": "KvfmR0ZtOeYO",
        "colab_type": "code",
        "colab": {}
      },
      "source": [
        "#V2\n",
        "\n",
        "alfa = 1\n",
        "LR = 1e-5"
      ],
      "execution_count": 0,
      "outputs": []
    },
    {
      "cell_type": "code",
      "metadata": {
        "id": "4olXnzoaOmVX",
        "colab_type": "code",
        "colab": {}
      },
      "source": [
        "#V3\n",
        "\n",
        "alfa = 1\n",
        "LR = 1e-6"
      ],
      "execution_count": 0,
      "outputs": []
    },
    {
      "cell_type": "markdown",
      "metadata": {
        "id": "ehjxiMEmVMlk",
        "colab_type": "text"
      },
      "source": [
        "# Import and definition"
      ]
    },
    {
      "cell_type": "code",
      "metadata": {
        "id": "t5u4Nr4vVLv1",
        "colab_type": "code",
        "colab": {
          "base_uri": "https://localhost:8080/",
          "height": 158
        },
        "outputId": "985bde50-e492-463f-9b3b-4bae00e6df8b"
      },
      "source": [
        "# Clone github repository with data\n",
        "!git clone https://github.com/luciainnocenti/Homework3-PACS.git\n",
        "!mv 'Homework3-PACS' 'HW_PACS'\n",
        "\n",
        "from HW_PACS.dataset import PACS_Dataset "
      ],
      "execution_count": 4,
      "outputs": [
        {
          "output_type": "stream",
          "text": [
            "Cloning into 'Homework3-PACS'...\n",
            "remote: Enumerating objects: 18, done.\u001b[K\n",
            "remote: Counting objects: 100% (18/18), done.\u001b[K\n",
            "remote: Compressing objects: 100% (18/18), done.\u001b[K\n",
            "remote: Total 10120 (delta 9), reused 0 (delta 0), pack-reused 10102\u001b[K\n",
            "Receiving objects: 100% (10120/10120), 174.21 MiB | 12.19 MiB/s, done.\n",
            "Resolving deltas: 100% (52/52), done.\n",
            "Checking out files: 100% (9995/9995), done.\n"
          ],
          "name": "stdout"
        }
      ]
    },
    {
      "cell_type": "code",
      "metadata": {
        "id": "9kYMQ1ccVO3K",
        "colab_type": "code",
        "colab": {
          "base_uri": "https://localhost:8080/",
          "height": 52
        },
        "outputId": "50d05da8-d702-4197-ec2f-c09f3501d17c"
      },
      "source": [
        "## Define transforms for training phase\n",
        "#transformer = transforms.Compose([transforms.Resize(256),   \n",
        "#                                      transforms.CenterCrop(224),\n",
        "#                                      transforms.ToTensor(), # Turn PIL Image to torch.Tensor\n",
        "#])\n",
        "#rootPhoto = \"HW_PACS/PACS/photo\"\n",
        "#photos = PACS_Dataset(root = rootPhoto, transform = transformer)\n",
        "#\n",
        "#rootArt_painting = \"HW_PACS/PACS/art_painting\"\n",
        "#art_painting = PACS_Dataset(root = rootArt_painting, transform = transformer)\n",
        "#\n",
        "#photos_dataloader = DataLoader(photos, batch_size=BATCH_SIZE, shuffle=True, num_workers=4)\n",
        "#art_painting_dataloader = DataLoader(art_painting, batch_size=BATCH_SIZE, shuffle=False, num_workers=4)\n",
        "#\n",
        "#print(photos.meanAndStd(photos_dataloader))\n",
        "#print(art_painting.meanAndStd(art_painting_dataloader))"
      ],
      "execution_count": 4,
      "outputs": [
        {
          "output_type": "stream",
          "text": [
            "(tensor([0.5088, 0.4744, 0.4307]), tensor([0.2725, 0.2620, 0.2774]))\n",
            "(tensor([0.5530, 0.5018, 0.4488]), tensor([0.2750, 0.2648, 0.2775]))\n"
          ],
          "name": "stdout"
        }
      ]
    },
    {
      "cell_type": "markdown",
      "metadata": {
        "id": "9gwii0TBHvzh",
        "colab_type": "text"
      },
      "source": [
        "#**Define Data Preprocessing**"
      ]
    },
    {
      "cell_type": "code",
      "metadata": {
        "id": "QUDdw4j2H0Mc",
        "colab_type": "code",
        "colab": {}
      },
      "source": [
        "# Define transforms for training phase\n",
        "train_transform = transforms.Compose([transforms.Resize(256),   \n",
        "                                      transforms.CenterCrop(224),\n",
        "                                      transforms.ToTensor(), # Turn PIL Image to torch.Tensor\n",
        "                                      #transforms.Normalize((0.5, 0.5, 0.5), (0.5, 0.5, 0.5)) # Normalizes tensor with mean and standard deviation\n",
        "                                      transforms.Normalize((0.5088, 0.4744, 0.4307), (0.2725, 0.2620, 0.2774)) # Normalizes tensor with mean and standard deviation\n",
        "])\n",
        "# Define transforms for the test phase\n",
        "test_transform = transforms.Compose([transforms.Resize(256),\n",
        "                                      transforms.CenterCrop(224),\n",
        "                                      transforms.ToTensor(),\n",
        "                                      transforms.Normalize((0.5530, 0.5018, 0.4488), (0.2750, 0.2648, 0.2775))                                    \n",
        "])"
      ],
      "execution_count": 0,
      "outputs": []
    },
    {
      "cell_type": "markdown",
      "metadata": {
        "id": "2qYIHPzYLY7i",
        "colab_type": "text"
      },
      "source": [
        "#**Prepare Dataset**"
      ]
    },
    {
      "cell_type": "code",
      "metadata": {
        "id": "QfVq_uDHLbsR",
        "colab_type": "code",
        "outputId": "54da033e-e892-4f46-b84f-ae31a84ad96f",
        "colab": {
          "base_uri": "https://localhost:8080/",
          "height": 52
        }
      },
      "source": [
        "rootPhoto = \"HW_PACS/PACS/photo\"\n",
        "photos = PACS_Dataset(root = rootPhoto, transform = train_transform)\n",
        "\n",
        "rootArt_painting = \"HW_PACS/PACS/art_painting\"\n",
        "art_painting = PACS_Dataset(root = rootArt_painting, transform = test_transform)\n",
        "\n",
        "# Check dataset sizes\n",
        "print('Train Dataset: {}'.format(len(photos)))\n",
        "print('Test Dataset: {}'.format(len(art_painting)))"
      ],
      "execution_count": 6,
      "outputs": [
        {
          "output_type": "stream",
          "text": [
            "Train Dataset: 1670\n",
            "Test Dataset: 2048\n"
          ],
          "name": "stdout"
        }
      ]
    },
    {
      "cell_type": "markdown",
      "metadata": {
        "id": "FYEDQ7Z21ldN",
        "colab_type": "text"
      },
      "source": [
        "#**Prepare Dataloaders**"
      ]
    },
    {
      "cell_type": "code",
      "metadata": {
        "id": "VriRw8SI1nle",
        "colab_type": "code",
        "colab": {}
      },
      "source": [
        "# Dataloaders iterate over pytorch datasets and transparently provide useful functions (e.g. parallelization and shuffling)\n",
        "photos_dataloader = DataLoader(photos, batch_size=BATCH_SIZE, shuffle=True, num_workers=4)\n",
        "art_painting_dataloader = DataLoader(art_painting, batch_size=BATCH_SIZE, shuffle=False, num_workers=4)"
      ],
      "execution_count": 0,
      "outputs": []
    },
    {
      "cell_type": "markdown",
      "metadata": {
        "id": "AxYUli9d9uYQ",
        "colab_type": "text"
      },
      "source": [
        "#**Model without DANN**"
      ]
    },
    {
      "cell_type": "markdown",
      "metadata": {
        "id": "gbZ1t5Qs2z4j",
        "colab_type": "text"
      },
      "source": [
        "##**Prepare Network**"
      ]
    },
    {
      "cell_type": "code",
      "metadata": {
        "id": "exHUjtXa22DN",
        "colab_type": "code",
        "outputId": "52aea38c-b0a8-4db4-a340-88bf27fc74af",
        "colab": {
          "base_uri": "https://localhost:8080/",
          "height": 84,
          "referenced_widgets": [
            "8d883b0571b949b297123b735a13e02e",
            "7540d4303f0943dc9ade9f6c551dcf9a",
            "76cd9adc413a4ba4b1ffb5638cea3501",
            "65b7c59c2294448c8f17148b6301f84b",
            "07a1bde3f8a042f8a338bcc714f56635",
            "42b306f37fb5453fbf0b28c3bbce2f1c",
            "9ce6352254974e738a4f35afabb3173d",
            "4523bae2b9ed40a2b09eee30c1960ebf"
          ]
        }
      },
      "source": [
        "from HW_PACS.gradient_reversal_example import alexNetDA \n",
        "\n",
        "net = alexNetDA(num_classes = 7)\n"
      ],
      "execution_count": 8,
      "outputs": [
        {
          "output_type": "stream",
          "text": [
            "Downloading: \"https://download.pytorch.org/models/alexnet-owt-4df8aa71.pth\" to /root/.cache/torch/checkpoints/alexnet-owt-4df8aa71.pth\n"
          ],
          "name": "stderr"
        },
        {
          "output_type": "display_data",
          "data": {
            "application/vnd.jupyter.widget-view+json": {
              "model_id": "8d883b0571b949b297123b735a13e02e",
              "version_minor": 0,
              "version_major": 2
            },
            "text/plain": [
              "HBox(children=(FloatProgress(value=0.0, max=244418560.0), HTML(value='')))"
            ]
          },
          "metadata": {
            "tags": []
          }
        },
        {
          "output_type": "stream",
          "text": [
            "\n"
          ],
          "name": "stdout"
        }
      ]
    },
    {
      "cell_type": "markdown",
      "metadata": {
        "id": "KEyL3H_R4qCf",
        "colab_type": "text"
      },
      "source": [
        "##**Prepare Training**"
      ]
    },
    {
      "cell_type": "code",
      "metadata": {
        "id": "9sjq00G94tSc",
        "colab_type": "code",
        "colab": {}
      },
      "source": [
        "# Define loss function\n",
        "criterion = nn.CrossEntropyLoss() \n",
        "\n",
        "# Choose parameters to optimize\n",
        "# To access a different set of parameters, you have to access submodules of AlexNet\n",
        "# (nn.Module objects, like AlexNet, implement the Composite Pattern)\n",
        "# e.g.: parameters of the fully connected layers: net.classifier.parameters()\n",
        "# e.g.: parameters of the convolutional layers: look at alexnet's source code ;) \n",
        "parameters_to_optimize = net.parameters() # In this case we optimize over all the parameters of AlexNet\n",
        "\n",
        "# Define optimizer\n",
        "# An optimizer updates the weights based on loss\n",
        "# We use SGD with momentum\n",
        "\n",
        "optimizer = optim.SGD(parameters_to_optimize, lr=LR, momentum=MOMENTUM, weight_decay=WEIGHT_DECAY)\n",
        "\n",
        "#optimizer = optim.Adam(parameters_to_optimize, LR)\n",
        "\n",
        "# Define scheduler\n",
        "# A scheduler dynamically changes learning rate\n",
        "# The most common schedule is the step(-down), which multiplies learning rate by gamma every STEP_SIZE epochs\n",
        "scheduler = optim.lr_scheduler.StepLR(optimizer, step_size=STEP_SIZE, gamma=GAMMA)"
      ],
      "execution_count": 0,
      "outputs": []
    },
    {
      "cell_type": "code",
      "metadata": {
        "id": "ZcoQ5fD49yT_",
        "colab_type": "code",
        "outputId": "78f4554c-d5cb-4056-88a3-7b2a8d27d9cb",
        "colab": {
          "base_uri": "https://localhost:8080/",
          "height": 1000
        }
      },
      "source": [
        "# By default, everything is loaded to cpu\n",
        "net = net.to(DEVICE) # this will bring the network to GPU if DEVICE is cuda\n",
        "cudnn.benchmark # Calling this optimizes runtime\n",
        "running_corrects = 0\n",
        "current_step = 0\n",
        "# Start iterating over the epochs\n",
        "# Iterate over the dataset\n",
        "losses = []\n",
        "accuracies = []\n",
        "for epoch in range(NUM_EPOCHS):\n",
        "  scheduler.step() \n",
        "  \n",
        "  for images, labels in  tqdm(photos_dataloader):\n",
        "\n",
        "    # Bring data over the device of choice\n",
        "    images = images.to(DEVICE)\n",
        "    labels = labels.to(DEVICE)\n",
        "\n",
        "    net.train() # Sets module in training mode\n",
        "\n",
        "    # PyTorch, by default, accumulates gradients after each backward pass\n",
        "    # We need to manually set the gradients to zero before starting a new iteration\n",
        "    optimizer.zero_grad() # Zero-ing the gradients\n",
        "\n",
        "    # Forward pass to the network\n",
        "    outputs = net(images)\n",
        "\n",
        "    # Compute loss based on output and ground truth\n",
        "    loss = criterion(outputs, labels)\n",
        "\n",
        "    # Log loss\n",
        "    if current_step % LOG_FREQUENCY == 0:\n",
        "      print('Step {}, Loss {}'.format(current_step, loss.item()))\n",
        "\n",
        "    # Compute gradients for each layer and update weights\n",
        "\n",
        "    loss.backward()  # backward pass: computes gradients\n",
        "\n",
        "    optimizer.step() # update weights based on accumulated gradients\n",
        "\n",
        "    current_step += 1\n",
        "    # Get predictions\n",
        "    _, preds = torch.max(outputs.data, 1)\n",
        "\n",
        "    # Update Corrects\n",
        "    running_corrects += torch.sum(preds == labels.data).data.item()\n",
        "    losses.append(loss.item())\n",
        "\n",
        "  # Calculate Accuracy\n",
        "  accuracy = running_corrects / float(len(photos))\n",
        "  accuracies.append(accuracy)\n",
        "  print(\"Accuracy on training set = \"  + str(accuracy))\n",
        "  running_corrects = 0\n",
        "    "
      ],
      "execution_count": 10,
      "outputs": [
        {
          "output_type": "stream",
          "text": [
            "/usr/local/lib/python3.6/dist-packages/torch/optim/lr_scheduler.py:123: UserWarning: Detected call of `lr_scheduler.step()` before `optimizer.step()`. In PyTorch 1.1.0 and later, you should call them in the opposite order: `optimizer.step()` before `lr_scheduler.step()`.  Failure to do this will result in PyTorch skipping the first value of the learning rate schedule. See more details at https://pytorch.org/docs/stable/optim.html#how-to-adjust-learning-rate\n",
            "  \"https://pytorch.org/docs/stable/optim.html#how-to-adjust-learning-rate\", UserWarning)\n",
            "  7%|▋         | 1/14 [00:02<00:37,  2.89s/it]"
          ],
          "name": "stderr"
        },
        {
          "output_type": "stream",
          "text": [
            "Step 0, Loss 1.834657073020935\n"
          ],
          "name": "stdout"
        },
        {
          "output_type": "stream",
          "text": [
            " 79%|███████▊  | 11/14 [00:07<00:01,  1.97it/s]"
          ],
          "name": "stderr"
        },
        {
          "output_type": "stream",
          "text": [
            "Step 10, Loss 1.3158570528030396\n"
          ],
          "name": "stdout"
        },
        {
          "output_type": "stream",
          "text": [
            "100%|██████████| 14/14 [00:08<00:00,  1.68it/s]\n",
            "  0%|          | 0/14 [00:00<?, ?it/s]"
          ],
          "name": "stderr"
        },
        {
          "output_type": "stream",
          "text": [
            "Accuracy on training set = 0.4598802395209581\n"
          ],
          "name": "stdout"
        },
        {
          "output_type": "stream",
          "text": [
            " 50%|█████     | 7/14 [00:05<00:05,  1.36it/s]"
          ],
          "name": "stderr"
        },
        {
          "output_type": "stream",
          "text": [
            "Step 20, Loss 0.7910177111625671\n"
          ],
          "name": "stdout"
        },
        {
          "output_type": "stream",
          "text": [
            "100%|██████████| 14/14 [00:08<00:00,  1.71it/s]\n",
            "  0%|          | 0/14 [00:00<?, ?it/s]"
          ],
          "name": "stderr"
        },
        {
          "output_type": "stream",
          "text": [
            "Accuracy on training set = 0.7239520958083833\n"
          ],
          "name": "stdout"
        },
        {
          "output_type": "stream",
          "text": [
            " 21%|██▏       | 3/14 [00:03<00:16,  1.53s/it]"
          ],
          "name": "stderr"
        },
        {
          "output_type": "stream",
          "text": [
            "Step 30, Loss 0.6162962913513184\n"
          ],
          "name": "stdout"
        },
        {
          "output_type": "stream",
          "text": [
            " 93%|█████████▎| 13/14 [00:08<00:00,  2.73it/s]"
          ],
          "name": "stderr"
        },
        {
          "output_type": "stream",
          "text": [
            "Step 40, Loss 0.38046374917030334\n"
          ],
          "name": "stdout"
        },
        {
          "output_type": "stream",
          "text": [
            "100%|██████████| 14/14 [00:08<00:00,  1.72it/s]\n",
            "  0%|          | 0/14 [00:00<?, ?it/s]"
          ],
          "name": "stderr"
        },
        {
          "output_type": "stream",
          "text": [
            "Accuracy on training set = 0.8640718562874251\n"
          ],
          "name": "stdout"
        },
        {
          "output_type": "stream",
          "text": [
            " 64%|██████▍   | 9/14 [00:07<00:04,  1.24it/s]"
          ],
          "name": "stderr"
        },
        {
          "output_type": "stream",
          "text": [
            "Step 50, Loss 0.2987176775932312\n"
          ],
          "name": "stdout"
        },
        {
          "output_type": "stream",
          "text": [
            "100%|██████████| 14/14 [00:08<00:00,  1.69it/s]\n",
            "  0%|          | 0/14 [00:00<?, ?it/s]"
          ],
          "name": "stderr"
        },
        {
          "output_type": "stream",
          "text": [
            "Accuracy on training set = 0.911377245508982\n"
          ],
          "name": "stdout"
        },
        {
          "output_type": "stream",
          "text": [
            " 36%|███▌      | 5/14 [00:04<00:10,  1.17s/it]"
          ],
          "name": "stderr"
        },
        {
          "output_type": "stream",
          "text": [
            "Step 60, Loss 0.2857263684272766\n"
          ],
          "name": "stdout"
        },
        {
          "output_type": "stream",
          "text": [
            "100%|██████████| 14/14 [00:08<00:00,  1.72it/s]\n",
            "  0%|          | 0/14 [00:00<?, ?it/s]"
          ],
          "name": "stderr"
        },
        {
          "output_type": "stream",
          "text": [
            "Accuracy on training set = 0.9347305389221557\n"
          ],
          "name": "stdout"
        },
        {
          "output_type": "stream",
          "text": [
            "\r  7%|▋         | 1/14 [00:02<00:35,  2.74s/it]"
          ],
          "name": "stderr"
        },
        {
          "output_type": "stream",
          "text": [
            "Step 70, Loss 0.31792131066322327\n"
          ],
          "name": "stdout"
        },
        {
          "output_type": "stream",
          "text": [
            " 79%|███████▊  | 11/14 [00:07<00:01,  1.91it/s]"
          ],
          "name": "stderr"
        },
        {
          "output_type": "stream",
          "text": [
            "Step 80, Loss 0.18551801145076752\n"
          ],
          "name": "stdout"
        },
        {
          "output_type": "stream",
          "text": [
            "100%|██████████| 14/14 [00:08<00:00,  1.70it/s]\n",
            "  0%|          | 0/14 [00:00<?, ?it/s]"
          ],
          "name": "stderr"
        },
        {
          "output_type": "stream",
          "text": [
            "Accuracy on training set = 0.9413173652694611\n"
          ],
          "name": "stdout"
        },
        {
          "output_type": "stream",
          "text": [
            " 50%|█████     | 7/14 [00:05<00:05,  1.35it/s]"
          ],
          "name": "stderr"
        },
        {
          "output_type": "stream",
          "text": [
            "Step 90, Loss 0.2353890836238861\n"
          ],
          "name": "stdout"
        },
        {
          "output_type": "stream",
          "text": [
            "100%|██████████| 14/14 [00:08<00:00,  1.70it/s]\n",
            "  0%|          | 0/14 [00:00<?, ?it/s]"
          ],
          "name": "stderr"
        },
        {
          "output_type": "stream",
          "text": [
            "Accuracy on training set = 0.9497005988023952\n"
          ],
          "name": "stdout"
        },
        {
          "output_type": "stream",
          "text": [
            " 21%|██▏       | 3/14 [00:03<00:16,  1.47s/it]"
          ],
          "name": "stderr"
        },
        {
          "output_type": "stream",
          "text": [
            "Step 100, Loss 0.16565614938735962\n"
          ],
          "name": "stdout"
        },
        {
          "output_type": "stream",
          "text": [
            " 93%|█████████▎| 13/14 [00:08<00:00,  2.66it/s]"
          ],
          "name": "stderr"
        },
        {
          "output_type": "stream",
          "text": [
            "Step 110, Loss 0.2103806585073471\n"
          ],
          "name": "stdout"
        },
        {
          "output_type": "stream",
          "text": [
            "100%|██████████| 14/14 [00:08<00:00,  1.71it/s]\n",
            "  0%|          | 0/14 [00:00<?, ?it/s]"
          ],
          "name": "stderr"
        },
        {
          "output_type": "stream",
          "text": [
            "Accuracy on training set = 0.9508982035928144\n"
          ],
          "name": "stdout"
        },
        {
          "output_type": "stream",
          "text": [
            " 64%|██████▍   | 9/14 [00:07<00:04,  1.24it/s]"
          ],
          "name": "stderr"
        },
        {
          "output_type": "stream",
          "text": [
            "Step 120, Loss 0.18364638090133667\n"
          ],
          "name": "stdout"
        },
        {
          "output_type": "stream",
          "text": [
            "100%|██████████| 14/14 [00:08<00:00,  1.70it/s]\n",
            "  0%|          | 0/14 [00:00<?, ?it/s]"
          ],
          "name": "stderr"
        },
        {
          "output_type": "stream",
          "text": [
            "Accuracy on training set = 0.9580838323353293\n"
          ],
          "name": "stdout"
        },
        {
          "output_type": "stream",
          "text": [
            " 36%|███▌      | 5/14 [00:05<00:11,  1.23s/it]"
          ],
          "name": "stderr"
        },
        {
          "output_type": "stream",
          "text": [
            "Step 130, Loss 0.1302507370710373\n"
          ],
          "name": "stdout"
        },
        {
          "output_type": "stream",
          "text": [
            "100%|██████████| 14/14 [00:08<00:00,  1.68it/s]\n",
            "  0%|          | 0/14 [00:00<?, ?it/s]"
          ],
          "name": "stderr"
        },
        {
          "output_type": "stream",
          "text": [
            "Accuracy on training set = 0.9646706586826347\n"
          ],
          "name": "stdout"
        },
        {
          "output_type": "stream",
          "text": [
            "\r  7%|▋         | 1/14 [00:02<00:35,  2.74s/it]"
          ],
          "name": "stderr"
        },
        {
          "output_type": "stream",
          "text": [
            "Step 140, Loss 0.17585782706737518\n"
          ],
          "name": "stdout"
        },
        {
          "output_type": "stream",
          "text": [
            " 79%|███████▊  | 11/14 [00:07<00:01,  1.93it/s]"
          ],
          "name": "stderr"
        },
        {
          "output_type": "stream",
          "text": [
            "Step 150, Loss 0.12995338439941406\n"
          ],
          "name": "stdout"
        },
        {
          "output_type": "stream",
          "text": [
            "100%|██████████| 14/14 [00:08<00:00,  1.71it/s]\n",
            "  0%|          | 0/14 [00:00<?, ?it/s]"
          ],
          "name": "stderr"
        },
        {
          "output_type": "stream",
          "text": [
            "Accuracy on training set = 0.9610778443113772\n"
          ],
          "name": "stdout"
        },
        {
          "output_type": "stream",
          "text": [
            " 50%|█████     | 7/14 [00:05<00:05,  1.36it/s]"
          ],
          "name": "stderr"
        },
        {
          "output_type": "stream",
          "text": [
            "Step 160, Loss 0.11305443942546844\n"
          ],
          "name": "stdout"
        },
        {
          "output_type": "stream",
          "text": [
            "100%|██████████| 14/14 [00:08<00:00,  1.71it/s]\n",
            "  0%|          | 0/14 [00:00<?, ?it/s]"
          ],
          "name": "stderr"
        },
        {
          "output_type": "stream",
          "text": [
            "Accuracy on training set = 0.9586826347305389\n"
          ],
          "name": "stdout"
        },
        {
          "output_type": "stream",
          "text": [
            " 21%|██▏       | 3/14 [00:03<00:16,  1.45s/it]"
          ],
          "name": "stderr"
        },
        {
          "output_type": "stream",
          "text": [
            "Step 170, Loss 0.12199421972036362\n"
          ],
          "name": "stdout"
        },
        {
          "output_type": "stream",
          "text": [
            " 93%|█████████▎| 13/14 [00:08<00:00,  2.66it/s]"
          ],
          "name": "stderr"
        },
        {
          "output_type": "stream",
          "text": [
            "Step 180, Loss 0.14531901478767395\n"
          ],
          "name": "stdout"
        },
        {
          "output_type": "stream",
          "text": [
            "100%|██████████| 14/14 [00:08<00:00,  1.70it/s]\n",
            "  0%|          | 0/14 [00:00<?, ?it/s]"
          ],
          "name": "stderr"
        },
        {
          "output_type": "stream",
          "text": [
            "Accuracy on training set = 0.9610778443113772\n"
          ],
          "name": "stdout"
        },
        {
          "output_type": "stream",
          "text": [
            " 64%|██████▍   | 9/14 [00:07<00:04,  1.23it/s]"
          ],
          "name": "stderr"
        },
        {
          "output_type": "stream",
          "text": [
            "Step 190, Loss 0.13102807104587555\n"
          ],
          "name": "stdout"
        },
        {
          "output_type": "stream",
          "text": [
            "100%|██████████| 14/14 [00:08<00:00,  1.71it/s]\n",
            "  0%|          | 0/14 [00:00<?, ?it/s]"
          ],
          "name": "stderr"
        },
        {
          "output_type": "stream",
          "text": [
            "Accuracy on training set = 0.9634730538922156\n"
          ],
          "name": "stdout"
        },
        {
          "output_type": "stream",
          "text": [
            " 36%|███▌      | 5/14 [00:04<00:10,  1.20s/it]"
          ],
          "name": "stderr"
        },
        {
          "output_type": "stream",
          "text": [
            "Step 200, Loss 0.10484744608402252\n"
          ],
          "name": "stdout"
        },
        {
          "output_type": "stream",
          "text": [
            "100%|██████████| 14/14 [00:08<00:00,  1.70it/s]\n",
            "  0%|          | 0/14 [00:00<?, ?it/s]"
          ],
          "name": "stderr"
        },
        {
          "output_type": "stream",
          "text": [
            "Accuracy on training set = 0.9682634730538923\n"
          ],
          "name": "stdout"
        },
        {
          "output_type": "stream",
          "text": [
            "\r  7%|▋         | 1/14 [00:02<00:33,  2.57s/it]"
          ],
          "name": "stderr"
        },
        {
          "output_type": "stream",
          "text": [
            "Step 210, Loss 0.173848956823349\n"
          ],
          "name": "stdout"
        },
        {
          "output_type": "stream",
          "text": [
            " 79%|███████▊  | 11/14 [00:07<00:01,  1.89it/s]"
          ],
          "name": "stderr"
        },
        {
          "output_type": "stream",
          "text": [
            "Step 220, Loss 0.10744453966617584\n"
          ],
          "name": "stdout"
        },
        {
          "output_type": "stream",
          "text": [
            "100%|██████████| 14/14 [00:08<00:00,  1.72it/s]\n",
            "  0%|          | 0/14 [00:00<?, ?it/s]"
          ],
          "name": "stderr"
        },
        {
          "output_type": "stream",
          "text": [
            "Accuracy on training set = 0.9688622754491018\n"
          ],
          "name": "stdout"
        },
        {
          "output_type": "stream",
          "text": [
            " 50%|█████     | 7/14 [00:05<00:05,  1.36it/s]"
          ],
          "name": "stderr"
        },
        {
          "output_type": "stream",
          "text": [
            "Step 230, Loss 0.1343015730381012\n"
          ],
          "name": "stdout"
        },
        {
          "output_type": "stream",
          "text": [
            "100%|██████████| 14/14 [00:08<00:00,  1.70it/s]\n",
            "  0%|          | 0/14 [00:00<?, ?it/s]"
          ],
          "name": "stderr"
        },
        {
          "output_type": "stream",
          "text": [
            "Accuracy on training set = 0.9688622754491018\n"
          ],
          "name": "stdout"
        },
        {
          "output_type": "stream",
          "text": [
            " 21%|██▏       | 3/14 [00:03<00:15,  1.43s/it]"
          ],
          "name": "stderr"
        },
        {
          "output_type": "stream",
          "text": [
            "Step 240, Loss 0.10693290084600449\n"
          ],
          "name": "stdout"
        },
        {
          "output_type": "stream",
          "text": [
            " 93%|█████████▎| 13/14 [00:08<00:00,  2.72it/s]"
          ],
          "name": "stderr"
        },
        {
          "output_type": "stream",
          "text": [
            "Step 250, Loss 0.07951746881008148\n"
          ],
          "name": "stdout"
        },
        {
          "output_type": "stream",
          "text": [
            "100%|██████████| 14/14 [00:08<00:00,  1.72it/s]\n",
            "  0%|          | 0/14 [00:00<?, ?it/s]"
          ],
          "name": "stderr"
        },
        {
          "output_type": "stream",
          "text": [
            "Accuracy on training set = 0.9706586826347305\n"
          ],
          "name": "stdout"
        },
        {
          "output_type": "stream",
          "text": [
            " 64%|██████▍   | 9/14 [00:06<00:03,  1.26it/s]"
          ],
          "name": "stderr"
        },
        {
          "output_type": "stream",
          "text": [
            "Step 260, Loss 0.15000149607658386\n"
          ],
          "name": "stdout"
        },
        {
          "output_type": "stream",
          "text": [
            "100%|██████████| 14/14 [00:08<00:00,  1.69it/s]\n",
            "  0%|          | 0/14 [00:00<?, ?it/s]"
          ],
          "name": "stderr"
        },
        {
          "output_type": "stream",
          "text": [
            "Accuracy on training set = 0.9778443113772455\n"
          ],
          "name": "stdout"
        },
        {
          "output_type": "stream",
          "text": [
            " 36%|███▌      | 5/14 [00:04<00:09,  1.10s/it]"
          ],
          "name": "stderr"
        },
        {
          "output_type": "stream",
          "text": [
            "Step 270, Loss 0.1430426388978958\n"
          ],
          "name": "stdout"
        },
        {
          "output_type": "stream",
          "text": [
            "100%|██████████| 14/14 [00:08<00:00,  1.72it/s]"
          ],
          "name": "stderr"
        },
        {
          "output_type": "stream",
          "text": [
            "Accuracy on training set = 0.9688622754491018\n"
          ],
          "name": "stdout"
        },
        {
          "output_type": "stream",
          "text": [
            "\n"
          ],
          "name": "stderr"
        }
      ]
    },
    {
      "cell_type": "code",
      "metadata": {
        "id": "CcOn5EzzhuCn",
        "colab_type": "code",
        "colab": {
          "base_uri": "https://localhost:8080/",
          "height": 278
        },
        "outputId": "13525c3b-d0fb-470e-a051-c29300f9d4ca"
      },
      "source": [
        "import numpy as np\n",
        "import matplotlib.pyplot as plt\n",
        "\n",
        "X = np.zeros(NUM_EPOCHS)\n",
        "n = 0\n",
        "cnt = 0\n",
        "for l in losses:\n",
        "  X[n] += l\n",
        "  cnt += 1\n",
        "  if( cnt == 14):\n",
        "    X[n] = X[n] / 14\n",
        "    n += 1\n",
        "    cnt = 0\n",
        "  \n",
        "x_epochs = np.linspace(1,NUM_EPOCHS,NUM_EPOCHS)\n",
        "\n",
        "plt.plot(x_epochs, X , accuracies, '-')\n",
        "plt.xlabel(\"Epoch\")\n",
        "plt.legend(['Loss', 'accuracies'])\n",
        "\n",
        "plt.show()"
      ],
      "execution_count": 11,
      "outputs": [
        {
          "output_type": "display_data",
          "data": {
            "image/png": "[encoded data removed]",
            "text/plain": [
              "<Figure size 432x288 with 1 Axes>"
            ]
          },
          "metadata": {
            "tags": [],
            "needs_background": "light"
          }
        }
      ]
    },
    {
      "cell_type": "markdown",
      "metadata": {
        "id": "UsHFI-GAJd69",
        "colab_type": "text"
      },
      "source": [
        "##**Test**"
      ]
    },
    {
      "cell_type": "code",
      "metadata": {
        "id": "EO3HV5pqJg1o",
        "colab_type": "code",
        "outputId": "174d28b9-2263-45a0-a674-eece8e2d7009",
        "colab": {
          "base_uri": "https://localhost:8080/",
          "height": 52
        }
      },
      "source": [
        "net = net.to(DEVICE) # this will bring the network to GPU if DEVICE is cuda\n",
        "net.train(False) # Set Network to evaluation mode\n",
        "losses = []\n",
        "running_corrects = 0\n",
        "for images, labels in tqdm(art_painting_dataloader):\n",
        "  images = images.to(DEVICE)\n",
        "  labels = labels.to(DEVICE)\n",
        "\n",
        "  # Forward Pass\n",
        "  outputs = net(images)\n",
        "\n",
        "  loss = criterion(outputs, labels)\n",
        "  losses.append(loss)\n",
        "  # Get predictions\n",
        "  _, preds = torch.max(outputs.data, 1)\n",
        "\n",
        "  # Update Corrects\n",
        "  running_corrects += torch.sum(preds == labels.data).data.item()\n",
        "\n",
        "# Calculate Accuracy\n",
        "accuracy = running_corrects / float(len(art_painting))\n",
        "\n",
        "print('Test Accuracy: {}'.format(accuracy))"
      ],
      "execution_count": 12,
      "outputs": [
        {
          "output_type": "stream",
          "text": [
            "100%|██████████| 16/16 [00:08<00:00,  1.78it/s]"
          ],
          "name": "stderr"
        },
        {
          "output_type": "stream",
          "text": [
            "Test Accuracy: 0.453125\n"
          ],
          "name": "stdout"
        },
        {
          "output_type": "stream",
          "text": [
            "\n"
          ],
          "name": "stderr"
        }
      ]
    },
    {
      "cell_type": "code",
      "metadata": {
        "id": "zBFGNhVAmAls",
        "colab_type": "code",
        "colab": {
          "base_uri": "https://localhost:8080/",
          "height": 296
        },
        "outputId": "25365d25-b3c6-40f9-b03c-0d2347313673"
      },
      "source": [
        "batches = np.linspace(0, 15, 16)\n",
        "plt.plot(batches, losses, '-')\n",
        "plt.xlabel(\"Epoch\")\n",
        "plt.legend(['Loss'])\n"
      ],
      "execution_count": 13,
      "outputs": [
        {
          "output_type": "execute_result",
          "data": {
            "text/plain": [
              "<matplotlib.legend.Legend at 0x7f5f22db69b0>"
            ]
          },
          "metadata": {
            "tags": []
          },
          "execution_count": 13
        },
        {
          "output_type": "display_data",
          "data": {
            "image/png": "[encoded data removed]",
            "text/plain": [
              "<Figure size 432x288 with 1 Axes>"
            ]
          },
          "metadata": {
            "tags": [],
            "needs_background": "light"
          }
        }
      ]
    },
    {
      "cell_type": "code",
      "metadata": {
        "id": "IPzBRkB3iKWU",
        "colab_type": "code",
        "outputId": "bbb07ca8-62a2-4109-99b4-2a6c661dc00f",
        "colab": {
          "base_uri": "https://localhost:8080/",
          "height": 34
        }
      },
      "source": [
        "loss.item()"
      ],
      "execution_count": 14,
      "outputs": [
        {
          "output_type": "execute_result",
          "data": {
            "text/plain": [
              "4.203427314758301"
            ]
          },
          "metadata": {
            "tags": []
          },
          "execution_count": 14
        }
      ]
    },
    {
      "cell_type": "markdown",
      "metadata": {
        "id": "2NHDb2yBC7jX",
        "colab_type": "text"
      },
      "source": [
        "# Model with DANN"
      ]
    },
    {
      "cell_type": "markdown",
      "metadata": {
        "id": "f9PNdrqJdkSO",
        "colab_type": "text"
      },
      "source": [
        "## Network"
      ]
    },
    {
      "cell_type": "code",
      "metadata": {
        "id": "xC1hCskMXaTC",
        "colab_type": "code",
        "colab": {}
      },
      "source": [
        "net = alexNetDA(num_classes = 7)\n",
        "net = net.to(DEVICE)"
      ],
      "execution_count": 0,
      "outputs": []
    },
    {
      "cell_type": "markdown",
      "metadata": {
        "id": "NemzVoaidnQA",
        "colab_type": "text"
      },
      "source": [
        "## Loss, Optim and Scheduler"
      ]
    },
    {
      "cell_type": "code",
      "metadata": {
        "id": "PbFj42qsER6M",
        "colab_type": "code",
        "colab": {}
      },
      "source": [
        "criterion_class = nn.CrossEntropyLoss() \n",
        "criterion_domain = nn.CrossEntropyLoss()\n",
        "\n",
        "parameters_to_optimize = net.parameters() \n",
        "\n",
        "optimizer = optim.SGD(parameters_to_optimize, lr=LR, momentum=MOMENTUM, weight_decay=WEIGHT_DECAY)\n",
        "#optimizer = optim.Adam(parameters_to_optimize, LR)\n",
        "\n",
        "\n",
        "scheduler = optim.lr_scheduler.StepLR(optimizer, step_size=STEP_SIZE, gamma=GAMMA)"
      ],
      "execution_count": 0,
      "outputs": []
    },
    {
      "cell_type": "markdown",
      "metadata": {
        "id": "TgONyH0xfN9W",
        "colab_type": "text"
      },
      "source": [
        "## Test function"
      ]
    },
    {
      "cell_type": "code",
      "metadata": {
        "id": "Qw4arKipfR0Q",
        "colab_type": "code",
        "colab": {}
      },
      "source": [
        "def testFunction(datasetName, epoch):  \n",
        "  net = torch.load('model_epoch_' + str(epoch) + '.pt')\n",
        "  net = net.to(DEVICE) # this will bring the network to GPU if DEVICE is cuda\n",
        "  net.train(False) # Set Network to evaluation mode\n",
        "  if (datasetName == 'photo'):\n",
        "    dataLoader = DataLoader(photos, batch_size=BATCH_SIZE, shuffle=True, num_workers=4)\n",
        "  elif( datasetName == 'artPainting'):\n",
        "    dataLoader = DataLoader(art_painting, batch_size=BATCH_SIZE, shuffle=False, num_workers=4)\n",
        "\n",
        "  lenLoader = len(dataLoader)\n",
        "  iterator = iter(dataLoader)\n",
        "  totalLen = 0\n",
        "  running_corrects = 0\n",
        "  criterion = nn.CrossEntropyLoss() \n",
        "  for i in range(lenLoader):\n",
        "    t_img, t_label = next(iterator)\n",
        "\n",
        "    t_img = t_img.to(DEVICE)\n",
        "    t_label = t_label.to(DEVICE)\n",
        "\n",
        "    # Forward Pass\n",
        "    classes_output = net(t_img)\n",
        "\n",
        "    loss = criterion(classes_output, t_label)\n",
        "\n",
        "    # Get predictions\n",
        "    _, preds = torch.max(classes_output.data, 1)\n",
        "\n",
        "    # Update Corrects\n",
        "    running_corrects += torch.sum(preds == t_label.data).data.item()\n",
        "    totalLen += len(t_img)\n",
        "\n",
        "  # Calculate Accuracy\n",
        "  accuracy = running_corrects / float(totalLen)\n",
        "\n",
        "  print(f'Accuracy on  {datasetName}' f' during epoch {epoch}' f' is {accuracy}' f' loss is {loss}')"
      ],
      "execution_count": 0,
      "outputs": []
    },
    {
      "cell_type": "markdown",
      "metadata": {
        "id": "yW0rUNTbduSm",
        "colab_type": "text"
      },
      "source": [
        "## Train "
      ]
    },
    {
      "cell_type": "code",
      "metadata": {
        "id": "UoZJAcaHEtYT",
        "colab_type": "code",
        "colab": {}
      },
      "source": [
        "#photos_dataloader = DataLoader(photos, batch_size=BATCH_SIZE, shuffle=True, num_workers=4)\n",
        "#art_painting_dataloader = DataLoader(art_painting, batch_size=BATCH_SIZE, shuffle=False, num_workers=4)\n",
        "\n",
        "max_batches = max(len(photos_dataloader), len(art_painting_dataloader))\n",
        "min_batches = min(len(photos_dataloader), len(art_painting_dataloader))"
      ],
      "execution_count": 0,
      "outputs": []
    },
    {
      "cell_type": "code",
      "metadata": {
        "id": "O4tSP1-uEPQt",
        "colab_type": "code",
        "outputId": "db54aa4f-70a5-48fd-e827-c7ed0fec6da8",
        "colab": {
          "base_uri": "https://localhost:8080/",
          "height": 1000
        }
      },
      "source": [
        "# By default, everything is loaded to cpu\n",
        "net = net.to(DEVICE) # this will bring the network to GPU if DEVICE is cuda\n",
        "\n",
        "cudnn.benchmark # Calling this optimizes runtime\n",
        "running_corrects = 0\n",
        "current_step = 0\n",
        "# Start iterating over the epochs\n",
        "# Iterate over the dataset\n",
        "for epoch in range(NUM_EPOCHS):\n",
        "  scheduler.step() \n",
        "  iterPh = iter(photos_dataloader)\n",
        "  iterAP = iter(art_painting_dataloader)\n",
        "  for batch in range(max_batches):\n",
        "    net.train() # Sets module in training mode\n",
        "    optimizer.zero_grad() # Zero-ing the gradients\n",
        "    if( batch == min_batches):\n",
        "      iterPh = iter(photos_dataloader)\n",
        "    images_source, labels_source = next(iterPh)\n",
        "    labels_domain = torch.zeros(len(images_source), dtype=torch.long)\n",
        "    \n",
        "    # Bring data over the device of choice\n",
        "    images_source = images_source.to(DEVICE)\n",
        "    labels_source = labels_source.to(DEVICE)\n",
        "    labels_domain = labels_domain.to(DEVICE)\n",
        "\n",
        "  \n",
        "    # Get the output for classes and domains; class_pred, domain_pred\n",
        "    classes_output = net(images_source)\n",
        "    # Compute the loss on the source domain\n",
        "    loss_s_label = criterion_class(classes_output, labels_source)\n",
        "\n",
        "    domain_output = net(images_source, alfa)\n",
        "\n",
        "    # Compute the loss on the source domain\n",
        "    loss_s_domain = criterion_domain(domain_output, labels_domain)\n",
        "\n",
        "    # Get the output for targets\n",
        "    targets, _ = next(iterAP)\n",
        "    target_domain = torch.ones(len(targets), dtype=torch.long)\n",
        "\n",
        "    # Bring data over the device of choice\n",
        "    targets = targets.to(DEVICE)\n",
        "    target_domain = target_domain.to(DEVICE)\n",
        "\n",
        "    target_output = net(targets, alfa)\n",
        "\n",
        "    # Compute the loss on the source domain\n",
        "    loss_t_domain = criterion_domain(target_output,target_domain)\n",
        "\n",
        "    loss = loss_s_label + loss_s_domain + loss_t_domain\n",
        "    loss.backward()  # backward pass: computes gradients\n",
        "\n",
        "    optimizer.step() # update weights based on accumulated gradients\n",
        "\n",
        "    current_step += 1\n",
        "\n",
        "    print(f'[{batch+1}/{max_batches}] '\n",
        "          f'class_loss: {loss_s_label.item():.4f} ' f's_domain_loss: {loss_s_domain.item():.4f} '\n",
        "          f't_domain_loss: {loss_t_domain.item():.4f} '\n",
        "          )  \n",
        "  torch.save(net, 'model_epoch_{0}.pt'.format(epoch))\n",
        "  testFunction('photo', epoch)\n",
        "  testFunction('artPainting', epoch)\n",
        "  "
      ],
      "execution_count": 20,
      "outputs": [
        {
          "output_type": "stream",
          "text": [
            "[1/16] class_loss: 2.0707 s_domain_loss: 0.9977 t_domain_loss: 0.4991 \n",
            "[2/16] class_loss: 1.9446 s_domain_loss: 0.9673 t_domain_loss: 0.5191 \n",
            "[3/16] class_loss: 1.9480 s_domain_loss: 0.9360 t_domain_loss: 0.5286 \n",
            "[4/16] class_loss: 1.7551 s_domain_loss: 0.9015 t_domain_loss: 0.5658 \n",
            "[5/16] class_loss: 1.7035 s_domain_loss: 0.8603 t_domain_loss: 0.6112 \n",
            "[6/16] class_loss: 1.7963 s_domain_loss: 0.8032 t_domain_loss: 0.6419 \n",
            "[7/16] class_loss: 1.7316 s_domain_loss: 0.7505 t_domain_loss: 0.6846 \n",
            "[8/16] class_loss: 1.6178 s_domain_loss: 0.7053 t_domain_loss: 0.7412 \n",
            "[9/16] class_loss: 1.4888 s_domain_loss: 0.6639 t_domain_loss: 0.7608 \n",
            "[10/16] class_loss: 1.2486 s_domain_loss: 0.6355 t_domain_loss: 0.8032 \n",
            "[11/16] class_loss: 1.2831 s_domain_loss: 0.6076 t_domain_loss: 0.8398 \n",
            "[12/16] class_loss: 1.2915 s_domain_loss: 0.6012 t_domain_loss: 0.8469 \n",
            "[13/16] class_loss: 1.0258 s_domain_loss: 0.5956 t_domain_loss: 0.8526 \n",
            "[14/16] class_loss: 1.1303 s_domain_loss: 0.5828 t_domain_loss: 0.8485 \n",
            "[15/16] class_loss: 0.9524 s_domain_loss: 0.6014 t_domain_loss: 0.8370 \n",
            "[16/16] class_loss: 0.9308 s_domain_loss: 0.6197 t_domain_loss: 0.8244 \n",
            "Accuracy on  photo during epoch 0 is 0.7113772455089821 loss is 0.8932108879089355\n",
            "Accuracy on  artPainting during epoch 0 is 0.29833984375 loss is 2.089669704437256\n",
            "[1/16] class_loss: 1.0334 s_domain_loss: 0.6328 t_domain_loss: 0.7936 \n",
            "[2/16] class_loss: 1.0021 s_domain_loss: 0.6606 t_domain_loss: 0.7760 \n",
            "[3/16] class_loss: 0.8253 s_domain_loss: 0.6736 t_domain_loss: 0.7370 \n",
            "[4/16] class_loss: 0.8153 s_domain_loss: 0.6909 t_domain_loss: 0.7181 \n",
            "[5/16] class_loss: 0.8844 s_domain_loss: 0.7186 t_domain_loss: 0.7041 \n",
            "[6/16] class_loss: 0.8114 s_domain_loss: 0.7352 t_domain_loss: 0.6783 \n",
            "[7/16] class_loss: 0.8379 s_domain_loss: 0.7567 t_domain_loss: 0.6609 \n",
            "[8/16] class_loss: 0.6738 s_domain_loss: 0.7623 t_domain_loss: 0.6592 \n",
            "[9/16] class_loss: 0.6828 s_domain_loss: 0.7658 t_domain_loss: 0.6369 \n",
            "[10/16] class_loss: 0.6452 s_domain_loss: 0.7754 t_domain_loss: 0.6432 \n",
            "[11/16] class_loss: 0.7733 s_domain_loss: 0.7586 t_domain_loss: 0.6549 \n",
            "[12/16] class_loss: 0.6889 s_domain_loss: 0.7703 t_domain_loss: 0.6535 \n",
            "[13/16] class_loss: 0.5530 s_domain_loss: 0.7452 t_domain_loss: 0.6633 \n",
            "[14/16] class_loss: 0.1365 s_domain_loss: 0.7231 t_domain_loss: 0.6788 \n",
            "[15/16] class_loss: 0.5623 s_domain_loss: 0.7228 t_domain_loss: 0.6932 \n",
            "[16/16] class_loss: 0.5292 s_domain_loss: 0.7073 t_domain_loss: 0.7124 \n",
            "Accuracy on  photo during epoch 1 is 0.870059880239521 loss is 0.46998658776283264\n",
            "Accuracy on  artPainting during epoch 1 is 0.3916015625 loss is 2.320375442504883\n",
            "[1/16] class_loss: 0.5523 s_domain_loss: 0.6811 t_domain_loss: 0.7189 \n",
            "[2/16] class_loss: 0.5041 s_domain_loss: 0.6667 t_domain_loss: 0.7376 \n",
            "[3/16] class_loss: 0.4809 s_domain_loss: 0.6665 t_domain_loss: 0.7340 \n",
            "[4/16] class_loss: 0.5153 s_domain_loss: 0.6500 t_domain_loss: 0.7427 \n",
            "[5/16] class_loss: 0.4694 s_domain_loss: 0.6548 t_domain_loss: 0.7536 \n",
            "[6/16] class_loss: 0.4426 s_domain_loss: 0.6570 t_domain_loss: 0.7481 \n",
            "[7/16] class_loss: 0.4982 s_domain_loss: 0.6641 t_domain_loss: 0.7432 \n",
            "[8/16] class_loss: 0.5124 s_domain_loss: 0.6667 t_domain_loss: 0.7445 \n",
            "[9/16] class_loss: 0.4119 s_domain_loss: 0.6679 t_domain_loss: 0.7221 \n",
            "[10/16] class_loss: 0.4485 s_domain_loss: 0.6816 t_domain_loss: 0.7200 \n",
            "[11/16] class_loss: 0.3974 s_domain_loss: 0.6822 t_domain_loss: 0.7206 \n",
            "[12/16] class_loss: 0.4491 s_domain_loss: 0.7010 t_domain_loss: 0.7039 \n",
            "[13/16] class_loss: 0.4121 s_domain_loss: 0.6965 t_domain_loss: 0.7005 \n",
            "[14/16] class_loss: 0.6134 s_domain_loss: 0.7117 t_domain_loss: 0.6980 \n",
            "[15/16] class_loss: 0.4059 s_domain_loss: 0.7059 t_domain_loss: 0.6945 \n",
            "[16/16] class_loss: 0.3220 s_domain_loss: 0.7012 t_domain_loss: 0.6958 \n",
            "Accuracy on  photo during epoch 2 is 0.9191616766467066 loss is 0.4800548255443573\n",
            "Accuracy on  artPainting during epoch 2 is 0.4208984375 loss is 2.7317824363708496\n",
            "[1/16] class_loss: 0.3542 s_domain_loss: 0.7047 t_domain_loss: 0.6879 \n",
            "[2/16] class_loss: 0.3551 s_domain_loss: 0.6991 t_domain_loss: 0.6946 \n",
            "[3/16] class_loss: 0.3415 s_domain_loss: 0.7039 t_domain_loss: 0.6841 \n",
            "[4/16] class_loss: 0.4141 s_domain_loss: 0.7025 t_domain_loss: 0.6861 \n",
            "[5/16] class_loss: 0.3186 s_domain_loss: 0.6980 t_domain_loss: 0.6962 \n",
            "[6/16] class_loss: 0.4162 s_domain_loss: 0.7008 t_domain_loss: 0.6940 \n",
            "[7/16] class_loss: 0.3646 s_domain_loss: 0.6947 t_domain_loss: 0.6956 \n",
            "[8/16] class_loss: 0.2349 s_domain_loss: 0.7003 t_domain_loss: 0.7032 \n",
            "[9/16] class_loss: 0.3466 s_domain_loss: 0.6915 t_domain_loss: 0.6921 \n",
            "[10/16] class_loss: 0.3500 s_domain_loss: 0.6798 t_domain_loss: 0.6989 \n",
            "[11/16] class_loss: 0.2456 s_domain_loss: 0.6866 t_domain_loss: 0.7083 \n",
            "[12/16] class_loss: 0.3341 s_domain_loss: 0.6881 t_domain_loss: 0.7002 \n",
            "[13/16] class_loss: 0.2151 s_domain_loss: 0.6800 t_domain_loss: 0.7069 \n",
            "[14/16] class_loss: 0.4812 s_domain_loss: 0.6779 t_domain_loss: 0.7093 \n",
            "[15/16] class_loss: 0.2930 s_domain_loss: 0.6781 t_domain_loss: 0.7089 \n",
            "[16/16] class_loss: 0.2978 s_domain_loss: 0.6779 t_domain_loss: 0.7109 \n",
            "Accuracy on  photo during epoch 3 is 0.9389221556886228 loss is 0.2550326883792877\n",
            "Accuracy on  artPainting during epoch 3 is 0.423828125 loss is 3.083324670791626\n",
            "[1/16] class_loss: 0.2792 s_domain_loss: 0.6801 t_domain_loss: 0.7041 \n",
            "[2/16] class_loss: 0.2632 s_domain_loss: 0.6806 t_domain_loss: 0.7084 \n",
            "[3/16] class_loss: 0.3724 s_domain_loss: 0.6919 t_domain_loss: 0.6962 \n",
            "[4/16] class_loss: 0.3546 s_domain_loss: 0.6847 t_domain_loss: 0.6944 \n",
            "[5/16] class_loss: 0.2467 s_domain_loss: 0.6933 t_domain_loss: 0.7001 \n",
            "[6/16] class_loss: 0.2227 s_domain_loss: 0.6755 t_domain_loss: 0.6957 \n",
            "[7/16] class_loss: 0.2227 s_domain_loss: 0.6835 t_domain_loss: 0.6936 \n",
            "[8/16] class_loss: 0.2800 s_domain_loss: 0.7026 t_domain_loss: 0.6967 \n",
            "[9/16] class_loss: 0.2327 s_domain_loss: 0.6818 t_domain_loss: 0.6832 \n",
            "[10/16] class_loss: 0.2377 s_domain_loss: 0.6865 t_domain_loss: 0.6867 \n",
            "[11/16] class_loss: 0.2219 s_domain_loss: 0.6870 t_domain_loss: 0.6941 \n",
            "[12/16] class_loss: 0.3175 s_domain_loss: 0.7042 t_domain_loss: 0.6853 \n",
            "[13/16] class_loss: 0.2837 s_domain_loss: 0.6985 t_domain_loss: 0.6933 \n",
            "[14/16] class_loss: 0.1853 s_domain_loss: 0.6910 t_domain_loss: 0.6956 \n",
            "[15/16] class_loss: 0.2847 s_domain_loss: 0.6786 t_domain_loss: 0.6987 \n",
            "[16/16] class_loss: 0.2501 s_domain_loss: 0.6880 t_domain_loss: 0.7035 \n",
            "Accuracy on  photo during epoch 4 is 0.9479041916167664 loss is 0.05021150782704353\n",
            "Accuracy on  artPainting during epoch 4 is 0.43701171875 loss is 3.3271515369415283\n",
            "[1/16] class_loss: 0.2510 s_domain_loss: 0.6801 t_domain_loss: 0.7010 \n",
            "[2/16] class_loss: 0.2421 s_domain_loss: 0.6715 t_domain_loss: 0.7078 \n",
            "[3/16] class_loss: 0.2528 s_domain_loss: 0.6825 t_domain_loss: 0.6975 \n",
            "[4/16] class_loss: 0.1768 s_domain_loss: 0.6729 t_domain_loss: 0.6971 \n",
            "[5/16] class_loss: 0.2409 s_domain_loss: 0.6743 t_domain_loss: 0.7031 \n",
            "[6/16] class_loss: 0.2963 s_domain_loss: 0.6829 t_domain_loss: 0.6997 \n",
            "[7/16] class_loss: 0.2911 s_domain_loss: 0.6752 t_domain_loss: 0.6990 \n",
            "[8/16] class_loss: 0.1892 s_domain_loss: 0.6755 t_domain_loss: 0.7015 \n",
            "[9/16] class_loss: 0.2026 s_domain_loss: 0.6816 t_domain_loss: 0.6883 \n",
            "[10/16] class_loss: 0.1524 s_domain_loss: 0.6771 t_domain_loss: 0.6909 \n",
            "[11/16] class_loss: 0.3364 s_domain_loss: 0.6798 t_domain_loss: 0.6976 \n",
            "[12/16] class_loss: 0.2175 s_domain_loss: 0.6822 t_domain_loss: 0.6879 \n",
            "[13/16] class_loss: 0.1823 s_domain_loss: 0.6806 t_domain_loss: 0.6942 \n",
            "[14/16] class_loss: 0.3624 s_domain_loss: 0.7143 t_domain_loss: 0.6943 \n",
            "[15/16] class_loss: 0.1409 s_domain_loss: 0.6744 t_domain_loss: 0.6958 \n",
            "[16/16] class_loss: 0.1790 s_domain_loss: 0.6707 t_domain_loss: 0.6988 \n",
            "Accuracy on  photo during epoch 5 is 0.951497005988024 loss is 0.30609196424484253\n",
            "Accuracy on  artPainting during epoch 5 is 0.45654296875 loss is 3.4758012294769287\n",
            "[1/16] class_loss: 0.2370 s_domain_loss: 0.6727 t_domain_loss: 0.6952 \n",
            "[2/16] class_loss: 0.1817 s_domain_loss: 0.6821 t_domain_loss: 0.7006 \n",
            "[3/16] class_loss: 0.1770 s_domain_loss: 0.6776 t_domain_loss: 0.6907 \n",
            "[4/16] class_loss: 0.2372 s_domain_loss: 0.6795 t_domain_loss: 0.6903 \n",
            "[5/16] class_loss: 0.2387 s_domain_loss: 0.6761 t_domain_loss: 0.6962 \n",
            "[6/16] class_loss: 0.1370 s_domain_loss: 0.6687 t_domain_loss: 0.6938 \n",
            "[7/16] class_loss: 0.1955 s_domain_loss: 0.6743 t_domain_loss: 0.6929 \n",
            "[8/16] class_loss: 0.2191 s_domain_loss: 0.6760 t_domain_loss: 0.6948 \n",
            "[9/16] class_loss: 0.1791 s_domain_loss: 0.6815 t_domain_loss: 0.6830 \n",
            "[10/16] class_loss: 0.1953 s_domain_loss: 0.6819 t_domain_loss: 0.6858 \n",
            "[11/16] class_loss: 0.2032 s_domain_loss: 0.6821 t_domain_loss: 0.6927 \n",
            "[12/16] class_loss: 0.1930 s_domain_loss: 0.6679 t_domain_loss: 0.6836 \n",
            "[13/16] class_loss: 0.1838 s_domain_loss: 0.6795 t_domain_loss: 0.6903 \n",
            "[14/16] class_loss: 0.1398 s_domain_loss: 0.7115 t_domain_loss: 0.6905 \n",
            "[15/16] class_loss: 0.1914 s_domain_loss: 0.6723 t_domain_loss: 0.6917 \n",
            "[16/16] class_loss: 0.2071 s_domain_loss: 0.6766 t_domain_loss: 0.6948 \n",
            "Accuracy on  photo during epoch 6 is 0.9574850299401197 loss is 0.17073090374469757\n",
            "Accuracy on  artPainting during epoch 6 is 0.45703125 loss is 3.6247689723968506\n",
            "[1/16] class_loss: 0.2311 s_domain_loss: 0.6651 t_domain_loss: 0.6915 \n",
            "[2/16] class_loss: 0.1140 s_domain_loss: 0.6730 t_domain_loss: 0.6960 \n",
            "[3/16] class_loss: 0.2481 s_domain_loss: 0.6822 t_domain_loss: 0.6859 \n",
            "[4/16] class_loss: 0.1808 s_domain_loss: 0.6704 t_domain_loss: 0.6853 \n",
            "[5/16] class_loss: 0.1965 s_domain_loss: 0.6815 t_domain_loss: 0.6909 \n",
            "[6/16] class_loss: 0.1446 s_domain_loss: 0.6687 t_domain_loss: 0.6892 \n",
            "[7/16] class_loss: 0.1381 s_domain_loss: 0.6679 t_domain_loss: 0.6891 \n",
            "[8/16] class_loss: 0.1504 s_domain_loss: 0.6761 t_domain_loss: 0.6908 \n",
            "[9/16] class_loss: 0.1610 s_domain_loss: 0.6780 t_domain_loss: 0.6804 \n",
            "[10/16] class_loss: 0.1761 s_domain_loss: 0.6707 t_domain_loss: 0.6829 \n",
            "[11/16] class_loss: 0.1299 s_domain_loss: 0.6683 t_domain_loss: 0.6905 \n",
            "[12/16] class_loss: 0.1989 s_domain_loss: 0.6716 t_domain_loss: 0.6815 \n",
            "[13/16] class_loss: 0.2648 s_domain_loss: 0.6916 t_domain_loss: 0.6880 \n",
            "[14/16] class_loss: 0.0163 s_domain_loss: 0.7323 t_domain_loss: 0.6898 \n",
            "[15/16] class_loss: 0.1660 s_domain_loss: 0.6833 t_domain_loss: 0.6914 \n",
            "[16/16] class_loss: 0.1703 s_domain_loss: 0.6637 t_domain_loss: 0.6962 \n",
            "Accuracy on  photo during epoch 7 is 0.9646706586826347 loss is 0.06893110275268555\n",
            "Accuracy on  artPainting during epoch 7 is 0.46044921875 loss is 3.7654967308044434\n",
            "[1/16] class_loss: 0.1658 s_domain_loss: 0.6695 t_domain_loss: 0.6939 \n",
            "[2/16] class_loss: 0.1303 s_domain_loss: 0.6554 t_domain_loss: 0.6996 \n",
            "[3/16] class_loss: 0.1033 s_domain_loss: 0.6647 t_domain_loss: 0.6896 \n",
            "[4/16] class_loss: 0.1968 s_domain_loss: 0.6652 t_domain_loss: 0.6881 \n",
            "[5/16] class_loss: 0.1681 s_domain_loss: 0.6615 t_domain_loss: 0.6925 \n",
            "[6/16] class_loss: 0.1790 s_domain_loss: 0.6679 t_domain_loss: 0.6896 \n",
            "[7/16] class_loss: 0.1930 s_domain_loss: 0.6653 t_domain_loss: 0.6879 \n",
            "[8/16] class_loss: 0.1728 s_domain_loss: 0.6783 t_domain_loss: 0.6882 \n",
            "[9/16] class_loss: 0.1157 s_domain_loss: 0.6702 t_domain_loss: 0.6771 \n",
            "[10/16] class_loss: 0.1329 s_domain_loss: 0.6858 t_domain_loss: 0.6781 \n",
            "[11/16] class_loss: 0.1215 s_domain_loss: 0.6809 t_domain_loss: 0.6848 \n",
            "[12/16] class_loss: 0.1846 s_domain_loss: 0.6699 t_domain_loss: 0.6758 \n",
            "[13/16] class_loss: 0.1555 s_domain_loss: 0.6832 t_domain_loss: 0.6827 \n",
            "[14/16] class_loss: 0.0737 s_domain_loss: 0.7096 t_domain_loss: 0.6849 \n",
            "[15/16] class_loss: 0.2085 s_domain_loss: 0.6708 t_domain_loss: 0.6861 \n",
            "[16/16] class_loss: 0.1908 s_domain_loss: 0.6725 t_domain_loss: 0.6912 \n",
            "Accuracy on  photo during epoch 8 is 0.9676646706586827 loss is 0.07641629129648209\n",
            "Accuracy on  artPainting during epoch 8 is 0.46484375 loss is 3.8658969402313232\n",
            "[1/16] class_loss: 0.2070 s_domain_loss: 0.6733 t_domain_loss: 0.6894 \n",
            "[2/16] class_loss: 0.1495 s_domain_loss: 0.6572 t_domain_loss: 0.6955 \n",
            "[3/16] class_loss: 0.1543 s_domain_loss: 0.6796 t_domain_loss: 0.6862 \n",
            "[4/16] class_loss: 0.1174 s_domain_loss: 0.6623 t_domain_loss: 0.6860 \n",
            "[5/16] class_loss: 0.1690 s_domain_loss: 0.6638 t_domain_loss: 0.6914 \n",
            "[6/16] class_loss: 0.1171 s_domain_loss: 0.6488 t_domain_loss: 0.6898 \n",
            "[7/16] class_loss: 0.1735 s_domain_loss: 0.6644 t_domain_loss: 0.6883 \n",
            "[8/16] class_loss: 0.2035 s_domain_loss: 0.6585 t_domain_loss: 0.6889 \n",
            "[9/16] class_loss: 0.0979 s_domain_loss: 0.6686 t_domain_loss: 0.6784 \n",
            "[10/16] class_loss: 0.1460 s_domain_loss: 0.6658 t_domain_loss: 0.6781 \n",
            "[11/16] class_loss: 0.1083 s_domain_loss: 0.6668 t_domain_loss: 0.6832 \n",
            "[12/16] class_loss: 0.1253 s_domain_loss: 0.6677 t_domain_loss: 0.6737 \n",
            "[13/16] class_loss: 0.1377 s_domain_loss: 0.6710 t_domain_loss: 0.6797 \n",
            "[14/16] class_loss: 0.2220 s_domain_loss: 0.7143 t_domain_loss: 0.6801 \n",
            "[15/16] class_loss: 0.2072 s_domain_loss: 0.6729 t_domain_loss: 0.6794 \n",
            "[16/16] class_loss: 0.1587 s_domain_loss: 0.6627 t_domain_loss: 0.6840 \n",
            "Accuracy on  photo during epoch 9 is 0.9694610778443113 loss is 0.1519046574831009\n",
            "Accuracy on  artPainting during epoch 9 is 0.46923828125 loss is 3.9730801582336426\n",
            "[1/16] class_loss: 0.1777 s_domain_loss: 0.6760 t_domain_loss: 0.6813 \n",
            "[2/16] class_loss: 0.1036 s_domain_loss: 0.6590 t_domain_loss: 0.6875 \n",
            "[3/16] class_loss: 0.1375 s_domain_loss: 0.6595 t_domain_loss: 0.6783 \n",
            "[4/16] class_loss: 0.1013 s_domain_loss: 0.6592 t_domain_loss: 0.6774 \n",
            "[5/16] class_loss: 0.1589 s_domain_loss: 0.6670 t_domain_loss: 0.6826 \n",
            "[6/16] class_loss: 0.1206 s_domain_loss: 0.6534 t_domain_loss: 0.6816 \n",
            "[7/16] class_loss: 0.0853 s_domain_loss: 0.6673 t_domain_loss: 0.6817 \n",
            "[8/16] class_loss: 0.1162 s_domain_loss: 0.6552 t_domain_loss: 0.6826 \n",
            "[9/16] class_loss: 0.1029 s_domain_loss: 0.6607 t_domain_loss: 0.6750 \n",
            "[10/16] class_loss: 0.1586 s_domain_loss: 0.6719 t_domain_loss: 0.6753 \n",
            "[11/16] class_loss: 0.1748 s_domain_loss: 0.6776 t_domain_loss: 0.6820 \n",
            "[12/16] class_loss: 0.1838 s_domain_loss: 0.6556 t_domain_loss: 0.6730 \n",
            "[13/16] class_loss: 0.1228 s_domain_loss: 0.6774 t_domain_loss: 0.6799 \n",
            "[14/16] class_loss: 0.0330 s_domain_loss: 0.6989 t_domain_loss: 0.6820 \n",
            "[15/16] class_loss: 0.2114 s_domain_loss: 0.6665 t_domain_loss: 0.6787 \n",
            "[16/16] class_loss: 0.1187 s_domain_loss: 0.6649 t_domain_loss: 0.6819 \n",
            "Accuracy on  photo during epoch 10 is 0.9712574850299401 loss is 0.4454059600830078\n",
            "Accuracy on  artPainting during epoch 10 is 0.46484375 loss is 4.0893707275390625\n",
            "[1/16] class_loss: 0.1726 s_domain_loss: 0.6682 t_domain_loss: 0.6782 \n",
            "[2/16] class_loss: 0.1326 s_domain_loss: 0.6652 t_domain_loss: 0.6832 \n",
            "[3/16] class_loss: 0.1458 s_domain_loss: 0.6674 t_domain_loss: 0.6731 \n",
            "[4/16] class_loss: 0.1864 s_domain_loss: 0.6608 t_domain_loss: 0.6719 \n",
            "[5/16] class_loss: 0.0735 s_domain_loss: 0.6638 t_domain_loss: 0.6767 \n",
            "[6/16] class_loss: 0.1478 s_domain_loss: 0.6523 t_domain_loss: 0.6765 \n",
            "[7/16] class_loss: 0.0689 s_domain_loss: 0.6539 t_domain_loss: 0.6769 \n",
            "[8/16] class_loss: 0.0825 s_domain_loss: 0.6518 t_domain_loss: 0.6778 \n",
            "[9/16] class_loss: 0.1636 s_domain_loss: 0.6753 t_domain_loss: 0.6706 \n",
            "[10/16] class_loss: 0.1642 s_domain_loss: 0.6756 t_domain_loss: 0.6715 \n",
            "[11/16] class_loss: 0.1156 s_domain_loss: 0.6584 t_domain_loss: 0.6790 \n",
            "[12/16] class_loss: 0.0817 s_domain_loss: 0.6654 t_domain_loss: 0.6709 \n",
            "[13/16] class_loss: 0.1235 s_domain_loss: 0.6670 t_domain_loss: 0.6785 \n",
            "[14/16] class_loss: 0.0252 s_domain_loss: 0.7431 t_domain_loss: 0.6815 \n",
            "[15/16] class_loss: 0.1313 s_domain_loss: 0.6557 t_domain_loss: 0.6816 \n",
            "[16/16] class_loss: 0.1981 s_domain_loss: 0.6602 t_domain_loss: 0.6874 \n",
            "Accuracy on  photo during epoch 11 is 0.9754491017964072 loss is 0.010646740905940533\n",
            "Accuracy on  artPainting during epoch 11 is 0.4677734375 loss is 4.143900394439697\n",
            "[1/16] class_loss: 0.1642 s_domain_loss: 0.6522 t_domain_loss: 0.6861 \n",
            "[2/16] class_loss: 0.1004 s_domain_loss: 0.6513 t_domain_loss: 0.6924 \n",
            "[3/16] class_loss: 0.0908 s_domain_loss: 0.6535 t_domain_loss: 0.6829 \n",
            "[4/16] class_loss: 0.1219 s_domain_loss: 0.6463 t_domain_loss: 0.6813 \n",
            "[5/16] class_loss: 0.1020 s_domain_loss: 0.6476 t_domain_loss: 0.6845 \n",
            "[6/16] class_loss: 0.1064 s_domain_loss: 0.6698 t_domain_loss: 0.6822 \n",
            "[7/16] class_loss: 0.0918 s_domain_loss: 0.6356 t_domain_loss: 0.6811 \n",
            "[8/16] class_loss: 0.1684 s_domain_loss: 0.6588 t_domain_loss: 0.6795 \n",
            "[9/16] class_loss: 0.1032 s_domain_loss: 0.6462 t_domain_loss: 0.6705 \n",
            "[10/16] class_loss: 0.1546 s_domain_loss: 0.6566 t_domain_loss: 0.6685 \n",
            "[11/16] class_loss: 0.1274 s_domain_loss: 0.6609 t_domain_loss: 0.6725 \n",
            "[12/16] class_loss: 0.1421 s_domain_loss: 0.6626 t_domain_loss: 0.6623 \n",
            "[13/16] class_loss: 0.0809 s_domain_loss: 0.6803 t_domain_loss: 0.6687 \n",
            "[14/16] class_loss: 0.0036 s_domain_loss: 0.7398 t_domain_loss: 0.6713 \n",
            "[15/16] class_loss: 0.1236 s_domain_loss: 0.6544 t_domain_loss: 0.6687 \n",
            "[16/16] class_loss: 0.0780 s_domain_loss: 0.6517 t_domain_loss: 0.6729 \n",
            "Accuracy on  photo during epoch 12 is 0.9778443113772455 loss is 0.029079755768179893\n",
            "Accuracy on  artPainting during epoch 12 is 0.47119140625 loss is 4.196969032287598\n",
            "[1/16] class_loss: 0.1094 s_domain_loss: 0.6418 t_domain_loss: 0.6699 \n",
            "[2/16] class_loss: 0.0665 s_domain_loss: 0.6544 t_domain_loss: 0.6750 \n",
            "[3/16] class_loss: 0.1158 s_domain_loss: 0.6519 t_domain_loss: 0.6646 \n",
            "[4/16] class_loss: 0.1647 s_domain_loss: 0.6672 t_domain_loss: 0.6632 \n",
            "[5/16] class_loss: 0.0854 s_domain_loss: 0.6535 t_domain_loss: 0.6676 \n",
            "[6/16] class_loss: 0.1643 s_domain_loss: 0.6658 t_domain_loss: 0.6672 \n",
            "[7/16] class_loss: 0.1290 s_domain_loss: 0.6758 t_domain_loss: 0.6680 \n",
            "[8/16] class_loss: 0.1329 s_domain_loss: 0.6624 t_domain_loss: 0.6702 \n",
            "[9/16] class_loss: 0.0937 s_domain_loss: 0.6612 t_domain_loss: 0.6657 \n",
            "[10/16] class_loss: 0.1027 s_domain_loss: 0.6550 t_domain_loss: 0.6682 \n",
            "[11/16] class_loss: 0.1041 s_domain_loss: 0.6677 t_domain_loss: 0.6756 \n",
            "[12/16] class_loss: 0.1116 s_domain_loss: 0.6540 t_domain_loss: 0.6688 \n",
            "[13/16] class_loss: 0.0979 s_domain_loss: 0.6459 t_domain_loss: 0.6783 \n",
            "[14/16] class_loss: 0.0038 s_domain_loss: 0.6912 t_domain_loss: 0.6821 \n",
            "[15/16] class_loss: 0.1406 s_domain_loss: 0.6596 t_domain_loss: 0.6795 \n",
            "[16/16] class_loss: 0.1146 s_domain_loss: 0.6366 t_domain_loss: 0.6843 \n",
            "Accuracy on  photo during epoch 13 is 0.9802395209580839 loss is 0.07874719053506851\n",
            "Accuracy on  artPainting during epoch 13 is 0.470703125 loss is 4.2572784423828125\n",
            "[1/16] class_loss: 0.1479 s_domain_loss: 0.6507 t_domain_loss: 0.6809 \n",
            "[2/16] class_loss: 0.0671 s_domain_loss: 0.6436 t_domain_loss: 0.6854 \n",
            "[3/16] class_loss: 0.1152 s_domain_loss: 0.6594 t_domain_loss: 0.6740 \n",
            "[4/16] class_loss: 0.1069 s_domain_loss: 0.6477 t_domain_loss: 0.6717 \n",
            "[5/16] class_loss: 0.0845 s_domain_loss: 0.6478 t_domain_loss: 0.6738 \n",
            "[6/16] class_loss: 0.0853 s_domain_loss: 0.6379 t_domain_loss: 0.6717 \n",
            "[7/16] class_loss: 0.1218 s_domain_loss: 0.6540 t_domain_loss: 0.6695 \n",
            "[8/16] class_loss: 0.1006 s_domain_loss: 0.6524 t_domain_loss: 0.6683 \n",
            "[9/16] class_loss: 0.1314 s_domain_loss: 0.6682 t_domain_loss: 0.6610 \n",
            "[10/16] class_loss: 0.0536 s_domain_loss: 0.6457 t_domain_loss: 0.6609 \n",
            "[11/16] class_loss: 0.1050 s_domain_loss: 0.6551 t_domain_loss: 0.6659 \n",
            "[12/16] class_loss: 0.0911 s_domain_loss: 0.6538 t_domain_loss: 0.6569 \n",
            "[13/16] class_loss: 0.1024 s_domain_loss: 0.6676 t_domain_loss: 0.6654 \n",
            "[14/16] class_loss: 0.1400 s_domain_loss: 0.6919 t_domain_loss: 0.6694 \n",
            "[15/16] class_loss: 0.0767 s_domain_loss: 0.6490 t_domain_loss: 0.6652 \n",
            "[16/16] class_loss: 0.0923 s_domain_loss: 0.6478 t_domain_loss: 0.6697 \n",
            "Accuracy on  photo during epoch 14 is 0.9826347305389221 loss is 0.02611740492284298\n",
            "Accuracy on  artPainting during epoch 14 is 0.46923828125 loss is 4.318492412567139\n",
            "[1/16] class_loss: 0.1012 s_domain_loss: 0.6421 t_domain_loss: 0.6662 \n",
            "[2/16] class_loss: 0.0779 s_domain_loss: 0.6513 t_domain_loss: 0.6708 \n",
            "[3/16] class_loss: 0.0895 s_domain_loss: 0.6486 t_domain_loss: 0.6606 \n",
            "[4/16] class_loss: 0.0879 s_domain_loss: 0.6564 t_domain_loss: 0.6595 \n",
            "[5/16] class_loss: 0.1287 s_domain_loss: 0.6629 t_domain_loss: 0.6631 \n",
            "[6/16] class_loss: 0.1024 s_domain_loss: 0.6616 t_domain_loss: 0.6636 \n",
            "[7/16] class_loss: 0.1085 s_domain_loss: 0.6591 t_domain_loss: 0.6650 \n",
            "[8/16] class_loss: 0.0868 s_domain_loss: 0.6533 t_domain_loss: 0.6666 \n",
            "[9/16] class_loss: 0.0714 s_domain_loss: 0.6362 t_domain_loss: 0.6628 \n",
            "[10/16] class_loss: 0.0810 s_domain_loss: 0.6623 t_domain_loss: 0.6642 \n",
            "[11/16] class_loss: 0.0991 s_domain_loss: 0.6379 t_domain_loss: 0.6714 \n",
            "[12/16] class_loss: 0.1199 s_domain_loss: 0.6452 t_domain_loss: 0.6631 \n",
            "[13/16] class_loss: 0.1056 s_domain_loss: 0.6469 t_domain_loss: 0.6719 \n",
            "[14/16] class_loss: 0.0937 s_domain_loss: 0.7155 t_domain_loss: 0.6747 \n",
            "[15/16] class_loss: 0.0707 s_domain_loss: 0.6409 t_domain_loss: 0.6709 \n",
            "[16/16] class_loss: 0.0848 s_domain_loss: 0.6454 t_domain_loss: 0.6764 \n",
            "Accuracy on  photo during epoch 15 is 0.9826347305389221 loss is 0.06284395605325699\n",
            "Accuracy on  artPainting during epoch 15 is 0.46728515625 loss is 4.387746810913086\n",
            "[1/16] class_loss: 0.0596 s_domain_loss: 0.6368 t_domain_loss: 0.6728 \n",
            "[2/16] class_loss: 0.0891 s_domain_loss: 0.6366 t_domain_loss: 0.6772 \n",
            "[3/16] class_loss: 0.1172 s_domain_loss: 0.6436 t_domain_loss: 0.6662 \n",
            "[4/16] class_loss: 0.0538 s_domain_loss: 0.6445 t_domain_loss: 0.6637 \n",
            "[5/16] class_loss: 0.0722 s_domain_loss: 0.6478 t_domain_loss: 0.6654 \n",
            "[6/16] class_loss: 0.1635 s_domain_loss: 0.6457 t_domain_loss: 0.6644 \n",
            "[7/16] class_loss: 0.1270 s_domain_loss: 0.6431 t_domain_loss: 0.6635 \n",
            "[8/16] class_loss: 0.0843 s_domain_loss: 0.6469 t_domain_loss: 0.6627 \n",
            "[9/16] class_loss: 0.0717 s_domain_loss: 0.6483 t_domain_loss: 0.6573 \n",
            "[10/16] class_loss: 0.1230 s_domain_loss: 0.6641 t_domain_loss: 0.6567 \n",
            "[11/16] class_loss: 0.0864 s_domain_loss: 0.6519 t_domain_loss: 0.6625 \n",
            "[12/16] class_loss: 0.1050 s_domain_loss: 0.6564 t_domain_loss: 0.6540 \n",
            "[13/16] class_loss: 0.0519 s_domain_loss: 0.6425 t_domain_loss: 0.6640 \n",
            "[14/16] class_loss: 0.0639 s_domain_loss: 0.7097 t_domain_loss: 0.6683 \n",
            "[15/16] class_loss: 0.0589 s_domain_loss: 0.6273 t_domain_loss: 0.6637 \n",
            "[16/16] class_loss: 0.0873 s_domain_loss: 0.6406 t_domain_loss: 0.6691 \n",
            "Accuracy on  photo during epoch 16 is 0.9838323353293413 loss is 0.0260340366512537\n",
            "Accuracy on  artPainting during epoch 16 is 0.4716796875 loss is 4.423842906951904\n",
            "[1/16] class_loss: 0.0829 s_domain_loss: 0.6458 t_domain_loss: 0.6650 \n",
            "[2/16] class_loss: 0.0912 s_domain_loss: 0.6416 t_domain_loss: 0.6695 \n",
            "[3/16] class_loss: 0.1134 s_domain_loss: 0.6426 t_domain_loss: 0.6592 \n",
            "[4/16] class_loss: 0.0598 s_domain_loss: 0.6378 t_domain_loss: 0.6578 \n",
            "[5/16] class_loss: 0.0880 s_domain_loss: 0.6466 t_domain_loss: 0.6600 \n",
            "[6/16] class_loss: 0.0621 s_domain_loss: 0.6411 t_domain_loss: 0.6597 \n",
            "[7/16] class_loss: 0.1211 s_domain_loss: 0.6525 t_domain_loss: 0.6594 \n",
            "[8/16] class_loss: 0.1582 s_domain_loss: 0.6332 t_domain_loss: 0.6591 \n",
            "[9/16] class_loss: 0.1233 s_domain_loss: 0.6501 t_domain_loss: 0.6541 \n",
            "[10/16] class_loss: 0.0564 s_domain_loss: 0.6526 t_domain_loss: 0.6539 \n",
            "[11/16] class_loss: 0.0420 s_domain_loss: 0.6541 t_domain_loss: 0.6597 \n",
            "[12/16] class_loss: 0.0958 s_domain_loss: 0.6663 t_domain_loss: 0.6515 \n",
            "[13/16] class_loss: 0.0555 s_domain_loss: 0.6392 t_domain_loss: 0.6622 \n",
            "[14/16] class_loss: 0.0117 s_domain_loss: 0.7263 t_domain_loss: 0.6675 \n",
            "[15/16] class_loss: 0.0423 s_domain_loss: 0.6353 t_domain_loss: 0.6633 \n",
            "[16/16] class_loss: 0.1101 s_domain_loss: 0.6397 t_domain_loss: 0.6707 \n",
            "Accuracy on  photo during epoch 17 is 0.98562874251497 loss is 0.008200486190617085\n",
            "Accuracy on  artPainting during epoch 17 is 0.47265625 loss is 4.468827724456787\n",
            "[1/16] class_loss: 0.1039 s_domain_loss: 0.6435 t_domain_loss: 0.6685 \n",
            "[2/16] class_loss: 0.0860 s_domain_loss: 0.6426 t_domain_loss: 0.6727 \n",
            "[3/16] class_loss: 0.0720 s_domain_loss: 0.6244 t_domain_loss: 0.6629 \n",
            "[4/16] class_loss: 0.0717 s_domain_loss: 0.6538 t_domain_loss: 0.6619 \n",
            "[5/16] class_loss: 0.0893 s_domain_loss: 0.6270 t_domain_loss: 0.6646 \n",
            "[6/16] class_loss: 0.0863 s_domain_loss: 0.6613 t_domain_loss: 0.6650 \n",
            "[7/16] class_loss: 0.0839 s_domain_loss: 0.6217 t_domain_loss: 0.6655 \n",
            "[8/16] class_loss: 0.1055 s_domain_loss: 0.6465 t_domain_loss: 0.6657 \n",
            "[9/16] class_loss: 0.1247 s_domain_loss: 0.6184 t_domain_loss: 0.6624 \n",
            "[10/16] class_loss: 0.0785 s_domain_loss: 0.6532 t_domain_loss: 0.6627 \n",
            "[11/16] class_loss: 0.0689 s_domain_loss: 0.6301 t_domain_loss: 0.6686 \n",
            "[12/16] class_loss: 0.1021 s_domain_loss: 0.6361 t_domain_loss: 0.6603 \n",
            "[13/16] class_loss: 0.0842 s_domain_loss: 0.6321 t_domain_loss: 0.6702 \n",
            "[14/16] class_loss: 0.0287 s_domain_loss: 0.7431 t_domain_loss: 0.6751 \n",
            "[15/16] class_loss: 0.2080 s_domain_loss: 0.6511 t_domain_loss: 0.6667 \n",
            "[16/16] class_loss: 0.0914 s_domain_loss: 0.6264 t_domain_loss: 0.6711 \n",
            "Accuracy on  photo during epoch 18 is 0.98562874251497 loss is 0.04987156391143799\n",
            "Accuracy on  artPainting during epoch 18 is 0.47265625 loss is 4.4721527099609375\n",
            "[1/16] class_loss: 0.0862 s_domain_loss: 0.6326 t_domain_loss: 0.6664 \n",
            "[2/16] class_loss: 0.1162 s_domain_loss: 0.6342 t_domain_loss: 0.6703 \n",
            "[3/16] class_loss: 0.0560 s_domain_loss: 0.6488 t_domain_loss: 0.6601 \n",
            "[4/16] class_loss: 0.0706 s_domain_loss: 0.6286 t_domain_loss: 0.6590 \n",
            "[5/16] class_loss: 0.0849 s_domain_loss: 0.6352 t_domain_loss: 0.6614 \n",
            "[6/16] class_loss: 0.0763 s_domain_loss: 0.6611 t_domain_loss: 0.6615 \n",
            "[7/16] class_loss: 0.0339 s_domain_loss: 0.6142 t_domain_loss: 0.6618 \n",
            "[8/16] class_loss: 0.1291 s_domain_loss: 0.6559 t_domain_loss: 0.6619 \n",
            "[9/16] class_loss: 0.0889 s_domain_loss: 0.6566 t_domain_loss: 0.6585 \n",
            "[10/16] class_loss: 0.1003 s_domain_loss: 0.6299 t_domain_loss: 0.6589 \n",
            "[11/16] class_loss: 0.1048 s_domain_loss: 0.6339 t_domain_loss: 0.6648 \n",
            "[12/16] class_loss: 0.0719 s_domain_loss: 0.6622 t_domain_loss: 0.6565 \n",
            "[13/16] class_loss: 0.1062 s_domain_loss: 0.6317 t_domain_loss: 0.6665 \n",
            "[14/16] class_loss: 0.0201 s_domain_loss: 0.7319 t_domain_loss: 0.6714 \n",
            "[15/16] class_loss: 0.1106 s_domain_loss: 0.6527 t_domain_loss: 0.6631 \n",
            "[16/16] class_loss: 0.0922 s_domain_loss: 0.6544 t_domain_loss: 0.6675 \n",
            "Accuracy on  photo during epoch 19 is 0.9850299401197605 loss is 0.0030074913520365953\n",
            "Accuracy on  artPainting during epoch 19 is 0.47265625 loss is 4.4768900871276855\n"
          ],
          "name": "stdout"
        }
      ]
    },
    {
      "cell_type": "code",
      "metadata": {
        "id": "xu1dmt7k_W1P",
        "colab_type": "code",
        "colab": {}
      },
      "source": [
        "LR"
      ],
      "execution_count": 0,
      "outputs": []
    },
    {
      "cell_type": "code",
      "metadata": {
        "id": "u01ZFqgWF4zG",
        "colab_type": "code",
        "colab": {}
      },
      "source": [
        "alfa"
      ],
      "execution_count": 0,
      "outputs": []
    }
  ]
}