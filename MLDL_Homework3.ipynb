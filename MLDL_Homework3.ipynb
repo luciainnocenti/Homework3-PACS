{
  "nbformat": 4,
  "nbformat_minor": 0,
  "metadata": {
    "colab": {
      "name": "MLDL - Homework3.ipynb",
      "provenance": [],
      "toc_visible": true,
      "include_colab_link": true
    },
    "kernelspec": {
      "name": "python3",
      "display_name": "Python 3"
    },
    "accelerator": "GPU",
    "widgets": {
      "application/vnd.jupyter.widget-state+json": {
        "9499c0fc2c444622bc40c5639d509d9d": {
          "model_module": "@jupyter-widgets/controls",
          "model_name": "HBoxModel",
          "state": {
            "_view_name": "HBoxView",
            "_dom_classes": [],
            "_model_name": "HBoxModel",
            "_view_module": "@jupyter-widgets/controls",
            "_model_module_version": "1.5.0",
            "_view_count": null,
            "_view_module_version": "1.5.0",
            "box_style": "",
            "layout": "IPY_MODEL_72e598a8170c4bbca19dc8698f549853",
            "_model_module": "@jupyter-widgets/controls",
            "children": [
              "IPY_MODEL_c914e2dfbd93438b9c6802678843c64a",
              "IPY_MODEL_a0bf52e98e1345f194af25640fed1a3f"
            ]
          }
        },
        "72e598a8170c4bbca19dc8698f549853": {
          "model_module": "@jupyter-widgets/base",
          "model_name": "LayoutModel",
          "state": {
            "_view_name": "LayoutView",
            "grid_template_rows": null,
            "right": null,
            "justify_content": null,
            "_view_module": "@jupyter-widgets/base",
            "overflow": null,
            "_model_module_version": "1.2.0",
            "_view_count": null,
            "flex_flow": null,
            "width": null,
            "min_width": null,
            "border": null,
            "align_items": null,
            "bottom": null,
            "_model_module": "@jupyter-widgets/base",
            "top": null,
            "grid_column": null,
            "overflow_y": null,
            "overflow_x": null,
            "grid_auto_flow": null,
            "grid_area": null,
            "grid_template_columns": null,
            "flex": null,
            "_model_name": "LayoutModel",
            "justify_items": null,
            "grid_row": null,
            "max_height": null,
            "align_content": null,
            "visibility": null,
            "align_self": null,
            "height": null,
            "min_height": null,
            "padding": null,
            "grid_auto_rows": null,
            "grid_gap": null,
            "max_width": null,
            "order": null,
            "_view_module_version": "1.2.0",
            "grid_template_areas": null,
            "object_position": null,
            "object_fit": null,
            "grid_auto_columns": null,
            "margin": null,
            "display": null,
            "left": null
          }
        },
        "c914e2dfbd93438b9c6802678843c64a": {
          "model_module": "@jupyter-widgets/controls",
          "model_name": "FloatProgressModel",
          "state": {
            "_view_name": "ProgressView",
            "style": "IPY_MODEL_76c9568f96524bd1b4a629fabc66c8af",
            "_dom_classes": [],
            "description": "100%",
            "_model_name": "FloatProgressModel",
            "bar_style": "success",
            "max": 244418560,
            "_view_module": "@jupyter-widgets/controls",
            "_model_module_version": "1.5.0",
            "value": 244418560,
            "_view_count": null,
            "_view_module_version": "1.5.0",
            "orientation": "horizontal",
            "min": 0,
            "description_tooltip": null,
            "_model_module": "@jupyter-widgets/controls",
            "layout": "IPY_MODEL_854cd0dc5c584376aec318a6fe4ee565"
          }
        },
        "a0bf52e98e1345f194af25640fed1a3f": {
          "model_module": "@jupyter-widgets/controls",
          "model_name": "HTMLModel",
          "state": {
            "_view_name": "HTMLView",
            "style": "IPY_MODEL_d5d23093a1c0406faf7a819ae48ad183",
            "_dom_classes": [],
            "description": "",
            "_model_name": "HTMLModel",
            "placeholder": "​",
            "_view_module": "@jupyter-widgets/controls",
            "_model_module_version": "1.5.0",
            "value": " 233M/233M [01:40&lt;00:00, 2.44MB/s]",
            "_view_count": null,
            "_view_module_version": "1.5.0",
            "description_tooltip": null,
            "_model_module": "@jupyter-widgets/controls",
            "layout": "IPY_MODEL_7cfa5e2da9c34d6286955e5f4e89f252"
          }
        },
        "76c9568f96524bd1b4a629fabc66c8af": {
          "model_module": "@jupyter-widgets/controls",
          "model_name": "ProgressStyleModel",
          "state": {
            "_view_name": "StyleView",
            "_model_name": "ProgressStyleModel",
            "description_width": "initial",
            "_view_module": "@jupyter-widgets/base",
            "_model_module_version": "1.5.0",
            "_view_count": null,
            "_view_module_version": "1.2.0",
            "bar_color": null,
            "_model_module": "@jupyter-widgets/controls"
          }
        },
        "854cd0dc5c584376aec318a6fe4ee565": {
          "model_module": "@jupyter-widgets/base",
          "model_name": "LayoutModel",
          "state": {
            "_view_name": "LayoutView",
            "grid_template_rows": null,
            "right": null,
            "justify_content": null,
            "_view_module": "@jupyter-widgets/base",
            "overflow": null,
            "_model_module_version": "1.2.0",
            "_view_count": null,
            "flex_flow": null,
            "width": null,
            "min_width": null,
            "border": null,
            "align_items": null,
            "bottom": null,
            "_model_module": "@jupyter-widgets/base",
            "top": null,
            "grid_column": null,
            "overflow_y": null,
            "overflow_x": null,
            "grid_auto_flow": null,
            "grid_area": null,
            "grid_template_columns": null,
            "flex": null,
            "_model_name": "LayoutModel",
            "justify_items": null,
            "grid_row": null,
            "max_height": null,
            "align_content": null,
            "visibility": null,
            "align_self": null,
            "height": null,
            "min_height": null,
            "padding": null,
            "grid_auto_rows": null,
            "grid_gap": null,
            "max_width": null,
            "order": null,
            "_view_module_version": "1.2.0",
            "grid_template_areas": null,
            "object_position": null,
            "object_fit": null,
            "grid_auto_columns": null,
            "margin": null,
            "display": null,
            "left": null
          }
        },
        "d5d23093a1c0406faf7a819ae48ad183": {
          "model_module": "@jupyter-widgets/controls",
          "model_name": "DescriptionStyleModel",
          "state": {
            "_view_name": "StyleView",
            "_model_name": "DescriptionStyleModel",
            "description_width": "",
            "_view_module": "@jupyter-widgets/base",
            "_model_module_version": "1.5.0",
            "_view_count": null,
            "_view_module_version": "1.2.0",
            "_model_module": "@jupyter-widgets/controls"
          }
        },
        "7cfa5e2da9c34d6286955e5f4e89f252": {
          "model_module": "@jupyter-widgets/base",
          "model_name": "LayoutModel",
          "state": {
            "_view_name": "LayoutView",
            "grid_template_rows": null,
            "right": null,
            "justify_content": null,
            "_view_module": "@jupyter-widgets/base",
            "overflow": null,
            "_model_module_version": "1.2.0",
            "_view_count": null,
            "flex_flow": null,
            "width": null,
            "min_width": null,
            "border": null,
            "align_items": null,
            "bottom": null,
            "_model_module": "@jupyter-widgets/base",
            "top": null,
            "grid_column": null,
            "overflow_y": null,
            "overflow_x": null,
            "grid_auto_flow": null,
            "grid_area": null,
            "grid_template_columns": null,
            "flex": null,
            "_model_name": "LayoutModel",
            "justify_items": null,
            "grid_row": null,
            "max_height": null,
            "align_content": null,
            "visibility": null,
            "align_self": null,
            "height": null,
            "min_height": null,
            "padding": null,
            "grid_auto_rows": null,
            "grid_gap": null,
            "max_width": null,
            "order": null,
            "_view_module_version": "1.2.0",
            "grid_template_areas": null,
            "object_position": null,
            "object_fit": null,
            "grid_auto_columns": null,
            "margin": null,
            "display": null,
            "left": null
          }
        }
      }
    }
  },
  "cells": [
    {
      "cell_type": "markdown",
      "metadata": {
        "id": "view-in-github",
        "colab_type": "text"
      },
      "source": [
        "<a href=\"https://colab.research.google.com/github/luciainnocenti/Homework3-PACS/blob/master/MLDL_Homework3.ipynb\" target=\"_parent\"><img src=\"https://colab.research.google.com/assets/colab-badge.svg\" alt=\"Open In Colab\"/></a>"
      ]
    },
    {
      "cell_type": "markdown",
      "metadata": {
        "id": "fo942LMOdlh4",
        "colab_type": "text"
      },
      "source": [
        "#**Import libraries**"
      ]
    },
    {
      "cell_type": "code",
      "metadata": {
        "id": "DokFOdD1dJEl",
        "colab_type": "code",
        "colab": {}
      },
      "source": [
        "import os\n",
        "import logging\n",
        "\n",
        "import torch\n",
        "import torch.nn as nn\n",
        "import torch.optim as optim\n",
        "from torch.utils.data import Subset, DataLoader\n",
        "from torch.backends import cudnn\n",
        "\n",
        "import torchvision\n",
        "from torchvision import transforms\n",
        "\n",
        "from PIL import Image\n",
        "from tqdm import tqdm\n",
        "\n",
        "\n",
        "from numpy import random \n",
        "\n",
        "random.seed(33)"
      ],
      "execution_count": 0,
      "outputs": []
    },
    {
      "cell_type": "markdown",
      "metadata": {
        "id": "OIDLJuIXK_vh",
        "colab_type": "text"
      },
      "source": [
        "#**Set Arguments**"
      ]
    },
    {
      "cell_type": "code",
      "metadata": {
        "id": "d5PkYfqfK_SA",
        "colab_type": "code",
        "colab": {}
      },
      "source": [
        "DEVICE = 'cuda' # 'cuda' or 'cpu'\n",
        "\n",
        "BATCH_SIZE = 128     # Higher batch sizes allows for larger learning rates. An empirical heuristic suggests that, when changing\n",
        "                     # the batch size, learning rate should change by the same factor to have comparable results\n",
        "\n",
        "LR = 1e-4            # The initial Learning Rate\n",
        "MOMENTUM = 0.9       # Hyperparameter for SGD, keep this at 0.9 when using SGD\n",
        "WEIGHT_DECAY = 5e-5  # Regularization, you can keep this at the default\n",
        "\n",
        "NUM_EPOCHS = 20      # Total number of training epochs (iterations over dataset)\n",
        "STEP_SIZE = 20       # How many epochs before decreasing learning rate (if using a step-down policy)\n",
        "GAMMA = 0.1          # Multiplicative factor for learning rate step-down\n",
        "\n",
        "LOG_FREQUENCY = 10"
      ],
      "execution_count": 0,
      "outputs": []
    },
    {
      "cell_type": "markdown",
      "metadata": {
        "id": "9gwii0TBHvzh",
        "colab_type": "text"
      },
      "source": [
        "#**Define Data Preprocessing**"
      ]
    },
    {
      "cell_type": "code",
      "metadata": {
        "id": "QUDdw4j2H0Mc",
        "colab_type": "code",
        "colab": {}
      },
      "source": [
        "# Define transforms for training phase\n",
        "train_transform = transforms.Compose([transforms.Resize(256),      # Resizes short size of the PIL image to 256\n",
        "                                      transforms.CenterCrop(224),  # Crops a central square patch of the image\n",
        "                                                                   # 224 because torchvision's AlexNet needs a 224x224 input!\n",
        "                                                                   # Remember this when applying different transformations, otherwise you get an error\n",
        "                                      #transforms.RandomCrop( 64 , padding =2) ,\n",
        "                                      transforms.ToTensor(), # Turn PIL Image to torch.Tensor\n",
        "                                      transforms.Normalize((0.5, 0.5, 0.5), (0.5, 0.5, 0.5)) # Normalizes tensor with mean and standard deviation\n",
        "])\n",
        "# Define transforms for the test phase\n",
        "test_transform = transforms.Compose([transforms.Resize(256),\n",
        "                                      transforms.CenterCrop(224),\n",
        "                                      transforms.ToTensor(),\n",
        "                                      transforms.Normalize((0.5, 0.5, 0.5), (0.5, 0.5, 0.5))                                    \n",
        "])"
      ],
      "execution_count": 0,
      "outputs": []
    },
    {
      "cell_type": "markdown",
      "metadata": {
        "id": "2qYIHPzYLY7i",
        "colab_type": "text"
      },
      "source": [
        "#**Prepare Dataset**"
      ]
    },
    {
      "cell_type": "code",
      "metadata": {
        "id": "QfVq_uDHLbsR",
        "colab_type": "code",
        "outputId": "cadd16d9-70df-4adc-bc81-27069ffb60bf",
        "colab": {
          "base_uri": "https://localhost:8080/",
          "height": 194
        }
      },
      "source": [
        "# Clone github repository with data\n",
        "!git clone https://github.com/luciainnocenti/Homework3-PACS.git\n",
        "!mv 'Homework3-PACS' 'HW_PACS'\n",
        "\n",
        "from HW_PACS.dataset import PACS_Dataset \n",
        "\n",
        "rootPhoto = \"HW_PACS/PACS/photo\"\n",
        "photos = PACS_Dataset(root = rootPhoto, transform = train_transform)\n",
        "\n",
        "rootArt_painting = \"HW_PACS/PACS/art_painting\"\n",
        "art_painting = PACS_Dataset(root = rootArt_painting, transform = test_transform)\n",
        "\n",
        "# Check dataset sizes\n",
        "print('Train Dataset: {}'.format(len(photos)))\n",
        "print('Test Dataset: {}'.format(len(art_painting)))"
      ],
      "execution_count": 4,
      "outputs": [
        {
          "output_type": "stream",
          "text": [
            "Cloning into 'Homework3-PACS'...\n",
            "remote: Enumerating objects: 55, done.\u001b[K\n",
            "remote: Counting objects:   1% (1/55)\u001b[K\rremote: Counting objects:   3% (2/55)\u001b[K\rremote: Counting objects:   5% (3/55)\u001b[K\rremote: Counting objects:   7% (4/55)\u001b[K\rremote: Counting objects:   9% (5/55)\u001b[K\rremote: Counting objects:  10% (6/55)\u001b[K\rremote: Counting objects:  12% (7/55)\u001b[K\rremote: Counting objects:  14% (8/55)\u001b[K\rremote: Counting objects:  16% (9/55)\u001b[K\rremote: Counting objects:  18% (10/55)\u001b[K\rremote: Counting objects:  20% (11/55)\u001b[K\rremote: Counting objects:  21% (12/55)\u001b[K\rremote: Counting objects:  23% (13/55)\u001b[K\rremote: Counting objects:  25% (14/55)\u001b[K\rremote: Counting objects:  27% (15/55)\u001b[K\rremote: Counting objects:  29% (16/55)\u001b[K\rremote: Counting objects:  30% (17/55)\u001b[K\rremote: Counting objects:  32% (18/55)\u001b[K\rremote: Counting objects:  34% (19/55)\u001b[K\rremote: Counting objects:  36% (20/55)\u001b[K\rremote: Counting objects:  38% (21/55)\u001b[K\rremote: Counting objects:  40% (22/55)\u001b[K\rremote: Counting objects:  41% (23/55)\u001b[K\rremote: Counting objects:  43% (24/55)\u001b[K\rremote: Counting objects:  45% (25/55)\u001b[K\rremote: Counting objects:  47% (26/55)\u001b[K\rremote: Counting objects:  49% (27/55)\u001b[K\rremote: Counting objects:  50% (28/55)\u001b[K\rremote: Counting objects:  52% (29/55)\u001b[K\rremote: Counting objects:  54% (30/55)\u001b[K\rremote: Counting objects:  56% (31/55)\u001b[K\rremote: Counting objects:  58% (32/55)\u001b[K\rremote: Counting objects:  60% (33/55)\u001b[K\rremote: Counting objects:  61% (34/55)\u001b[K\rremote: Counting objects:  63% (35/55)\u001b[K\rremote: Counting objects:  65% (36/55)\u001b[K\rremote: Counting objects:  67% (37/55)\u001b[K\rremote: Counting objects:  69% (38/55)\u001b[K\rremote: Counting objects:  70% (39/55)\u001b[K\rremote: Counting objects:  72% (40/55)\u001b[K\rremote: Counting objects:  74% (41/55)\u001b[K\rremote: Counting objects:  76% (42/55)\u001b[K\rremote: Counting objects:  78% (43/55)\u001b[K\rremote: Counting objects:  80% (44/55)\u001b[K\rremote: Counting objects:  81% (45/55)\u001b[K\rremote: Counting objects:  83% (46/55)\u001b[K\rremote: Counting objects:  85% (47/55)\u001b[K\rremote: Counting objects:  87% (48/55)\u001b[K\rremote: Counting objects:  89% (49/55)\u001b[K\rremote: Counting objects:  90% (50/55)\u001b[K\rremote: Counting objects:  92% (51/55)\u001b[K\rremote: Counting objects:  94% (52/55)\u001b[K\rremote: Counting objects:  96% (53/55)\u001b[K\rremote: Counting objects:  98% (54/55)\u001b[K\rremote: Counting objects: 100% (55/55)\u001b[K\rremote: Counting objects: 100% (55/55), done.\u001b[K\n",
            "remote: Compressing objects: 100% (55/55), done.\u001b[K\n",
            "remote: Total 10087 (delta 31), reused 0 (delta 0), pack-reused 10032\u001b[K\n",
            "Receiving objects: 100% (10087/10087), 174.15 MiB | 15.22 MiB/s, done.\n",
            "Resolving deltas: 100% (32/32), done.\n",
            "Checking out files: 100% (9995/9995), done.\n",
            "Train Dataset: 1670\n",
            "Test Dataset: 2048\n"
          ],
          "name": "stdout"
        }
      ]
    },
    {
      "cell_type": "markdown",
      "metadata": {
        "id": "FYEDQ7Z21ldN",
        "colab_type": "text"
      },
      "source": [
        "#**Prepare Dataloaders**"
      ]
    },
    {
      "cell_type": "code",
      "metadata": {
        "id": "VriRw8SI1nle",
        "colab_type": "code",
        "colab": {}
      },
      "source": [
        "# Dataloaders iterate over pytorch datasets and transparently provide useful functions (e.g. parallelization and shuffling)\n",
        "photos_dataloader = DataLoader(photos, batch_size=BATCH_SIZE, shuffle=True, num_workers=4)\n",
        "art_painting_dataloader = DataLoader(art_painting, batch_size=BATCH_SIZE, shuffle=False, num_workers=4)"
      ],
      "execution_count": 0,
      "outputs": []
    },
    {
      "cell_type": "markdown",
      "metadata": {
        "id": "AxYUli9d9uYQ",
        "colab_type": "text"
      },
      "source": [
        "#**Model without DANN**"
      ]
    },
    {
      "cell_type": "markdown",
      "metadata": {
        "id": "gbZ1t5Qs2z4j",
        "colab_type": "text"
      },
      "source": [
        "##**Prepare Network**"
      ]
    },
    {
      "cell_type": "code",
      "metadata": {
        "id": "exHUjtXa22DN",
        "colab_type": "code",
        "colab": {
          "base_uri": "https://localhost:8080/",
          "height": 84,
          "referenced_widgets": [
            "9499c0fc2c444622bc40c5639d509d9d",
            "72e598a8170c4bbca19dc8698f549853",
            "c914e2dfbd93438b9c6802678843c64a",
            "a0bf52e98e1345f194af25640fed1a3f",
            "76c9568f96524bd1b4a629fabc66c8af",
            "854cd0dc5c584376aec318a6fe4ee565",
            "d5d23093a1c0406faf7a819ae48ad183",
            "7cfa5e2da9c34d6286955e5f4e89f252"
          ]
        },
        "outputId": "922c848d-e575-46c5-d4d6-1393cb669326"
      },
      "source": [
        "from HW_PACS.gradient_reversal_example import alexNetDA \n",
        "\n",
        "net = alexNetDA(num_classes = 7)\n"
      ],
      "execution_count": 6,
      "outputs": [
        {
          "output_type": "stream",
          "text": [
            "Downloading: \"https://download.pytorch.org/models/alexnet-owt-4df8aa71.pth\" to /root/.cache/torch/checkpoints/alexnet-owt-4df8aa71.pth\n"
          ],
          "name": "stderr"
        },
        {
          "output_type": "display_data",
          "data": {
            "application/vnd.jupyter.widget-view+json": {
              "model_id": "9499c0fc2c444622bc40c5639d509d9d",
              "version_minor": 0,
              "version_major": 2
            },
            "text/plain": [
              "HBox(children=(FloatProgress(value=0.0, max=244418560.0), HTML(value='')))"
            ]
          },
          "metadata": {
            "tags": []
          }
        },
        {
          "output_type": "stream",
          "text": [
            "\n"
          ],
          "name": "stdout"
        }
      ]
    },
    {
      "cell_type": "markdown",
      "metadata": {
        "id": "KEyL3H_R4qCf",
        "colab_type": "text"
      },
      "source": [
        "##**Prepare Training**"
      ]
    },
    {
      "cell_type": "code",
      "metadata": {
        "id": "9sjq00G94tSc",
        "colab_type": "code",
        "colab": {}
      },
      "source": [
        "# Define loss function\n",
        "criterion = nn.CrossEntropyLoss() # for classification, we use Cross Entropy\n",
        "\n",
        "# Choose parameters to optimize\n",
        "# To access a different set of parameters, you have to access submodules of AlexNet\n",
        "# (nn.Module objects, like AlexNet, implement the Composite Pattern)\n",
        "# e.g.: parameters of the fully connected layers: net.classifier.parameters()\n",
        "# e.g.: parameters of the convolutional layers: look at alexnet's source code ;) \n",
        "parameters_to_optimize = net.parameters() # In this case we optimize over all the parameters of AlexNet\n",
        "\n",
        "# Define optimizer\n",
        "# An optimizer updates the weights based on loss\n",
        "# We use SGD with momentum\n",
        "\n",
        "optimizer = optim.SGD(parameters_to_optimize, lr=LR, momentum=MOMENTUM, weight_decay=WEIGHT_DECAY)\n",
        "\n",
        "#optimizer = optim.Adam(parameters_to_optimize, LR)\n",
        "\n",
        "# Define scheduler\n",
        "# A scheduler dynamically changes learning rate\n",
        "# The most common schedule is the step(-down), which multiplies learning rate by gamma every STEP_SIZE epochs\n",
        "scheduler = optim.lr_scheduler.StepLR(optimizer, step_size=STEP_SIZE, gamma=GAMMA)"
      ],
      "execution_count": 0,
      "outputs": []
    },
    {
      "cell_type": "code",
      "metadata": {
        "id": "ZcoQ5fD49yT_",
        "colab_type": "code",
        "outputId": "6c077d91-ebf7-4a13-aff5-93d3acd87970",
        "colab": {
          "base_uri": "https://localhost:8080/",
          "height": 1000
        }
      },
      "source": [
        "# By default, everything is loaded to cpu\n",
        "net = net.to(DEVICE) # this will bring the network to GPU if DEVICE is cuda\n",
        "\n",
        "cudnn.benchmark # Calling this optimizes runtime\n",
        "running_corrects = 0\n",
        "current_step = 0\n",
        "# Start iterating over the epochs\n",
        "# Iterate over the dataset\n",
        "for epoch in range(NUM_EPOCHS):\n",
        "  scheduler.step() \n",
        "  \n",
        "  for images, labels in  tqdm(photos_dataloader):\n",
        "\n",
        "    # Bring data over the device of choice\n",
        "    images = images.to(DEVICE)\n",
        "    labels = labels.to(DEVICE)\n",
        "\n",
        "    net.train() # Sets module in training mode\n",
        "\n",
        "    # PyTorch, by default, accumulates gradients after each backward pass\n",
        "    # We need to manually set the gradients to zero before starting a new iteration\n",
        "    optimizer.zero_grad() # Zero-ing the gradients\n",
        "\n",
        "    # Forward pass to the network\n",
        "    outputs = net(images)\n",
        "\n",
        "    # Compute loss based on output and ground truth\n",
        "    loss = criterion(outputs, labels)\n",
        "\n",
        "    # Log loss\n",
        "    if current_step % LOG_FREQUENCY == 0:\n",
        "      print('Step {}, Loss {}'.format(current_step, loss.item()))\n",
        "\n",
        "    # Compute gradients for each layer and update weights\n",
        "\n",
        "    loss.backward()  # backward pass: computes gradients\n",
        "\n",
        "    optimizer.step() # update weights based on accumulated gradients\n",
        "\n",
        "    current_step += 1\n",
        "    # Get predictions\n",
        "    _, preds = torch.max(outputs.data, 1)\n",
        "\n",
        "    # Update Corrects\n",
        "    running_corrects += torch.sum(preds == labels.data).data.item()\n",
        "\n",
        "  # Calculate Accuracy\n",
        "  accuracy = running_corrects / float(len(photos))\n",
        "  print(\"Accuracy on training set = \"  + str(accuracy))\n",
        "  running_corrects = 0\n",
        "    "
      ],
      "execution_count": 8,
      "outputs": [
        {
          "output_type": "stream",
          "text": [
            "/usr/local/lib/python3.6/dist-packages/torch/optim/lr_scheduler.py:123: UserWarning: Detected call of `lr_scheduler.step()` before `optimizer.step()`. In PyTorch 1.1.0 and later, you should call them in the opposite order: `optimizer.step()` before `lr_scheduler.step()`.  Failure to do this will result in PyTorch skipping the first value of the learning rate schedule. See more details at https://pytorch.org/docs/stable/optim.html#how-to-adjust-learning-rate\n",
            "  \"https://pytorch.org/docs/stable/optim.html#how-to-adjust-learning-rate\", UserWarning)\n",
            "  7%|▋         | 1/14 [00:02<00:26,  2.05s/it]"
          ],
          "name": "stderr"
        },
        {
          "output_type": "stream",
          "text": [
            "Step 0, Loss 2.0857114791870117\n"
          ],
          "name": "stdout"
        },
        {
          "output_type": "stream",
          "text": [
            " 79%|███████▊  | 11/14 [00:05<00:01,  2.43it/s]"
          ],
          "name": "stderr"
        },
        {
          "output_type": "stream",
          "text": [
            "Step 10, Loss 1.3535984754562378\n"
          ],
          "name": "stdout"
        },
        {
          "output_type": "stream",
          "text": [
            "100%|██████████| 14/14 [00:06<00:00,  2.22it/s]\n",
            "  0%|          | 0/14 [00:00<?, ?it/s]"
          ],
          "name": "stderr"
        },
        {
          "output_type": "stream",
          "text": [
            "Accuracy on training set = 0.38023952095808383\n"
          ],
          "name": "stdout"
        },
        {
          "output_type": "stream",
          "text": [
            " 50%|█████     | 7/14 [00:04<00:04,  1.68it/s]"
          ],
          "name": "stderr"
        },
        {
          "output_type": "stream",
          "text": [
            "Step 20, Loss 0.9516815543174744\n"
          ],
          "name": "stdout"
        },
        {
          "output_type": "stream",
          "text": [
            "100%|██████████| 14/14 [00:06<00:00,  2.20it/s]\n",
            "  0%|          | 0/14 [00:00<?, ?it/s]"
          ],
          "name": "stderr"
        },
        {
          "output_type": "stream",
          "text": [
            "Accuracy on training set = 0.718562874251497\n"
          ],
          "name": "stdout"
        },
        {
          "output_type": "stream",
          "text": [
            " 29%|██▊       | 4/14 [00:02<00:08,  1.18it/s]"
          ],
          "name": "stderr"
        },
        {
          "output_type": "stream",
          "text": [
            "Step 30, Loss 0.6044869422912598\n"
          ],
          "name": "stdout"
        },
        {
          "output_type": "stream",
          "text": [
            "100%|██████████| 14/14 [00:06<00:00,  2.20it/s]\n",
            "  0%|          | 0/14 [00:00<?, ?it/s]"
          ],
          "name": "stderr"
        },
        {
          "output_type": "stream",
          "text": [
            "Step 40, Loss 0.4745565354824066\n",
            "Accuracy on training set = 0.8473053892215568\n"
          ],
          "name": "stdout"
        },
        {
          "output_type": "stream",
          "text": [
            " 64%|██████▍   | 9/14 [00:05<00:03,  1.50it/s]"
          ],
          "name": "stderr"
        },
        {
          "output_type": "stream",
          "text": [
            "Step 50, Loss 0.5436362028121948\n"
          ],
          "name": "stdout"
        },
        {
          "output_type": "stream",
          "text": [
            "100%|██████████| 14/14 [00:06<00:00,  2.19it/s]\n",
            "  0%|          | 0/14 [00:00<?, ?it/s]"
          ],
          "name": "stderr"
        },
        {
          "output_type": "stream",
          "text": [
            "Accuracy on training set = 0.8808383233532934\n"
          ],
          "name": "stdout"
        },
        {
          "output_type": "stream",
          "text": [
            " 36%|███▌      | 5/14 [00:03<00:08,  1.00it/s]"
          ],
          "name": "stderr"
        },
        {
          "output_type": "stream",
          "text": [
            "Step 60, Loss 0.3958176076412201\n"
          ],
          "name": "stdout"
        },
        {
          "output_type": "stream",
          "text": [
            "100%|██████████| 14/14 [00:06<00:00,  2.22it/s]\n",
            "  0%|          | 0/14 [00:00<?, ?it/s]"
          ],
          "name": "stderr"
        },
        {
          "output_type": "stream",
          "text": [
            "Accuracy on training set = 0.8964071856287426\n"
          ],
          "name": "stdout"
        },
        {
          "output_type": "stream",
          "text": [
            " 14%|█▍        | 2/14 [00:02<00:18,  1.57s/it]"
          ],
          "name": "stderr"
        },
        {
          "output_type": "stream",
          "text": [
            "Step 70, Loss 0.2841755449771881\n"
          ],
          "name": "stdout"
        },
        {
          "output_type": "stream",
          "text": [
            " 79%|███████▊  | 11/14 [00:05<00:01,  1.95it/s]"
          ],
          "name": "stderr"
        },
        {
          "output_type": "stream",
          "text": [
            "Step 80, Loss 0.24774925410747528\n"
          ],
          "name": "stdout"
        },
        {
          "output_type": "stream",
          "text": [
            "100%|██████████| 14/14 [00:06<00:00,  2.17it/s]\n",
            "  0%|          | 0/14 [00:00<?, ?it/s]"
          ],
          "name": "stderr"
        },
        {
          "output_type": "stream",
          "text": [
            "Accuracy on training set = 0.911377245508982\n"
          ],
          "name": "stdout"
        },
        {
          "output_type": "stream",
          "text": [
            " 57%|█████▋    | 8/14 [00:04<00:02,  2.32it/s]"
          ],
          "name": "stderr"
        },
        {
          "output_type": "stream",
          "text": [
            "Step 90, Loss 0.2498355507850647\n"
          ],
          "name": "stdout"
        },
        {
          "output_type": "stream",
          "text": [
            "100%|██████████| 14/14 [00:06<00:00,  2.19it/s]\n",
            "  0%|          | 0/14 [00:00<?, ?it/s]"
          ],
          "name": "stderr"
        },
        {
          "output_type": "stream",
          "text": [
            "Accuracy on training set = 0.9221556886227545\n"
          ],
          "name": "stdout"
        },
        {
          "output_type": "stream",
          "text": [
            " 29%|██▊       | 4/14 [00:02<00:08,  1.18it/s]"
          ],
          "name": "stderr"
        },
        {
          "output_type": "stream",
          "text": [
            "Step 100, Loss 0.29478299617767334\n"
          ],
          "name": "stdout"
        },
        {
          "output_type": "stream",
          "text": [
            "100%|██████████| 14/14 [00:06<00:00,  2.21it/s]\n",
            "  0%|          | 0/14 [00:00<?, ?it/s]"
          ],
          "name": "stderr"
        },
        {
          "output_type": "stream",
          "text": [
            "Step 110, Loss 0.18800336122512817\n",
            "Accuracy on training set = 0.9281437125748503\n"
          ],
          "name": "stdout"
        },
        {
          "output_type": "stream",
          "text": [
            " 71%|███████▏  | 10/14 [00:05<00:02,  1.98it/s]"
          ],
          "name": "stderr"
        },
        {
          "output_type": "stream",
          "text": [
            "Step 120, Loss 0.17703813314437866\n"
          ],
          "name": "stdout"
        },
        {
          "output_type": "stream",
          "text": [
            "100%|██████████| 14/14 [00:06<00:00,  2.19it/s]\n",
            "  0%|          | 0/14 [00:00<?, ?it/s]"
          ],
          "name": "stderr"
        },
        {
          "output_type": "stream",
          "text": [
            "Accuracy on training set = 0.9335329341317365\n"
          ],
          "name": "stdout"
        },
        {
          "output_type": "stream",
          "text": [
            " 43%|████▎     | 6/14 [00:04<00:05,  1.35it/s]"
          ],
          "name": "stderr"
        },
        {
          "output_type": "stream",
          "text": [
            "Step 130, Loss 0.2668253481388092\n"
          ],
          "name": "stdout"
        },
        {
          "output_type": "stream",
          "text": [
            "100%|██████████| 14/14 [00:06<00:00,  2.21it/s]\n",
            "  0%|          | 0/14 [00:00<?, ?it/s]"
          ],
          "name": "stderr"
        },
        {
          "output_type": "stream",
          "text": [
            "Accuracy on training set = 0.9323353293413174\n"
          ],
          "name": "stdout"
        },
        {
          "output_type": "stream",
          "text": [
            "\r  7%|▋         | 1/14 [00:02<00:26,  2.06s/it]"
          ],
          "name": "stderr"
        },
        {
          "output_type": "stream",
          "text": [
            "Step 140, Loss 0.1997365951538086\n"
          ],
          "name": "stdout"
        },
        {
          "output_type": "stream",
          "text": [
            " 86%|████████▌ | 12/14 [00:05<00:00,  2.56it/s]"
          ],
          "name": "stderr"
        },
        {
          "output_type": "stream",
          "text": [
            "Step 150, Loss 0.15373729169368744\n"
          ],
          "name": "stdout"
        },
        {
          "output_type": "stream",
          "text": [
            "100%|██████████| 14/14 [00:06<00:00,  2.20it/s]\n",
            "  0%|          | 0/14 [00:00<?, ?it/s]"
          ],
          "name": "stderr"
        },
        {
          "output_type": "stream",
          "text": [
            "Accuracy on training set = 0.9377245508982036\n"
          ],
          "name": "stdout"
        },
        {
          "output_type": "stream",
          "text": [
            " 57%|█████▋    | 8/14 [00:04<00:02,  2.29it/s]"
          ],
          "name": "stderr"
        },
        {
          "output_type": "stream",
          "text": [
            "Step 160, Loss 0.2707454264163971\n"
          ],
          "name": "stdout"
        },
        {
          "output_type": "stream",
          "text": [
            "100%|██████████| 14/14 [00:06<00:00,  2.16it/s]\n",
            "  0%|          | 0/14 [00:00<?, ?it/s]"
          ],
          "name": "stderr"
        },
        {
          "output_type": "stream",
          "text": [
            "Accuracy on training set = 0.9383233532934132\n"
          ],
          "name": "stdout"
        },
        {
          "output_type": "stream",
          "text": [
            " 29%|██▊       | 4/14 [00:02<00:08,  1.19it/s]"
          ],
          "name": "stderr"
        },
        {
          "output_type": "stream",
          "text": [
            "Step 170, Loss 0.20492681860923767\n"
          ],
          "name": "stdout"
        },
        {
          "output_type": "stream",
          "text": [
            "100%|██████████| 14/14 [00:06<00:00,  2.18it/s]\n",
            "  0%|          | 0/14 [00:00<?, ?it/s]"
          ],
          "name": "stderr"
        },
        {
          "output_type": "stream",
          "text": [
            "Step 180, Loss 0.16159389913082123\n",
            "Accuracy on training set = 0.9431137724550899\n"
          ],
          "name": "stdout"
        },
        {
          "output_type": "stream",
          "text": [
            " 64%|██████▍   | 9/14 [00:05<00:03,  1.44it/s]"
          ],
          "name": "stderr"
        },
        {
          "output_type": "stream",
          "text": [
            "Step 190, Loss 0.20905303955078125\n"
          ],
          "name": "stdout"
        },
        {
          "output_type": "stream",
          "text": [
            "100%|██████████| 14/14 [00:06<00:00,  2.20it/s]\n",
            "  0%|          | 0/14 [00:00<?, ?it/s]"
          ],
          "name": "stderr"
        },
        {
          "output_type": "stream",
          "text": [
            "Accuracy on training set = 0.9508982035928144\n"
          ],
          "name": "stdout"
        },
        {
          "output_type": "stream",
          "text": [
            " 43%|████▎     | 6/14 [00:03<00:05,  1.39it/s]"
          ],
          "name": "stderr"
        },
        {
          "output_type": "stream",
          "text": [
            "Step 200, Loss 0.12626859545707703\n"
          ],
          "name": "stdout"
        },
        {
          "output_type": "stream",
          "text": [
            "100%|██████████| 14/14 [00:06<00:00,  2.24it/s]\n",
            "  0%|          | 0/14 [00:00<?, ?it/s]"
          ],
          "name": "stderr"
        },
        {
          "output_type": "stream",
          "text": [
            "Accuracy on training set = 0.9520958083832335\n"
          ],
          "name": "stdout"
        },
        {
          "output_type": "stream",
          "text": [
            "\r  7%|▋         | 1/14 [00:01<00:24,  1.88s/it]"
          ],
          "name": "stderr"
        },
        {
          "output_type": "stream",
          "text": [
            "Step 210, Loss 0.14678776264190674\n"
          ],
          "name": "stdout"
        },
        {
          "output_type": "stream",
          "text": [
            " 79%|███████▊  | 11/14 [00:05<00:01,  2.41it/s]"
          ],
          "name": "stderr"
        },
        {
          "output_type": "stream",
          "text": [
            "Step 220, Loss 0.15152710676193237\n"
          ],
          "name": "stdout"
        },
        {
          "output_type": "stream",
          "text": [
            "100%|██████████| 14/14 [00:06<00:00,  2.23it/s]\n",
            "  0%|          | 0/14 [00:00<?, ?it/s]"
          ],
          "name": "stderr"
        },
        {
          "output_type": "stream",
          "text": [
            "Accuracy on training set = 0.9491017964071856\n"
          ],
          "name": "stdout"
        },
        {
          "output_type": "stream",
          "text": [
            " 50%|█████     | 7/14 [00:04<00:03,  1.76it/s]"
          ],
          "name": "stderr"
        },
        {
          "output_type": "stream",
          "text": [
            "Step 230, Loss 0.1096000149846077\n"
          ],
          "name": "stdout"
        },
        {
          "output_type": "stream",
          "text": [
            "100%|██████████| 14/14 [00:06<00:00,  2.22it/s]\n",
            "  0%|          | 0/14 [00:00<?, ?it/s]"
          ],
          "name": "stderr"
        },
        {
          "output_type": "stream",
          "text": [
            "Accuracy on training set = 0.9568862275449102\n"
          ],
          "name": "stdout"
        },
        {
          "output_type": "stream",
          "text": [
            " 29%|██▊       | 4/14 [00:02<00:11,  1.13s/it]"
          ],
          "name": "stderr"
        },
        {
          "output_type": "stream",
          "text": [
            "Step 240, Loss 0.11212107539176941\n"
          ],
          "name": "stdout"
        },
        {
          "output_type": "stream",
          "text": [
            "100%|██████████| 14/14 [00:06<00:00,  2.20it/s]\n",
            "  0%|          | 0/14 [00:00<?, ?it/s]"
          ],
          "name": "stderr"
        },
        {
          "output_type": "stream",
          "text": [
            "Step 250, Loss 0.13148076832294464\n",
            "Accuracy on training set = 0.9580838323353293\n"
          ],
          "name": "stdout"
        },
        {
          "output_type": "stream",
          "text": [
            " 64%|██████▍   | 9/14 [00:05<00:03,  1.47it/s]"
          ],
          "name": "stderr"
        },
        {
          "output_type": "stream",
          "text": [
            "Step 260, Loss 0.14537279307842255\n"
          ],
          "name": "stdout"
        },
        {
          "output_type": "stream",
          "text": [
            "100%|██████████| 14/14 [00:06<00:00,  2.19it/s]\n",
            "  0%|          | 0/14 [00:00<?, ?it/s]"
          ],
          "name": "stderr"
        },
        {
          "output_type": "stream",
          "text": [
            "Accuracy on training set = 0.9586826347305389\n"
          ],
          "name": "stdout"
        },
        {
          "output_type": "stream",
          "text": [
            " 43%|████▎     | 6/14 [00:03<00:05,  1.42it/s]"
          ],
          "name": "stderr"
        },
        {
          "output_type": "stream",
          "text": [
            "Step 270, Loss 0.13350772857666016\n"
          ],
          "name": "stdout"
        },
        {
          "output_type": "stream",
          "text": [
            "100%|██████████| 14/14 [00:06<00:00,  2.22it/s]"
          ],
          "name": "stderr"
        },
        {
          "output_type": "stream",
          "text": [
            "Accuracy on training set = 0.9580838323353293\n"
          ],
          "name": "stdout"
        },
        {
          "output_type": "stream",
          "text": [
            "\n"
          ],
          "name": "stderr"
        }
      ]
    },
    {
      "cell_type": "markdown",
      "metadata": {
        "id": "UsHFI-GAJd69",
        "colab_type": "text"
      },
      "source": [
        "##**Test**"
      ]
    },
    {
      "cell_type": "code",
      "metadata": {
        "id": "EO3HV5pqJg1o",
        "colab_type": "code",
        "outputId": "7a381235-0f34-4bdb-ab10-490c9b102330",
        "colab": {
          "base_uri": "https://localhost:8080/",
          "height": 52
        }
      },
      "source": [
        "net = net.to(DEVICE) # this will bring the network to GPU if DEVICE is cuda\n",
        "net.train(False) # Set Network to evaluation mode\n",
        "\n",
        "running_corrects = 0\n",
        "for images, labels in tqdm(art_painting_dataloader):\n",
        "  images = images.to(DEVICE)\n",
        "  labels = labels.to(DEVICE)\n",
        "\n",
        "  # Forward Pass\n",
        "  outputs = net(images)\n",
        "\n",
        "  loss = criterion(outputs, labels)\n",
        "\n",
        "  # Get predictions\n",
        "  _, preds = torch.max(outputs.data, 1)\n",
        "\n",
        "  # Update Corrects\n",
        "  running_corrects += torch.sum(preds == labels.data).data.item()\n",
        "\n",
        "# Calculate Accuracy\n",
        "accuracy = running_corrects / float(len(art_painting))\n",
        "\n",
        "print('Test Accuracy: {}'.format(accuracy))"
      ],
      "execution_count": 9,
      "outputs": [
        {
          "output_type": "stream",
          "text": [
            "100%|██████████| 16/16 [00:07<00:00,  2.18it/s]"
          ],
          "name": "stderr"
        },
        {
          "output_type": "stream",
          "text": [
            "Test Accuracy: 0.45361328125\n"
          ],
          "name": "stdout"
        },
        {
          "output_type": "stream",
          "text": [
            "\n"
          ],
          "name": "stderr"
        }
      ]
    },
    {
      "cell_type": "code",
      "metadata": {
        "id": "IPzBRkB3iKWU",
        "colab_type": "code",
        "outputId": "0bffb0df-6ee1-48aa-9b8b-5c0eb1d6c738",
        "colab": {
          "base_uri": "https://localhost:8080/",
          "height": 34
        }
      },
      "source": [
        "loss.item()"
      ],
      "execution_count": 10,
      "outputs": [
        {
          "output_type": "execute_result",
          "data": {
            "text/plain": [
              "5.547560691833496"
            ]
          },
          "metadata": {
            "tags": []
          },
          "execution_count": 10
        }
      ]
    },
    {
      "cell_type": "markdown",
      "metadata": {
        "id": "2NHDb2yBC7jX",
        "colab_type": "text"
      },
      "source": [
        "# Model with DANN"
      ]
    },
    {
      "cell_type": "markdown",
      "metadata": {
        "id": "FTjLIAi4dhI8",
        "colab_type": "text"
      },
      "source": [
        "## Parameters"
      ]
    },
    {
      "cell_type": "code",
      "metadata": {
        "id": "X071uciMSfWf",
        "colab_type": "code",
        "colab": {}
      },
      "source": [
        "alfa = 1"
      ],
      "execution_count": 0,
      "outputs": []
    },
    {
      "cell_type": "markdown",
      "metadata": {
        "id": "f9PNdrqJdkSO",
        "colab_type": "text"
      },
      "source": [
        "## Network"
      ]
    },
    {
      "cell_type": "code",
      "metadata": {
        "id": "xC1hCskMXaTC",
        "colab_type": "code",
        "colab": {}
      },
      "source": [
        "net = alexNetDA(num_classes = 7)\n",
        "net = net.to(DEVICE)"
      ],
      "execution_count": 0,
      "outputs": []
    },
    {
      "cell_type": "markdown",
      "metadata": {
        "id": "NemzVoaidnQA",
        "colab_type": "text"
      },
      "source": [
        "## Loss, Optim and Scheduler"
      ]
    },
    {
      "cell_type": "code",
      "metadata": {
        "id": "PbFj42qsER6M",
        "colab_type": "code",
        "colab": {}
      },
      "source": [
        "criterion_class = nn.CrossEntropyLoss() \n",
        "criterion_domain = nn.CrossEntropyLoss()\n",
        "\n",
        "parameters_to_optimize = net.parameters() \n",
        "\n",
        "optimizer = optim.SGD(parameters_to_optimize, lr=LR, momentum=MOMENTUM, weight_decay=WEIGHT_DECAY)\n",
        "\n",
        "scheduler = optim.lr_scheduler.StepLR(optimizer, step_size=STEP_SIZE, gamma=GAMMA)"
      ],
      "execution_count": 0,
      "outputs": []
    },
    {
      "cell_type": "markdown",
      "metadata": {
        "id": "yW0rUNTbduSm",
        "colab_type": "text"
      },
      "source": [
        "## Train "
      ]
    },
    {
      "cell_type": "code",
      "metadata": {
        "id": "UoZJAcaHEtYT",
        "colab_type": "code",
        "colab": {}
      },
      "source": [
        "#photos_dataloader = DataLoader(photos, batch_size=BATCH_SIZE, shuffle=True, num_workers=4)\n",
        "#art_painting_dataloader = DataLoader(art_painting, batch_size=BATCH_SIZE, shuffle=False, num_workers=4)\n",
        "\n",
        "max_batches = min(len(photos_dataloader), len(art_painting_dataloader))"
      ],
      "execution_count": 0,
      "outputs": []
    },
    {
      "cell_type": "code",
      "metadata": {
        "id": "O4tSP1-uEPQt",
        "colab_type": "code",
        "colab": {
          "base_uri": "https://localhost:8080/",
          "height": 1000
        },
        "outputId": "23f570f2-c0cd-4883-8665-155a28d9541b"
      },
      "source": [
        "# By default, everything is loaded to cpu\n",
        "net = net.to(DEVICE) # this will bring the network to GPU if DEVICE is cuda\n",
        "\n",
        "cudnn.benchmark # Calling this optimizes runtime\n",
        "running_corrects = 0\n",
        "current_step = 0\n",
        "# Start iterating over the epochs\n",
        "# Iterate over the dataset\n",
        "for epoch in range(NUM_EPOCHS):\n",
        "  scheduler.step() \n",
        "  iterPh = iter(photos_dataloader)\n",
        "  iterAP = iter(art_painting_dataloader)\n",
        "  for batch in range(max_batches):\n",
        "    net.train() # Sets module in training mode\n",
        "    optimizer.zero_grad() # Zero-ing the gradients\n",
        "\n",
        "    images_source, labels_source = next(iterPh)\n",
        "    labels_domain = torch.zeros(len(images_source), dtype=torch.long)\n",
        "    \n",
        "    # Bring data over the device of choice\n",
        "    images_source = images_source.to(DEVICE)\n",
        "    labels_source = labels_source.to(DEVICE)\n",
        "    labels_domain = labels_domain.to(DEVICE)\n",
        "\n",
        "  \n",
        "    # Get the output for classes and domains; class_pred, domain_pred\n",
        "    classes_output = net(images_source)\n",
        "    domain_output = net(images_source, alfa)\n",
        "   \n",
        "    #In orter to compute the accuracy, count the right preditected labels\n",
        "    _, preds = torch.max(classes_output.data, 1)\n",
        "    \n",
        "    running_corrects += torch.sum(preds == labels_source.data).data.item()\n",
        "    \n",
        "    # Compute the loss on the source domain\n",
        "    loss_s_label = criterion_class(classes_output, labels_source)\n",
        "    loss_s_domain = criterion_domain(domain_output, labels_domain)\n",
        "    \n",
        "    # Get the output for targets\n",
        "    targets, _ = next(iterAP)\n",
        "    target_domain = torch.ones(len(targets), dtype=torch.long)\n",
        "\n",
        "    # Bring data over the device of choice\n",
        "    targets = targets.to(DEVICE)\n",
        "    target_domain = target_domain.to(DEVICE)\n",
        "\n",
        "    target_output = net(targets, alfa)\n",
        "\n",
        "    # Compute the loss on the source domain\n",
        "    loss_t_domain = criterion_domain(target_output,target_domain)\n",
        "\n",
        "    loss = loss_s_label + loss_s_domain + loss_t_domain\n",
        "    loss.backward()  # backward pass: computes gradients\n",
        "\n",
        "    optimizer.step() # update weights based on accumulated gradients\n",
        "\n",
        "    current_step += 1\n",
        "\n",
        "    print(f'[{batch+1}/{max_batches}] '\n",
        "          f'class_loss: {loss_s_label.item():.4f} ' f's_domain_loss: {loss_s_domain.item():.4f} '\n",
        "          f't_domain_loss: {loss_t_domain.item():.4f} '\n",
        "          )  \n",
        "  # Calculate Accuracy \n",
        "  lunghezza = max_batches*BATCH_SIZE\n",
        "  accuracy = running_corrects / lunghezza\n",
        "  accuracy_2 = running_corrects/float(len(photos))\n",
        "  print(f'Accuracy is: {accuracy}' f'Accuracy_2 is {accuracy_2}')\n",
        "  running_corrects = 0\n",
        "  "
      ],
      "execution_count": 15,
      "outputs": [
        {
          "output_type": "stream",
          "text": [
            "/usr/local/lib/python3.6/dist-packages/torch/optim/lr_scheduler.py:123: UserWarning: Detected call of `lr_scheduler.step()` before `optimizer.step()`. In PyTorch 1.1.0 and later, you should call them in the opposite order: `optimizer.step()` before `lr_scheduler.step()`.  Failure to do this will result in PyTorch skipping the first value of the learning rate schedule. See more details at https://pytorch.org/docs/stable/optim.html#how-to-adjust-learning-rate\n",
            "  \"https://pytorch.org/docs/stable/optim.html#how-to-adjust-learning-rate\", UserWarning)\n"
          ],
          "name": "stderr"
        },
        {
          "output_type": "stream",
          "text": [
            "[1/14] class_loss: 2.0679 s_domain_loss: 0.6973 t_domain_loss: 0.7490 \n",
            "[2/14] class_loss: 1.9987 s_domain_loss: 0.6937 t_domain_loss: 0.7448 \n",
            "[3/14] class_loss: 2.0178 s_domain_loss: 0.6822 t_domain_loss: 0.7472 \n",
            "[4/14] class_loss: 1.9194 s_domain_loss: 0.6933 t_domain_loss: 0.7413 \n",
            "[5/14] class_loss: 1.8052 s_domain_loss: 0.6953 t_domain_loss: 0.7396 \n",
            "[6/14] class_loss: 1.7728 s_domain_loss: 0.7035 t_domain_loss: 0.7319 \n",
            "[7/14] class_loss: 1.6435 s_domain_loss: 0.7120 t_domain_loss: 0.7284 \n",
            "[8/14] class_loss: 1.5766 s_domain_loss: 0.7085 t_domain_loss: 0.7185 \n",
            "[9/14] class_loss: 1.4451 s_domain_loss: 0.7132 t_domain_loss: 0.7197 \n",
            "[10/14] class_loss: 1.3205 s_domain_loss: 0.7155 t_domain_loss: 0.7112 \n",
            "[11/14] class_loss: 1.3550 s_domain_loss: 0.7196 t_domain_loss: 0.7194 \n",
            "[12/14] class_loss: 1.2572 s_domain_loss: 0.7238 t_domain_loss: 0.7182 \n",
            "[13/14] class_loss: 1.1436 s_domain_loss: 0.7197 t_domain_loss: 0.7101 \n",
            "[14/14] class_loss: 1.3058 s_domain_loss: 0.7069 t_domain_loss: 0.7049 \n",
            "Accuracy is: 0.3588169642857143Accuracy_2 is 0.3850299401197605\n",
            "[1/14] class_loss: 1.1118 s_domain_loss: 0.7058 t_domain_loss: 0.7100 \n",
            "[2/14] class_loss: 0.9261 s_domain_loss: 0.7091 t_domain_loss: 0.7100 \n",
            "[3/14] class_loss: 1.0664 s_domain_loss: 0.6994 t_domain_loss: 0.7172 \n",
            "[4/14] class_loss: 0.8548 s_domain_loss: 0.6954 t_domain_loss: 0.7183 \n",
            "[5/14] class_loss: 0.9240 s_domain_loss: 0.6943 t_domain_loss: 0.7238 \n",
            "[6/14] class_loss: 0.8188 s_domain_loss: 0.6937 t_domain_loss: 0.7237 \n",
            "[7/14] class_loss: 0.8853 s_domain_loss: 0.6878 t_domain_loss: 0.7278 \n",
            "[8/14] class_loss: 0.8477 s_domain_loss: 0.6809 t_domain_loss: 0.7216 \n",
            "[9/14] class_loss: 0.7449 s_domain_loss: 0.6817 t_domain_loss: 0.7272 \n",
            "[10/14] class_loss: 0.8653 s_domain_loss: 0.6898 t_domain_loss: 0.7223 \n",
            "[11/14] class_loss: 0.7762 s_domain_loss: 0.6825 t_domain_loss: 0.7289 \n",
            "[12/14] class_loss: 0.7358 s_domain_loss: 0.6873 t_domain_loss: 0.7269 \n",
            "[13/14] class_loss: 0.7682 s_domain_loss: 0.6904 t_domain_loss: 0.7197 \n",
            "[14/14] class_loss: 0.3187 s_domain_loss: 0.6896 t_domain_loss: 0.7135 \n",
            "Accuracy is: 0.68359375Accuracy_2 is 0.7335329341317365\n",
            "[1/14] class_loss: 0.6264 s_domain_loss: 0.6912 t_domain_loss: 0.7131 \n",
            "[2/14] class_loss: 0.6241 s_domain_loss: 0.7006 t_domain_loss: 0.7097 \n",
            "[3/14] class_loss: 0.6426 s_domain_loss: 0.6890 t_domain_loss: 0.7118 \n",
            "[4/14] class_loss: 0.5915 s_domain_loss: 0.6960 t_domain_loss: 0.7085 \n",
            "[5/14] class_loss: 0.6062 s_domain_loss: 0.6928 t_domain_loss: 0.7104 \n",
            "[6/14] class_loss: 0.6395 s_domain_loss: 0.7011 t_domain_loss: 0.7079 \n",
            "[7/14] class_loss: 0.5565 s_domain_loss: 0.6899 t_domain_loss: 0.7100 \n",
            "[8/14] class_loss: 0.6525 s_domain_loss: 0.6873 t_domain_loss: 0.7031 \n",
            "[9/14] class_loss: 0.5750 s_domain_loss: 0.7006 t_domain_loss: 0.7081 \n",
            "[10/14] class_loss: 0.6252 s_domain_loss: 0.6983 t_domain_loss: 0.7047 \n",
            "[11/14] class_loss: 0.5491 s_domain_loss: 0.6891 t_domain_loss: 0.7112 \n",
            "[12/14] class_loss: 0.4454 s_domain_loss: 0.6934 t_domain_loss: 0.7119 \n",
            "[13/14] class_loss: 0.5294 s_domain_loss: 0.6926 t_domain_loss: 0.7097 \n",
            "[14/14] class_loss: 0.3735 s_domain_loss: 0.6999 t_domain_loss: 0.7039 \n",
            "Accuracy is: 0.7712053571428571Accuracy_2 is 0.8275449101796407\n",
            "[1/14] class_loss: 0.4748 s_domain_loss: 0.6825 t_domain_loss: 0.7080 \n",
            "[2/14] class_loss: 0.4707 s_domain_loss: 0.6914 t_domain_loss: 0.7090 \n",
            "[3/14] class_loss: 0.4665 s_domain_loss: 0.6790 t_domain_loss: 0.7143 \n",
            "[4/14] class_loss: 0.3557 s_domain_loss: 0.6729 t_domain_loss: 0.7132 \n",
            "[5/14] class_loss: 0.3940 s_domain_loss: 0.6836 t_domain_loss: 0.7149 \n",
            "[6/14] class_loss: 0.5060 s_domain_loss: 0.6797 t_domain_loss: 0.7137 \n",
            "[7/14] class_loss: 0.4063 s_domain_loss: 0.6911 t_domain_loss: 0.7145 \n",
            "[8/14] class_loss: 0.4208 s_domain_loss: 0.6833 t_domain_loss: 0.7077 \n",
            "[9/14] class_loss: 0.4399 s_domain_loss: 0.6796 t_domain_loss: 0.7120 \n",
            "[10/14] class_loss: 0.3774 s_domain_loss: 0.6784 t_domain_loss: 0.7067 \n",
            "[11/14] class_loss: 0.4102 s_domain_loss: 0.6991 t_domain_loss: 0.7098 \n",
            "[12/14] class_loss: 0.5269 s_domain_loss: 0.6900 t_domain_loss: 0.7104 \n",
            "[13/14] class_loss: 0.3611 s_domain_loss: 0.6888 t_domain_loss: 0.7071 \n",
            "[14/14] class_loss: 0.5182 s_domain_loss: 0.7295 t_domain_loss: 0.6988 \n",
            "Accuracy is: 0.8208705357142857Accuracy_2 is 0.8808383233532934\n",
            "[1/14] class_loss: 0.4645 s_domain_loss: 0.6898 t_domain_loss: 0.7027 \n",
            "[2/14] class_loss: 0.3471 s_domain_loss: 0.6875 t_domain_loss: 0.7041 \n",
            "[3/14] class_loss: 0.3452 s_domain_loss: 0.6793 t_domain_loss: 0.7080 \n",
            "[4/14] class_loss: 0.3098 s_domain_loss: 0.6900 t_domain_loss: 0.7073 \n",
            "[5/14] class_loss: 0.3538 s_domain_loss: 0.6736 t_domain_loss: 0.7081 \n",
            "[6/14] class_loss: 0.3098 s_domain_loss: 0.6840 t_domain_loss: 0.7086 \n",
            "[7/14] class_loss: 0.3872 s_domain_loss: 0.6822 t_domain_loss: 0.7088 \n",
            "[8/14] class_loss: 0.3753 s_domain_loss: 0.6804 t_domain_loss: 0.7040 \n",
            "[9/14] class_loss: 0.2563 s_domain_loss: 0.6703 t_domain_loss: 0.7085 \n",
            "[10/14] class_loss: 0.2791 s_domain_loss: 0.6823 t_domain_loss: 0.7029 \n",
            "[11/14] class_loss: 0.3354 s_domain_loss: 0.6861 t_domain_loss: 0.7054 \n",
            "[12/14] class_loss: 0.3543 s_domain_loss: 0.6813 t_domain_loss: 0.7073 \n",
            "[13/14] class_loss: 0.3613 s_domain_loss: 0.6900 t_domain_loss: 0.7045 \n",
            "[14/14] class_loss: 0.3362 s_domain_loss: 0.7106 t_domain_loss: 0.6956 \n",
            "Accuracy is: 0.8465401785714286Accuracy_2 is 0.9083832335329342\n",
            "[1/14] class_loss: 0.3419 s_domain_loss: 0.6863 t_domain_loss: 0.6983 \n",
            "[2/14] class_loss: 0.2971 s_domain_loss: 0.6846 t_domain_loss: 0.6996 \n",
            "[3/14] class_loss: 0.2589 s_domain_loss: 0.6795 t_domain_loss: 0.7024 \n",
            "[4/14] class_loss: 0.3015 s_domain_loss: 0.6789 t_domain_loss: 0.7013 \n",
            "[5/14] class_loss: 0.2676 s_domain_loss: 0.6829 t_domain_loss: 0.7010 \n",
            "[6/14] class_loss: 0.3060 s_domain_loss: 0.6888 t_domain_loss: 0.7021 \n",
            "[7/14] class_loss: 0.2324 s_domain_loss: 0.6818 t_domain_loss: 0.7014 \n",
            "[8/14] class_loss: 0.2948 s_domain_loss: 0.6768 t_domain_loss: 0.6979 \n",
            "[9/14] class_loss: 0.3725 s_domain_loss: 0.6800 t_domain_loss: 0.7031 \n",
            "[10/14] class_loss: 0.3002 s_domain_loss: 0.6849 t_domain_loss: 0.6975 \n",
            "[11/14] class_loss: 0.2987 s_domain_loss: 0.6795 t_domain_loss: 0.7011 \n",
            "[12/14] class_loss: 0.2393 s_domain_loss: 0.6771 t_domain_loss: 0.7047 \n",
            "[13/14] class_loss: 0.3415 s_domain_loss: 0.6817 t_domain_loss: 0.7034 \n",
            "[14/14] class_loss: 0.0743 s_domain_loss: 0.6653 t_domain_loss: 0.6940 \n",
            "Accuracy is: 0.8515625Accuracy_2 is 0.9137724550898204\n",
            "[1/14] class_loss: 0.2469 s_domain_loss: 0.6787 t_domain_loss: 0.6971 \n",
            "[2/14] class_loss: 0.2646 s_domain_loss: 0.6823 t_domain_loss: 0.6983 \n",
            "[3/14] class_loss: 0.2345 s_domain_loss: 0.6706 t_domain_loss: 0.7009 \n",
            "[4/14] class_loss: 0.2583 s_domain_loss: 0.6853 t_domain_loss: 0.6991 \n",
            "[5/14] class_loss: 0.3189 s_domain_loss: 0.6839 t_domain_loss: 0.6988 \n",
            "[6/14] class_loss: 0.2392 s_domain_loss: 0.6763 t_domain_loss: 0.6999 \n",
            "[7/14] class_loss: 0.2447 s_domain_loss: 0.6734 t_domain_loss: 0.6981 \n",
            "[8/14] class_loss: 0.2961 s_domain_loss: 0.6756 t_domain_loss: 0.6941 \n",
            "[9/14] class_loss: 0.2777 s_domain_loss: 0.6830 t_domain_loss: 0.6989 \n",
            "[10/14] class_loss: 0.2744 s_domain_loss: 0.6750 t_domain_loss: 0.6918 \n",
            "[11/14] class_loss: 0.2608 s_domain_loss: 0.6803 t_domain_loss: 0.6960 \n",
            "[12/14] class_loss: 0.2254 s_domain_loss: 0.6879 t_domain_loss: 0.6998 \n",
            "[13/14] class_loss: 0.2450 s_domain_loss: 0.6834 t_domain_loss: 0.6998 \n",
            "[14/14] class_loss: 0.7631 s_domain_loss: 0.6885 t_domain_loss: 0.6902 \n",
            "Accuracy is: 0.8616071428571429Accuracy_2 is 0.9245508982035928\n",
            "[1/14] class_loss: 0.2004 s_domain_loss: 0.6707 t_domain_loss: 0.6944 \n",
            "[2/14] class_loss: 0.2525 s_domain_loss: 0.6801 t_domain_loss: 0.6970 \n",
            "[3/14] class_loss: 0.2633 s_domain_loss: 0.6773 t_domain_loss: 0.7001 \n",
            "[4/14] class_loss: 0.2339 s_domain_loss: 0.6765 t_domain_loss: 0.6991 \n",
            "[5/14] class_loss: 0.2376 s_domain_loss: 0.6732 t_domain_loss: 0.6992 \n",
            "[6/14] class_loss: 0.2430 s_domain_loss: 0.6766 t_domain_loss: 0.7005 \n",
            "[7/14] class_loss: 0.2970 s_domain_loss: 0.6770 t_domain_loss: 0.6990 \n",
            "[8/14] class_loss: 0.2670 s_domain_loss: 0.6723 t_domain_loss: 0.6958 \n",
            "[9/14] class_loss: 0.2012 s_domain_loss: 0.6712 t_domain_loss: 0.7010 \n",
            "[10/14] class_loss: 0.1863 s_domain_loss: 0.6586 t_domain_loss: 0.6927 \n",
            "[11/14] class_loss: 0.2718 s_domain_loss: 0.6737 t_domain_loss: 0.6962 \n",
            "[12/14] class_loss: 0.2323 s_domain_loss: 0.6770 t_domain_loss: 0.6995 \n",
            "[13/14] class_loss: 0.2092 s_domain_loss: 0.6773 t_domain_loss: 0.6984 \n",
            "[14/14] class_loss: 0.3653 s_domain_loss: 0.7293 t_domain_loss: 0.6871 \n",
            "Accuracy is: 0.8660714285714286Accuracy_2 is 0.9293413173652695\n",
            "[1/14] class_loss: 0.3021 s_domain_loss: 0.6902 t_domain_loss: 0.6909 \n",
            "[2/14] class_loss: 0.2665 s_domain_loss: 0.6808 t_domain_loss: 0.6944 \n",
            "[3/14] class_loss: 0.1545 s_domain_loss: 0.6655 t_domain_loss: 0.6971 \n",
            "[4/14] class_loss: 0.2296 s_domain_loss: 0.6687 t_domain_loss: 0.6969 \n",
            "[5/14] class_loss: 0.2330 s_domain_loss: 0.6687 t_domain_loss: 0.6968 \n",
            "[6/14] class_loss: 0.2930 s_domain_loss: 0.6764 t_domain_loss: 0.6984 \n",
            "[7/14] class_loss: 0.2912 s_domain_loss: 0.6674 t_domain_loss: 0.6966 \n",
            "[8/14] class_loss: 0.1814 s_domain_loss: 0.6658 t_domain_loss: 0.6932 \n",
            "[9/14] class_loss: 0.1625 s_domain_loss: 0.6667 t_domain_loss: 0.6979 \n",
            "[10/14] class_loss: 0.1790 s_domain_loss: 0.6627 t_domain_loss: 0.6892 \n",
            "[11/14] class_loss: 0.2010 s_domain_loss: 0.6702 t_domain_loss: 0.6933 \n",
            "[12/14] class_loss: 0.1671 s_domain_loss: 0.6755 t_domain_loss: 0.6965 \n",
            "[13/14] class_loss: 0.2190 s_domain_loss: 0.6740 t_domain_loss: 0.6953 \n",
            "[14/14] class_loss: 0.2197 s_domain_loss: 0.7230 t_domain_loss: 0.6844 \n",
            "Accuracy is: 0.8722098214285714Accuracy_2 is 0.9359281437125748\n",
            "[1/14] class_loss: 0.2264 s_domain_loss: 0.6753 t_domain_loss: 0.6872 \n",
            "[2/14] class_loss: 0.1514 s_domain_loss: 0.6719 t_domain_loss: 0.6905 \n",
            "[3/14] class_loss: 0.2829 s_domain_loss: 0.6823 t_domain_loss: 0.6916 \n",
            "[4/14] class_loss: 0.2196 s_domain_loss: 0.6759 t_domain_loss: 0.6918 \n",
            "[5/14] class_loss: 0.2361 s_domain_loss: 0.6681 t_domain_loss: 0.6914 \n",
            "[6/14] class_loss: 0.2033 s_domain_loss: 0.6622 t_domain_loss: 0.6938 \n",
            "[7/14] class_loss: 0.1753 s_domain_loss: 0.6735 t_domain_loss: 0.6926 \n",
            "[8/14] class_loss: 0.2651 s_domain_loss: 0.6626 t_domain_loss: 0.6902 \n",
            "[9/14] class_loss: 0.1370 s_domain_loss: 0.6652 t_domain_loss: 0.6953 \n",
            "[10/14] class_loss: 0.2078 s_domain_loss: 0.6602 t_domain_loss: 0.6868 \n",
            "[11/14] class_loss: 0.1673 s_domain_loss: 0.6733 t_domain_loss: 0.6915 \n",
            "[12/14] class_loss: 0.1548 s_domain_loss: 0.6781 t_domain_loss: 0.6957 \n",
            "[13/14] class_loss: 0.2234 s_domain_loss: 0.6645 t_domain_loss: 0.6958 \n",
            "[14/14] class_loss: 0.7471 s_domain_loss: 0.6995 t_domain_loss: 0.6850 \n",
            "Accuracy is: 0.8755580357142857Accuracy_2 is 0.9395209580838323\n",
            "[1/14] class_loss: 0.1891 s_domain_loss: 0.6743 t_domain_loss: 0.6867 \n",
            "[2/14] class_loss: 0.2230 s_domain_loss: 0.6726 t_domain_loss: 0.6901 \n",
            "[3/14] class_loss: 0.1714 s_domain_loss: 0.6719 t_domain_loss: 0.6907 \n",
            "[4/14] class_loss: 0.2349 s_domain_loss: 0.6666 t_domain_loss: 0.6904 \n",
            "[5/14] class_loss: 0.1493 s_domain_loss: 0.6770 t_domain_loss: 0.6893 \n",
            "[6/14] class_loss: 0.2125 s_domain_loss: 0.6612 t_domain_loss: 0.6916 \n",
            "[7/14] class_loss: 0.2581 s_domain_loss: 0.6821 t_domain_loss: 0.6898 \n",
            "[8/14] class_loss: 0.1155 s_domain_loss: 0.6665 t_domain_loss: 0.6876 \n",
            "[9/14] class_loss: 0.1933 s_domain_loss: 0.6591 t_domain_loss: 0.6927 \n",
            "[10/14] class_loss: 0.1507 s_domain_loss: 0.6606 t_domain_loss: 0.6841 \n",
            "[11/14] class_loss: 0.1362 s_domain_loss: 0.6630 t_domain_loss: 0.6888 \n",
            "[12/14] class_loss: 0.2146 s_domain_loss: 0.6636 t_domain_loss: 0.6930 \n",
            "[13/14] class_loss: 0.2325 s_domain_loss: 0.6669 t_domain_loss: 0.6930 \n",
            "[14/14] class_loss: 0.1230 s_domain_loss: 0.7097 t_domain_loss: 0.6822 \n",
            "Accuracy is: 0.8783482142857143Accuracy_2 is 0.9425149700598803\n",
            "[1/14] class_loss: 0.1613 s_domain_loss: 0.6724 t_domain_loss: 0.6836 \n",
            "[2/14] class_loss: 0.1156 s_domain_loss: 0.6498 t_domain_loss: 0.6870 \n",
            "[3/14] class_loss: 0.2430 s_domain_loss: 0.6812 t_domain_loss: 0.6868 \n",
            "[4/14] class_loss: 0.1274 s_domain_loss: 0.6573 t_domain_loss: 0.6864 \n",
            "[5/14] class_loss: 0.1636 s_domain_loss: 0.6674 t_domain_loss: 0.6847 \n",
            "[6/14] class_loss: 0.1917 s_domain_loss: 0.6739 t_domain_loss: 0.6863 \n",
            "[7/14] class_loss: 0.1737 s_domain_loss: 0.6701 t_domain_loss: 0.6842 \n",
            "[8/14] class_loss: 0.1994 s_domain_loss: 0.6663 t_domain_loss: 0.6821 \n",
            "[9/14] class_loss: 0.1744 s_domain_loss: 0.6859 t_domain_loss: 0.6876 \n",
            "[10/14] class_loss: 0.2097 s_domain_loss: 0.6615 t_domain_loss: 0.6797 \n",
            "[11/14] class_loss: 0.2103 s_domain_loss: 0.6524 t_domain_loss: 0.6858 \n",
            "[12/14] class_loss: 0.1826 s_domain_loss: 0.6615 t_domain_loss: 0.6908 \n",
            "[13/14] class_loss: 0.1268 s_domain_loss: 0.6701 t_domain_loss: 0.6918 \n",
            "[14/14] class_loss: 0.0672 s_domain_loss: 0.6988 t_domain_loss: 0.6813 \n",
            "Accuracy is: 0.8800223214285714Accuracy_2 is 0.944311377245509\n",
            "[1/14] class_loss: 0.1925 s_domain_loss: 0.6738 t_domain_loss: 0.6832 \n",
            "[2/14] class_loss: 0.1627 s_domain_loss: 0.6741 t_domain_loss: 0.6873 \n",
            "[3/14] class_loss: 0.1642 s_domain_loss: 0.6577 t_domain_loss: 0.6881 \n",
            "[4/14] class_loss: 0.1489 s_domain_loss: 0.6473 t_domain_loss: 0.6887 \n",
            "[5/14] class_loss: 0.1387 s_domain_loss: 0.6560 t_domain_loss: 0.6874 \n",
            "[6/14] class_loss: 0.1796 s_domain_loss: 0.6614 t_domain_loss: 0.6890 \n",
            "[7/14] class_loss: 0.1587 s_domain_loss: 0.6544 t_domain_loss: 0.6861 \n",
            "[8/14] class_loss: 0.1629 s_domain_loss: 0.6655 t_domain_loss: 0.6827 \n",
            "[9/14] class_loss: 0.1831 s_domain_loss: 0.6594 t_domain_loss: 0.6868 \n",
            "[10/14] class_loss: 0.1580 s_domain_loss: 0.6685 t_domain_loss: 0.6769 \n",
            "[11/14] class_loss: 0.1699 s_domain_loss: 0.6605 t_domain_loss: 0.6814 \n",
            "[12/14] class_loss: 0.1373 s_domain_loss: 0.6653 t_domain_loss: 0.6852 \n",
            "[13/14] class_loss: 0.2444 s_domain_loss: 0.6727 t_domain_loss: 0.6860 \n",
            "[14/14] class_loss: 0.1758 s_domain_loss: 0.6691 t_domain_loss: 0.6755 \n",
            "Accuracy is: 0.8844866071428571Accuracy_2 is 0.9491017964071856\n",
            "[1/14] class_loss: 0.1418 s_domain_loss: 0.6644 t_domain_loss: 0.6761 \n",
            "[2/14] class_loss: 0.1733 s_domain_loss: 0.6618 t_domain_loss: 0.6799 \n",
            "[3/14] class_loss: 0.1863 s_domain_loss: 0.6555 t_domain_loss: 0.6800 \n",
            "[4/14] class_loss: 0.1617 s_domain_loss: 0.6595 t_domain_loss: 0.6807 \n",
            "[5/14] class_loss: 0.1710 s_domain_loss: 0.6594 t_domain_loss: 0.6798 \n",
            "[6/14] class_loss: 0.2137 s_domain_loss: 0.6749 t_domain_loss: 0.6826 \n",
            "[7/14] class_loss: 0.1087 s_domain_loss: 0.6670 t_domain_loss: 0.6805 \n",
            "[8/14] class_loss: 0.1431 s_domain_loss: 0.6543 t_domain_loss: 0.6786 \n",
            "[9/14] class_loss: 0.1172 s_domain_loss: 0.6504 t_domain_loss: 0.6836 \n",
            "[10/14] class_loss: 0.1931 s_domain_loss: 0.6683 t_domain_loss: 0.6744 \n",
            "[11/14] class_loss: 0.1863 s_domain_loss: 0.6780 t_domain_loss: 0.6796 \n",
            "[12/14] class_loss: 0.1502 s_domain_loss: 0.6607 t_domain_loss: 0.6847 \n",
            "[13/14] class_loss: 0.1577 s_domain_loss: 0.6610 t_domain_loss: 0.6869 \n",
            "[14/14] class_loss: 0.0915 s_domain_loss: 0.7111 t_domain_loss: 0.6780 \n",
            "Accuracy is: 0.8828125Accuracy_2 is 0.9473053892215569\n",
            "[1/14] class_loss: 0.1941 s_domain_loss: 0.6736 t_domain_loss: 0.6781 \n",
            "[2/14] class_loss: 0.1244 s_domain_loss: 0.6640 t_domain_loss: 0.6816 \n",
            "[3/14] class_loss: 0.2523 s_domain_loss: 0.6708 t_domain_loss: 0.6818 \n",
            "[4/14] class_loss: 0.1679 s_domain_loss: 0.6544 t_domain_loss: 0.6827 \n",
            "[5/14] class_loss: 0.1596 s_domain_loss: 0.6478 t_domain_loss: 0.6818 \n",
            "[6/14] class_loss: 0.1210 s_domain_loss: 0.6458 t_domain_loss: 0.6841 \n",
            "[7/14] class_loss: 0.1565 s_domain_loss: 0.6498 t_domain_loss: 0.6806 \n",
            "[8/14] class_loss: 0.1442 s_domain_loss: 0.6681 t_domain_loss: 0.6771 \n",
            "[9/14] class_loss: 0.2099 s_domain_loss: 0.6625 t_domain_loss: 0.6813 \n",
            "[10/14] class_loss: 0.1362 s_domain_loss: 0.6487 t_domain_loss: 0.6713 \n",
            "[11/14] class_loss: 0.1438 s_domain_loss: 0.6667 t_domain_loss: 0.6757 \n",
            "[12/14] class_loss: 0.1168 s_domain_loss: 0.6537 t_domain_loss: 0.6802 \n",
            "[13/14] class_loss: 0.1210 s_domain_loss: 0.6651 t_domain_loss: 0.6821 \n",
            "[14/14] class_loss: 0.0076 s_domain_loss: 0.7509 t_domain_loss: 0.6727 \n",
            "Accuracy is: 0.8883928571428571Accuracy_2 is 0.9532934131736527\n",
            "[1/14] class_loss: 0.2136 s_domain_loss: 0.6596 t_domain_loss: 0.6744 \n",
            "[2/14] class_loss: 0.1394 s_domain_loss: 0.6560 t_domain_loss: 0.6794 \n",
            "[3/14] class_loss: 0.1255 s_domain_loss: 0.6553 t_domain_loss: 0.6808 \n",
            "[4/14] class_loss: 0.1444 s_domain_loss: 0.6468 t_domain_loss: 0.6826 \n",
            "[5/14] class_loss: 0.1859 s_domain_loss: 0.6444 t_domain_loss: 0.6822 \n",
            "[6/14] class_loss: 0.1536 s_domain_loss: 0.6600 t_domain_loss: 0.6850 \n",
            "[7/14] class_loss: 0.1017 s_domain_loss: 0.6448 t_domain_loss: 0.6823 \n",
            "[8/14] class_loss: 0.1195 s_domain_loss: 0.6432 t_domain_loss: 0.6800 \n",
            "[9/14] class_loss: 0.0955 s_domain_loss: 0.6391 t_domain_loss: 0.6841 \n",
            "[10/14] class_loss: 0.1852 s_domain_loss: 0.6598 t_domain_loss: 0.6727 \n",
            "[11/14] class_loss: 0.1413 s_domain_loss: 0.6640 t_domain_loss: 0.6766 \n",
            "[12/14] class_loss: 0.1329 s_domain_loss: 0.6919 t_domain_loss: 0.6802 \n",
            "[13/14] class_loss: 0.1396 s_domain_loss: 0.6450 t_domain_loss: 0.6821 \n",
            "[14/14] class_loss: 0.2765 s_domain_loss: 0.7154 t_domain_loss: 0.6720 \n",
            "Accuracy is: 0.8895089285714286Accuracy_2 is 0.9544910179640719\n",
            "[1/14] class_loss: 0.1419 s_domain_loss: 0.6559 t_domain_loss: 0.6714 \n",
            "[2/14] class_loss: 0.2275 s_domain_loss: 0.6505 t_domain_loss: 0.6749 \n",
            "[3/14] class_loss: 0.0949 s_domain_loss: 0.6590 t_domain_loss: 0.6746 \n",
            "[4/14] class_loss: 0.1330 s_domain_loss: 0.6514 t_domain_loss: 0.6755 \n",
            "[5/14] class_loss: 0.1525 s_domain_loss: 0.6673 t_domain_loss: 0.6747 \n",
            "[6/14] class_loss: 0.1960 s_domain_loss: 0.6585 t_domain_loss: 0.6784 \n",
            "[7/14] class_loss: 0.2129 s_domain_loss: 0.6493 t_domain_loss: 0.6763 \n",
            "[8/14] class_loss: 0.1098 s_domain_loss: 0.6448 t_domain_loss: 0.6746 \n",
            "[9/14] class_loss: 0.1116 s_domain_loss: 0.6516 t_domain_loss: 0.6797 \n",
            "[10/14] class_loss: 0.1276 s_domain_loss: 0.6716 t_domain_loss: 0.6692 \n",
            "[11/14] class_loss: 0.1727 s_domain_loss: 0.6459 t_domain_loss: 0.6741 \n",
            "[12/14] class_loss: 0.1069 s_domain_loss: 0.6578 t_domain_loss: 0.6790 \n",
            "[13/14] class_loss: 0.1162 s_domain_loss: 0.6462 t_domain_loss: 0.6814 \n",
            "[14/14] class_loss: 0.0013 s_domain_loss: 0.7376 t_domain_loss: 0.6718 \n",
            "Accuracy is: 0.8911830357142857Accuracy_2 is 0.9562874251497006\n",
            "[1/14] class_loss: 0.1010 s_domain_loss: 0.6605 t_domain_loss: 0.6661 \n",
            "[2/14] class_loss: 0.1511 s_domain_loss: 0.6658 t_domain_loss: 0.6662 \n",
            "[3/14] class_loss: 0.1178 s_domain_loss: 0.6605 t_domain_loss: 0.6630 \n",
            "[4/14] class_loss: 0.1500 s_domain_loss: 0.6748 t_domain_loss: 0.6621 \n",
            "[5/14] class_loss: 0.1317 s_domain_loss: 0.6600 t_domain_loss: 0.6607 \n",
            "[6/14] class_loss: 0.1117 s_domain_loss: 0.6534 t_domain_loss: 0.6641 \n",
            "[7/14] class_loss: 0.1233 s_domain_loss: 0.6488 t_domain_loss: 0.6620 \n",
            "[8/14] class_loss: 0.1204 s_domain_loss: 0.6731 t_domain_loss: 0.6613 \n",
            "[9/14] class_loss: 0.1224 s_domain_loss: 0.6722 t_domain_loss: 0.6685 \n",
            "[10/14] class_loss: 0.1292 s_domain_loss: 0.6597 t_domain_loss: 0.6609 \n",
            "[11/14] class_loss: 0.1553 s_domain_loss: 0.6466 t_domain_loss: 0.6691 \n",
            "[12/14] class_loss: 0.1282 s_domain_loss: 0.6579 t_domain_loss: 0.6763 \n",
            "[13/14] class_loss: 0.1552 s_domain_loss: 0.6558 t_domain_loss: 0.6807 \n",
            "[14/14] class_loss: 0.3353 s_domain_loss: 0.6981 t_domain_loss: 0.6735 \n",
            "Accuracy is: 0.8934151785714286Accuracy_2 is 0.9586826347305389\n",
            "[1/14] class_loss: 0.1352 s_domain_loss: 0.6325 t_domain_loss: 0.6748 \n",
            "[2/14] class_loss: 0.1089 s_domain_loss: 0.6280 t_domain_loss: 0.6799 \n",
            "[3/14] class_loss: 0.1005 s_domain_loss: 0.6381 t_domain_loss: 0.6800 \n",
            "[4/14] class_loss: 0.1772 s_domain_loss: 0.6530 t_domain_loss: 0.6810 \n",
            "[5/14] class_loss: 0.1563 s_domain_loss: 0.6371 t_domain_loss: 0.6794 \n",
            "[6/14] class_loss: 0.1617 s_domain_loss: 0.6618 t_domain_loss: 0.6816 \n",
            "[7/14] class_loss: 0.1292 s_domain_loss: 0.6407 t_domain_loss: 0.6776 \n",
            "[8/14] class_loss: 0.1142 s_domain_loss: 0.6284 t_domain_loss: 0.6743 \n",
            "[9/14] class_loss: 0.1314 s_domain_loss: 0.6452 t_domain_loss: 0.6778 \n",
            "[10/14] class_loss: 0.1289 s_domain_loss: 0.6763 t_domain_loss: 0.6653 \n",
            "[11/14] class_loss: 0.1769 s_domain_loss: 0.6583 t_domain_loss: 0.6690 \n",
            "[12/14] class_loss: 0.1307 s_domain_loss: 0.6526 t_domain_loss: 0.6724 \n",
            "[13/14] class_loss: 0.1343 s_domain_loss: 0.6594 t_domain_loss: 0.6742 \n",
            "[14/14] class_loss: 0.1474 s_domain_loss: 0.7456 t_domain_loss: 0.6644 \n",
            "Accuracy is: 0.8922991071428571Accuracy_2 is 0.9574850299401197\n",
            "[1/14] class_loss: 0.1040 s_domain_loss: 0.6597 t_domain_loss: 0.6629 \n",
            "[2/14] class_loss: 0.0726 s_domain_loss: 0.6526 t_domain_loss: 0.6652 \n",
            "[3/14] class_loss: 0.1720 s_domain_loss: 0.6512 t_domain_loss: 0.6638 \n",
            "[4/14] class_loss: 0.0658 s_domain_loss: 0.6415 t_domain_loss: 0.6643 \n",
            "[5/14] class_loss: 0.0717 s_domain_loss: 0.6504 t_domain_loss: 0.6627 \n",
            "[6/14] class_loss: 0.1807 s_domain_loss: 0.6629 t_domain_loss: 0.6660 \n",
            "[7/14] class_loss: 0.1367 s_domain_loss: 0.6391 t_domain_loss: 0.6635 \n",
            "[8/14] class_loss: 0.2113 s_domain_loss: 0.6528 t_domain_loss: 0.6620 \n",
            "[9/14] class_loss: 0.1329 s_domain_loss: 0.6511 t_domain_loss: 0.6683 \n",
            "[10/14] class_loss: 0.1375 s_domain_loss: 0.6748 t_domain_loss: 0.6592 \n",
            "[11/14] class_loss: 0.1007 s_domain_loss: 0.6529 t_domain_loss: 0.6651 \n",
            "[12/14] class_loss: 0.1099 s_domain_loss: 0.6529 t_domain_loss: 0.6709 \n",
            "[13/14] class_loss: 0.1532 s_domain_loss: 0.6633 t_domain_loss: 0.6752 \n",
            "[14/14] class_loss: 0.0241 s_domain_loss: 0.7255 t_domain_loss: 0.6675 \n",
            "Accuracy is: 0.8973214285714286Accuracy_2 is 0.962874251497006\n"
          ],
          "name": "stdout"
        }
      ]
    },
    {
      "cell_type": "markdown",
      "metadata": {
        "id": "TgONyH0xfN9W",
        "colab_type": "text"
      },
      "source": [
        "## Test"
      ]
    },
    {
      "cell_type": "code",
      "metadata": {
        "id": "Qw4arKipfR0Q",
        "colab_type": "code",
        "colab": {
          "base_uri": "https://localhost:8080/",
          "height": 70
        },
        "outputId": "1f4533e7-ea57-4165-8337-983b21f4c2d8"
      },
      "source": [
        "net = net.to(DEVICE) # this will bring the network to GPU if DEVICE is cuda\n",
        "net.train(False) # Set Network to evaluation mode\n",
        "\n",
        "running_corrects = 0\n",
        "for images, labels in tqdm(art_painting_dataloader):\n",
        "  images = images.to(DEVICE)\n",
        "  labels = labels.to(DEVICE)\n",
        "\n",
        "  # Forward Pass\n",
        "  outputs = net(images)\n",
        "\n",
        "  loss = criterion(outputs, labels)\n",
        "\n",
        "  # Get predictions\n",
        "  _, preds = torch.max(outputs.data, 1)\n",
        "\n",
        "  # Update Corrects\n",
        "  running_corrects += torch.sum(preds == labels.data).data.item()\n",
        "\n",
        "# Calculate Accuracy\n",
        "accuracy = running_corrects / float(len(art_painting))\n",
        "\n",
        "print('Test Accuracy: {}'.format(accuracy))\n",
        "print('Loss is: ' + str(loss.item()))"
      ],
      "execution_count": 16,
      "outputs": [
        {
          "output_type": "stream",
          "text": [
            "100%|██████████| 16/16 [00:07<00:00,  2.16it/s]"
          ],
          "name": "stderr"
        },
        {
          "output_type": "stream",
          "text": [
            "Test Accuracy: 0.45068359375\n",
            "Loss is: 4.9528021812438965\n"
          ],
          "name": "stdout"
        },
        {
          "output_type": "stream",
          "text": [
            "\n"
          ],
          "name": "stderr"
        }
      ]
    },
    {
      "cell_type": "code",
      "metadata": {
        "id": "sIyWY1Mn-ZP8",
        "colab_type": "code",
        "colab": {
          "base_uri": "https://localhost:8080/",
          "height": 34
        },
        "outputId": "e5fed2cf-575c-449f-b30f-a753038bc851"
      },
      "source": [
        "LR"
      ],
      "execution_count": 17,
      "outputs": [
        {
          "output_type": "execute_result",
          "data": {
            "text/plain": [
              "0.0001"
            ]
          },
          "metadata": {
            "tags": []
          },
          "execution_count": 17
        }
      ]
    },
    {
      "cell_type": "code",
      "metadata": {
        "id": "TGi68vVW-a3G",
        "colab_type": "code",
        "colab": {
          "base_uri": "https://localhost:8080/",
          "height": 34
        },
        "outputId": "8ec035e1-d832-441c-8945-4d54a146b1a3"
      },
      "source": [
        "alfa"
      ],
      "execution_count": 18,
      "outputs": [
        {
          "output_type": "execute_result",
          "data": {
            "text/plain": [
              "1"
            ]
          },
          "metadata": {
            "tags": []
          },
          "execution_count": 18
        }
      ]
    },
    {
      "cell_type": "code",
      "metadata": {
        "id": "rYzdDu7l-b5R",
        "colab_type": "code",
        "colab": {
          "base_uri": "https://localhost:8080/",
          "height": 34
        },
        "outputId": "d6ccb132-4210-4057-a6aa-e8f59c4d0e79"
      },
      "source": [
        "NUM_EPOCHS"
      ],
      "execution_count": 19,
      "outputs": [
        {
          "output_type": "execute_result",
          "data": {
            "text/plain": [
              "20"
            ]
          },
          "metadata": {
            "tags": []
          },
          "execution_count": 19
        }
      ]
    }
  ]
}