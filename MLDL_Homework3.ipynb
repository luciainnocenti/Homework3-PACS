{
  "nbformat": 4,
  "nbformat_minor": 0,
  "metadata": {
    "colab": {
      "name": "MLDL - Homework3.ipynb",
      "provenance": [],
      "toc_visible": true,
      "include_colab_link": true
    },
    "kernelspec": {
      "name": "python3",
      "display_name": "Python 3"
    },
    "accelerator": "GPU"
  },
  "cells": [
    {
      "cell_type": "markdown",
      "metadata": {
        "id": "view-in-github",
        "colab_type": "text"
      },
      "source": [
        "<a href=\"https://colab.research.google.com/github/luciainnocenti/Homework3-PACS/blob/master/MLDL_Homework3.ipynb\" target=\"_parent\"><img src=\"https://colab.research.google.com/assets/colab-badge.svg\" alt=\"Open In Colab\"/></a>"
      ]
    },
    {
      "cell_type": "markdown",
      "metadata": {
        "id": "fo942LMOdlh4",
        "colab_type": "text"
      },
      "source": [
        "#**Import libraries**"
      ]
    },
    {
      "cell_type": "code",
      "metadata": {
        "id": "DokFOdD1dJEl",
        "colab_type": "code",
        "colab": {}
      },
      "source": [
        "import os\n",
        "import logging\n",
        "\n",
        "import torch\n",
        "import torch.nn as nn\n",
        "import torch.optim as optim\n",
        "from torch.utils.data import Subset, DataLoader\n",
        "from torch.backends import cudnn\n",
        "\n",
        "import torchvision\n",
        "from torchvision import transforms\n",
        "\n",
        "from PIL import Image\n",
        "from tqdm import tqdm\n",
        "\n",
        "\n",
        "from numpy import random \n",
        "\n",
        "random.seed(33)"
      ],
      "execution_count": 0,
      "outputs": []
    },
    {
      "cell_type": "markdown",
      "metadata": {
        "id": "OIDLJuIXK_vh",
        "colab_type": "text"
      },
      "source": [
        "#**Set Arguments**"
      ]
    },
    {
      "cell_type": "code",
      "metadata": {
        "id": "d5PkYfqfK_SA",
        "colab_type": "code",
        "colab": {}
      },
      "source": [
        "DEVICE = 'cuda' # 'cuda' or 'cpu'\n",
        "\n",
        "BATCH_SIZE = 128     # Higher batch sizes allows for larger learning rates. An empirical heuristic suggests that, when changing\n",
        "                     # the batch size, learning rate should change by the same factor to have comparable results\n",
        "\n",
        "MOMENTUM = 0.9       # Hyperparameter for SGD, keep this at 0.9 when using SGD\n",
        "WEIGHT_DECAY = 5e-5  # Regularization, you can keep this at the default\n",
        "\n",
        "NUM_EPOCHS = 20      # Total number of training epochs (iterations over dataset)\n",
        "STEP_SIZE = 20       # How many epochs before decreasing learning rate (if using a step-down policy)\n",
        "GAMMA = 0.1          # Multiplicative factor for learning rate step-down\n",
        "\n",
        "LOG_FREQUENCY = 10\n",
        "\n",
        "alfa = 1\n",
        "LR = 1e-4          # The initial Learning Rate"
      ],
      "execution_count": 0,
      "outputs": []
    },
    {
      "cell_type": "markdown",
      "metadata": {
        "id": "9gwii0TBHvzh",
        "colab_type": "text"
      },
      "source": [
        "#**Define Data Preprocessing**"
      ]
    },
    {
      "cell_type": "code",
      "metadata": {
        "id": "QUDdw4j2H0Mc",
        "colab_type": "code",
        "colab": {}
      },
      "source": [
        "# Define transforms for training phase\n",
        "train_transform = transforms.Compose([transforms.Resize(256),   \n",
        "                                      transforms.CenterCrop(224),\n",
        "                                      transforms.ToTensor(), # Turn PIL Image to torch.Tensor\n",
        "                                      transforms.Normalize((0.5, 0.5, 0.5), (0.5, 0.5, 0.5)) # Normalizes tensor with mean and standard deviation\n",
        "])\n",
        "# Define transforms for the test phase\n",
        "test_transform = transforms.Compose([transforms.Resize(256),\n",
        "                                      transforms.CenterCrop(224),\n",
        "                                      transforms.ToTensor(),\n",
        "                                      transforms.Normalize((0.5, 0.5, 0.5), (0.5, 0.5, 0.5))                                    \n",
        "])"
      ],
      "execution_count": 0,
      "outputs": []
    },
    {
      "cell_type": "markdown",
      "metadata": {
        "id": "2qYIHPzYLY7i",
        "colab_type": "text"
      },
      "source": [
        "#**Prepare Dataset**"
      ]
    },
    {
      "cell_type": "code",
      "metadata": {
        "id": "QfVq_uDHLbsR",
        "colab_type": "code",
        "outputId": "73c5761b-6983-4143-cb80-728e8eb3e85a",
        "colab": {
          "base_uri": "https://localhost:8080/",
          "height": 194
        }
      },
      "source": [
        "# Clone github repository with data\n",
        "!git clone https://github.com/luciainnocenti/Homework3-PACS.git\n",
        "!mv 'Homework3-PACS' 'HW_PACS'\n",
        "\n",
        "from HW_PACS.dataset import PACS_Dataset \n",
        "\n",
        "rootPhoto = \"HW_PACS/PACS/photo\"\n",
        "photos = PACS_Dataset(root = rootPhoto, transform = train_transform)\n",
        "\n",
        "rootArt_painting = \"HW_PACS/PACS/art_painting\"\n",
        "art_painting = PACS_Dataset(root = rootArt_painting, transform = test_transform)\n",
        "\n",
        "# Check dataset sizes\n",
        "print('Train Dataset: {}'.format(len(photos)))\n",
        "print('Test Dataset: {}'.format(len(art_painting)))"
      ],
      "execution_count": 18,
      "outputs": [
        {
          "output_type": "stream",
          "text": [
            "Cloning into 'Homework3-PACS'...\n",
            "remote: Enumerating objects: 3, done.\u001b[K\n",
            "remote: Counting objects: 100% (3/3), done.\u001b[K\n",
            "remote: Compressing objects: 100% (3/3), done.\u001b[K\n",
            "remote: Total 10105 (delta 0), reused 0 (delta 0), pack-reused 10102\u001b[K\n",
            "Receiving objects: 100% (10105/10105), 174.19 MiB | 30.55 MiB/s, done.\n",
            "Resolving deltas: 100% (43/43), done.\n",
            "Checking out files: 100% (9995/9995), done.\n",
            "Train Dataset: 1670\n",
            "Test Dataset: 2048\n"
          ],
          "name": "stdout"
        }
      ]
    },
    {
      "cell_type": "markdown",
      "metadata": {
        "id": "FYEDQ7Z21ldN",
        "colab_type": "text"
      },
      "source": [
        "#**Prepare Dataloaders**"
      ]
    },
    {
      "cell_type": "code",
      "metadata": {
        "id": "VriRw8SI1nle",
        "colab_type": "code",
        "colab": {}
      },
      "source": [
        "# Dataloaders iterate over pytorch datasets and transparently provide useful functions (e.g. parallelization and shuffling)\n",
        "photos_dataloader = DataLoader(photos, batch_size=BATCH_SIZE, shuffle=True, num_workers=4)\n",
        "art_painting_dataloader = DataLoader(art_painting, batch_size=BATCH_SIZE, shuffle=False, num_workers=4)"
      ],
      "execution_count": 0,
      "outputs": []
    },
    {
      "cell_type": "markdown",
      "metadata": {
        "id": "AxYUli9d9uYQ",
        "colab_type": "text"
      },
      "source": [
        "#**Model without DANN**"
      ]
    },
    {
      "cell_type": "markdown",
      "metadata": {
        "id": "gbZ1t5Qs2z4j",
        "colab_type": "text"
      },
      "source": [
        "##**Prepare Network**"
      ]
    },
    {
      "cell_type": "code",
      "metadata": {
        "id": "exHUjtXa22DN",
        "colab_type": "code",
        "colab": {}
      },
      "source": [
        "from HW_PACS.gradient_reversal_example import alexNetDA \n",
        "\n",
        "net = alexNetDA(num_classes = 7)\n"
      ],
      "execution_count": 0,
      "outputs": []
    },
    {
      "cell_type": "markdown",
      "metadata": {
        "id": "KEyL3H_R4qCf",
        "colab_type": "text"
      },
      "source": [
        "##**Prepare Training**"
      ]
    },
    {
      "cell_type": "code",
      "metadata": {
        "id": "9sjq00G94tSc",
        "colab_type": "code",
        "colab": {}
      },
      "source": [
        "# Define loss function\n",
        "criterion = nn.CrossEntropyLoss() \n",
        "\n",
        "# Choose parameters to optimize\n",
        "# To access a different set of parameters, you have to access submodules of AlexNet\n",
        "# (nn.Module objects, like AlexNet, implement the Composite Pattern)\n",
        "# e.g.: parameters of the fully connected layers: net.classifier.parameters()\n",
        "# e.g.: parameters of the convolutional layers: look at alexnet's source code ;) \n",
        "parameters_to_optimize = net.parameters() # In this case we optimize over all the parameters of AlexNet\n",
        "\n",
        "# Define optimizer\n",
        "# An optimizer updates the weights based on loss\n",
        "# We use SGD with momentum\n",
        "\n",
        "#optimizer = optim.SGD(parameters_to_optimize, lr=LR, momentum=MOMENTUM, weight_decay=WEIGHT_DECAY)\n",
        "\n",
        "optimizer = optim.Adam(parameters_to_optimize, LR)\n",
        "\n",
        "# Define scheduler\n",
        "# A scheduler dynamically changes learning rate\n",
        "# The most common schedule is the step(-down), which multiplies learning rate by gamma every STEP_SIZE epochs\n",
        "scheduler = optim.lr_scheduler.StepLR(optimizer, step_size=STEP_SIZE, gamma=GAMMA)"
      ],
      "execution_count": 0,
      "outputs": []
    },
    {
      "cell_type": "code",
      "metadata": {
        "id": "40d5SHG0CJ4n",
        "colab_type": "code",
        "colab": {}
      },
      "source": [
        ""
      ],
      "execution_count": 0,
      "outputs": []
    },
    {
      "cell_type": "code",
      "metadata": {
        "id": "ZcoQ5fD49yT_",
        "colab_type": "code",
        "outputId": "1034fc00-b255-42e7-b2b8-9ac9f7726776",
        "colab": {
          "base_uri": "https://localhost:8080/",
          "height": 1000
        }
      },
      "source": [
        "# By default, everything is loaded to cpu\n",
        "net = net.to(DEVICE) # this will bring the network to GPU if DEVICE is cuda\n",
        "cudnn.benchmark # Calling this optimizes runtime\n",
        "running_corrects = 0\n",
        "current_step = 0\n",
        "# Start iterating over the epochs\n",
        "# Iterate over the dataset\n",
        "for epoch in range(NUM_EPOCHS):\n",
        "  scheduler.step() \n",
        "  \n",
        "  for images, labels in  tqdm(photos_dataloader):\n",
        "\n",
        "    # Bring data over the device of choice\n",
        "    images = images.to(DEVICE)\n",
        "    labels = labels.to(DEVICE)\n",
        "\n",
        "    net.train() # Sets module in training mode\n",
        "\n",
        "    # PyTorch, by default, accumulates gradients after each backward pass\n",
        "    # We need to manually set the gradients to zero before starting a new iteration\n",
        "    optimizer.zero_grad() # Zero-ing the gradients\n",
        "\n",
        "    # Forward pass to the network\n",
        "    outputs = net(images)\n",
        "\n",
        "    # Compute loss based on output and ground truth\n",
        "    loss = criterion(outputs, labels)\n",
        "\n",
        "    # Log loss\n",
        "    if current_step % LOG_FREQUENCY == 0:\n",
        "      print('Step {}, Loss {}'.format(current_step, loss.item()))\n",
        "\n",
        "    # Compute gradients for each layer and update weights\n",
        "\n",
        "    loss.backward()  # backward pass: computes gradients\n",
        "\n",
        "    optimizer.step() # update weights based on accumulated gradients\n",
        "\n",
        "    current_step += 1\n",
        "    # Get predictions\n",
        "    _, preds = torch.max(outputs.data, 1)\n",
        "\n",
        "    # Update Corrects\n",
        "    running_corrects += torch.sum(preds == labels.data).data.item()\n",
        "\n",
        "  # Calculate Accuracy\n",
        "  accuracy = running_corrects / float(len(photos))\n",
        "  print(\"Accuracy on training set = \"  + str(accuracy))\n",
        "  running_corrects = 0\n",
        "    "
      ],
      "execution_count": 22,
      "outputs": [
        {
          "output_type": "stream",
          "text": [
            "/usr/local/lib/python3.6/dist-packages/torch/optim/lr_scheduler.py:123: UserWarning: Detected call of `lr_scheduler.step()` before `optimizer.step()`. In PyTorch 1.1.0 and later, you should call them in the opposite order: `optimizer.step()` before `lr_scheduler.step()`.  Failure to do this will result in PyTorch skipping the first value of the learning rate schedule. See more details at https://pytorch.org/docs/stable/optim.html#how-to-adjust-learning-rate\n",
            "  \"https://pytorch.org/docs/stable/optim.html#how-to-adjust-learning-rate\", UserWarning)\n",
            "  7%|▋         | 1/14 [00:02<00:38,  2.94s/it]"
          ],
          "name": "stderr"
        },
        {
          "output_type": "stream",
          "text": [
            "Step 0, Loss 2.0280373096466064\n"
          ],
          "name": "stdout"
        },
        {
          "output_type": "stream",
          "text": [
            " 79%|███████▊  | 11/14 [00:08<00:01,  1.83it/s]"
          ],
          "name": "stderr"
        },
        {
          "output_type": "stream",
          "text": [
            "Step 10, Loss 0.39569905400276184\n"
          ],
          "name": "stdout"
        },
        {
          "output_type": "stream",
          "text": [
            "100%|██████████| 14/14 [00:08<00:00,  1.58it/s]\n",
            "  0%|          | 0/14 [00:00<?, ?it/s]"
          ],
          "name": "stderr"
        },
        {
          "output_type": "stream",
          "text": [
            "Accuracy on training set = 0.7766467065868263\n"
          ],
          "name": "stdout"
        },
        {
          "output_type": "stream",
          "text": [
            " 50%|█████     | 7/14 [00:05<00:05,  1.35it/s]"
          ],
          "name": "stderr"
        },
        {
          "output_type": "stream",
          "text": [
            "Step 20, Loss 0.17666594684123993\n"
          ],
          "name": "stdout"
        },
        {
          "output_type": "stream",
          "text": [
            "100%|██████████| 14/14 [00:08<00:00,  1.62it/s]\n",
            "  0%|          | 0/14 [00:00<?, ?it/s]"
          ],
          "name": "stderr"
        },
        {
          "output_type": "stream",
          "text": [
            "Accuracy on training set = 0.9365269461077844\n"
          ],
          "name": "stdout"
        },
        {
          "output_type": "stream",
          "text": [
            " 21%|██▏       | 3/14 [00:03<00:16,  1.47s/it]"
          ],
          "name": "stderr"
        },
        {
          "output_type": "stream",
          "text": [
            "Step 30, Loss 0.16246397793293\n"
          ],
          "name": "stdout"
        },
        {
          "output_type": "stream",
          "text": [
            " 93%|█████████▎| 13/14 [00:08<00:00,  2.35it/s]"
          ],
          "name": "stderr"
        },
        {
          "output_type": "stream",
          "text": [
            "Step 40, Loss 0.039291128516197205\n"
          ],
          "name": "stdout"
        },
        {
          "output_type": "stream",
          "text": [
            "100%|██████████| 14/14 [00:08<00:00,  1.61it/s]\n",
            "  0%|          | 0/14 [00:00<?, ?it/s]"
          ],
          "name": "stderr"
        },
        {
          "output_type": "stream",
          "text": [
            "Accuracy on training set = 0.9670658682634731\n"
          ],
          "name": "stdout"
        },
        {
          "output_type": "stream",
          "text": [
            " 64%|██████▍   | 9/14 [00:07<00:04,  1.14it/s]"
          ],
          "name": "stderr"
        },
        {
          "output_type": "stream",
          "text": [
            "Step 50, Loss 0.04401931166648865\n"
          ],
          "name": "stdout"
        },
        {
          "output_type": "stream",
          "text": [
            "100%|██████████| 14/14 [00:08<00:00,  1.60it/s]\n",
            "  0%|          | 0/14 [00:00<?, ?it/s]"
          ],
          "name": "stderr"
        },
        {
          "output_type": "stream",
          "text": [
            "Accuracy on training set = 0.9892215568862276\n"
          ],
          "name": "stdout"
        },
        {
          "output_type": "stream",
          "text": [
            " 36%|███▌      | 5/14 [00:05<00:11,  1.30s/it]"
          ],
          "name": "stderr"
        },
        {
          "output_type": "stream",
          "text": [
            "Step 60, Loss 0.01564890705049038\n"
          ],
          "name": "stdout"
        },
        {
          "output_type": "stream",
          "text": [
            "100%|██████████| 14/14 [00:08<00:00,  1.58it/s]\n",
            "  0%|          | 0/14 [00:00<?, ?it/s]"
          ],
          "name": "stderr"
        },
        {
          "output_type": "stream",
          "text": [
            "Accuracy on training set = 0.9970059880239521\n"
          ],
          "name": "stdout"
        },
        {
          "output_type": "stream",
          "text": [
            "\r  7%|▋         | 1/14 [00:02<00:38,  2.94s/it]"
          ],
          "name": "stderr"
        },
        {
          "output_type": "stream",
          "text": [
            "Step 70, Loss 0.015791703015565872\n"
          ],
          "name": "stdout"
        },
        {
          "output_type": "stream",
          "text": [
            " 79%|███████▊  | 11/14 [00:08<00:01,  1.87it/s]"
          ],
          "name": "stderr"
        },
        {
          "output_type": "stream",
          "text": [
            "Step 80, Loss 0.0037064626812934875\n"
          ],
          "name": "stdout"
        },
        {
          "output_type": "stream",
          "text": [
            "100%|██████████| 14/14 [00:08<00:00,  1.61it/s]\n",
            "  0%|          | 0/14 [00:00<?, ?it/s]"
          ],
          "name": "stderr"
        },
        {
          "output_type": "stream",
          "text": [
            "Accuracy on training set = 0.9994011976047904\n"
          ],
          "name": "stdout"
        },
        {
          "output_type": "stream",
          "text": [
            " 50%|█████     | 7/14 [00:05<00:05,  1.31it/s]"
          ],
          "name": "stderr"
        },
        {
          "output_type": "stream",
          "text": [
            "Step 90, Loss 0.00273846834897995\n"
          ],
          "name": "stdout"
        },
        {
          "output_type": "stream",
          "text": [
            "100%|██████████| 14/14 [00:08<00:00,  1.61it/s]\n",
            "  0%|          | 0/14 [00:00<?, ?it/s]"
          ],
          "name": "stderr"
        },
        {
          "output_type": "stream",
          "text": [
            "Accuracy on training set = 0.9988023952095808\n"
          ],
          "name": "stdout"
        },
        {
          "output_type": "stream",
          "text": [
            " 21%|██▏       | 3/14 [00:03<00:16,  1.46s/it]"
          ],
          "name": "stderr"
        },
        {
          "output_type": "stream",
          "text": [
            "Step 100, Loss 0.0031649209558963776\n"
          ],
          "name": "stdout"
        },
        {
          "output_type": "stream",
          "text": [
            " 93%|█████████▎| 13/14 [00:08<00:00,  2.33it/s]"
          ],
          "name": "stderr"
        },
        {
          "output_type": "stream",
          "text": [
            "Step 110, Loss 0.0023523159325122833\n"
          ],
          "name": "stdout"
        },
        {
          "output_type": "stream",
          "text": [
            "100%|██████████| 14/14 [00:08<00:00,  1.59it/s]\n",
            "  0%|          | 0/14 [00:00<?, ?it/s]"
          ],
          "name": "stderr"
        },
        {
          "output_type": "stream",
          "text": [
            "Accuracy on training set = 1.0\n"
          ],
          "name": "stdout"
        },
        {
          "output_type": "stream",
          "text": [
            " 64%|██████▍   | 9/14 [00:07<00:04,  1.14it/s]"
          ],
          "name": "stderr"
        },
        {
          "output_type": "stream",
          "text": [
            "Step 120, Loss 0.0006505213677883148\n"
          ],
          "name": "stdout"
        },
        {
          "output_type": "stream",
          "text": [
            "100%|██████████| 14/14 [00:08<00:00,  1.61it/s]\n",
            "  0%|          | 0/14 [00:00<?, ?it/s]"
          ],
          "name": "stderr"
        },
        {
          "output_type": "stream",
          "text": [
            "Accuracy on training set = 1.0\n"
          ],
          "name": "stdout"
        },
        {
          "output_type": "stream",
          "text": [
            " 36%|███▌      | 5/14 [00:05<00:11,  1.24s/it]"
          ],
          "name": "stderr"
        },
        {
          "output_type": "stream",
          "text": [
            "Step 130, Loss 0.0003470107913017273\n"
          ],
          "name": "stdout"
        },
        {
          "output_type": "stream",
          "text": [
            "100%|██████████| 14/14 [00:08<00:00,  1.60it/s]\n",
            "  0%|          | 0/14 [00:00<?, ?it/s]"
          ],
          "name": "stderr"
        },
        {
          "output_type": "stream",
          "text": [
            "Accuracy on training set = 0.9994011976047904\n"
          ],
          "name": "stdout"
        },
        {
          "output_type": "stream",
          "text": [
            "\r  7%|▋         | 1/14 [00:02<00:37,  2.88s/it]"
          ],
          "name": "stderr"
        },
        {
          "output_type": "stream",
          "text": [
            "Step 140, Loss 0.0053692832589149475\n"
          ],
          "name": "stdout"
        },
        {
          "output_type": "stream",
          "text": [
            " 79%|███████▊  | 11/14 [00:07<00:01,  1.80it/s]"
          ],
          "name": "stderr"
        },
        {
          "output_type": "stream",
          "text": [
            "Step 150, Loss 0.0004733428359031677\n"
          ],
          "name": "stdout"
        },
        {
          "output_type": "stream",
          "text": [
            "100%|██████████| 14/14 [00:08<00:00,  1.61it/s]\n",
            "  0%|          | 0/14 [00:00<?, ?it/s]"
          ],
          "name": "stderr"
        },
        {
          "output_type": "stream",
          "text": [
            "Accuracy on training set = 1.0\n"
          ],
          "name": "stdout"
        },
        {
          "output_type": "stream",
          "text": [
            " 50%|█████     | 7/14 [00:05<00:05,  1.31it/s]"
          ],
          "name": "stderr"
        },
        {
          "output_type": "stream",
          "text": [
            "Step 160, Loss 0.0026524774730205536\n"
          ],
          "name": "stdout"
        },
        {
          "output_type": "stream",
          "text": [
            "100%|██████████| 14/14 [00:08<00:00,  1.60it/s]\n",
            "  0%|          | 0/14 [00:00<?, ?it/s]"
          ],
          "name": "stderr"
        },
        {
          "output_type": "stream",
          "text": [
            "Accuracy on training set = 1.0\n"
          ],
          "name": "stdout"
        },
        {
          "output_type": "stream",
          "text": [
            " 21%|██▏       | 3/14 [00:03<00:15,  1.45s/it]"
          ],
          "name": "stderr"
        },
        {
          "output_type": "stream",
          "text": [
            "Step 170, Loss 0.0006532184779644012\n"
          ],
          "name": "stdout"
        },
        {
          "output_type": "stream",
          "text": [
            " 93%|█████████▎| 13/14 [00:08<00:00,  2.27it/s]"
          ],
          "name": "stderr"
        },
        {
          "output_type": "stream",
          "text": [
            "Step 180, Loss 0.0007004812359809875\n"
          ],
          "name": "stdout"
        },
        {
          "output_type": "stream",
          "text": [
            "100%|██████████| 14/14 [00:08<00:00,  1.61it/s]\n",
            "  0%|          | 0/14 [00:00<?, ?it/s]"
          ],
          "name": "stderr"
        },
        {
          "output_type": "stream",
          "text": [
            "Accuracy on training set = 1.0\n"
          ],
          "name": "stdout"
        },
        {
          "output_type": "stream",
          "text": [
            " 64%|██████▍   | 9/14 [00:07<00:04,  1.14it/s]"
          ],
          "name": "stderr"
        },
        {
          "output_type": "stream",
          "text": [
            "Step 190, Loss 0.0001503974199295044\n"
          ],
          "name": "stdout"
        },
        {
          "output_type": "stream",
          "text": [
            "100%|██████████| 14/14 [00:08<00:00,  1.60it/s]\n",
            "  0%|          | 0/14 [00:00<?, ?it/s]"
          ],
          "name": "stderr"
        },
        {
          "output_type": "stream",
          "text": [
            "Accuracy on training set = 1.0\n"
          ],
          "name": "stdout"
        },
        {
          "output_type": "stream",
          "text": [
            " 36%|███▌      | 5/14 [00:04<00:10,  1.19s/it]"
          ],
          "name": "stderr"
        },
        {
          "output_type": "stream",
          "text": [
            "Step 200, Loss 0.00011843070387840271\n"
          ],
          "name": "stdout"
        },
        {
          "output_type": "stream",
          "text": [
            "100%|██████████| 14/14 [00:08<00:00,  1.62it/s]\n",
            "  0%|          | 0/14 [00:00<?, ?it/s]"
          ],
          "name": "stderr"
        },
        {
          "output_type": "stream",
          "text": [
            "Accuracy on training set = 1.0\n"
          ],
          "name": "stdout"
        },
        {
          "output_type": "stream",
          "text": [
            "\r  7%|▋         | 1/14 [00:02<00:35,  2.77s/it]"
          ],
          "name": "stderr"
        },
        {
          "output_type": "stream",
          "text": [
            "Step 210, Loss 0.0005457401275634766\n"
          ],
          "name": "stdout"
        },
        {
          "output_type": "stream",
          "text": [
            " 79%|███████▊  | 11/14 [00:08<00:01,  1.75it/s]"
          ],
          "name": "stderr"
        },
        {
          "output_type": "stream",
          "text": [
            "Step 220, Loss 0.006246618926525116\n"
          ],
          "name": "stdout"
        },
        {
          "output_type": "stream",
          "text": [
            "100%|██████████| 14/14 [00:08<00:00,  1.59it/s]\n",
            "  0%|          | 0/14 [00:00<?, ?it/s]"
          ],
          "name": "stderr"
        },
        {
          "output_type": "stream",
          "text": [
            "Accuracy on training set = 0.9988023952095808\n"
          ],
          "name": "stdout"
        },
        {
          "output_type": "stream",
          "text": [
            " 50%|█████     | 7/14 [00:05<00:05,  1.28it/s]"
          ],
          "name": "stderr"
        },
        {
          "output_type": "stream",
          "text": [
            "Step 230, Loss 0.0003522410988807678\n"
          ],
          "name": "stdout"
        },
        {
          "output_type": "stream",
          "text": [
            "100%|██████████| 14/14 [00:08<00:00,  1.58it/s]\n",
            "  0%|          | 0/14 [00:00<?, ?it/s]"
          ],
          "name": "stderr"
        },
        {
          "output_type": "stream",
          "text": [
            "Accuracy on training set = 1.0\n"
          ],
          "name": "stdout"
        },
        {
          "output_type": "stream",
          "text": [
            " 21%|██▏       | 3/14 [00:03<00:16,  1.48s/it]"
          ],
          "name": "stderr"
        },
        {
          "output_type": "stream",
          "text": [
            "Step 240, Loss 0.0005271323025226593\n"
          ],
          "name": "stdout"
        },
        {
          "output_type": "stream",
          "text": [
            " 93%|█████████▎| 13/14 [00:08<00:00,  2.29it/s]"
          ],
          "name": "stderr"
        },
        {
          "output_type": "stream",
          "text": [
            "Step 250, Loss 0.0001693516969680786\n"
          ],
          "name": "stdout"
        },
        {
          "output_type": "stream",
          "text": [
            "100%|██████████| 14/14 [00:08<00:00,  1.59it/s]\n",
            "  0%|          | 0/14 [00:00<?, ?it/s]"
          ],
          "name": "stderr"
        },
        {
          "output_type": "stream",
          "text": [
            "Accuracy on training set = 1.0\n"
          ],
          "name": "stdout"
        },
        {
          "output_type": "stream",
          "text": [
            " 64%|██████▍   | 9/14 [00:07<00:04,  1.15it/s]"
          ],
          "name": "stderr"
        },
        {
          "output_type": "stream",
          "text": [
            "Step 260, Loss 4.484504461288452e-05\n"
          ],
          "name": "stdout"
        },
        {
          "output_type": "stream",
          "text": [
            "100%|██████████| 14/14 [00:08<00:00,  1.58it/s]\n",
            "  0%|          | 0/14 [00:00<?, ?it/s]"
          ],
          "name": "stderr"
        },
        {
          "output_type": "stream",
          "text": [
            "Accuracy on training set = 1.0\n"
          ],
          "name": "stdout"
        },
        {
          "output_type": "stream",
          "text": [
            " 36%|███▌      | 5/14 [00:05<00:11,  1.22s/it]"
          ],
          "name": "stderr"
        },
        {
          "output_type": "stream",
          "text": [
            "Step 270, Loss 0.000999700278043747\n"
          ],
          "name": "stdout"
        },
        {
          "output_type": "stream",
          "text": [
            "100%|██████████| 14/14 [00:08<00:00,  1.60it/s]"
          ],
          "name": "stderr"
        },
        {
          "output_type": "stream",
          "text": [
            "Accuracy on training set = 1.0\n"
          ],
          "name": "stdout"
        },
        {
          "output_type": "stream",
          "text": [
            "\n"
          ],
          "name": "stderr"
        }
      ]
    },
    {
      "cell_type": "markdown",
      "metadata": {
        "id": "UsHFI-GAJd69",
        "colab_type": "text"
      },
      "source": [
        "##**Test**"
      ]
    },
    {
      "cell_type": "code",
      "metadata": {
        "id": "EO3HV5pqJg1o",
        "colab_type": "code",
        "outputId": "277f324b-229d-4c23-9259-1c54fd3f8c76",
        "colab": {
          "base_uri": "https://localhost:8080/",
          "height": 52
        }
      },
      "source": [
        "net = net.to(DEVICE) # this will bring the network to GPU if DEVICE is cuda\n",
        "net.train(False) # Set Network to evaluation mode\n",
        "\n",
        "running_corrects = 0\n",
        "for images, labels in tqdm(art_painting_dataloader):\n",
        "  images = images.to(DEVICE)\n",
        "  labels = labels.to(DEVICE)\n",
        "\n",
        "  # Forward Pass\n",
        "  outputs = net(images)\n",
        "\n",
        "  loss = criterion(outputs, labels)\n",
        "\n",
        "  # Get predictions\n",
        "  _, preds = torch.max(outputs.data, 1)\n",
        "\n",
        "  # Update Corrects\n",
        "  running_corrects += torch.sum(preds == labels.data).data.item()\n",
        "\n",
        "# Calculate Accuracy\n",
        "accuracy = running_corrects / float(len(art_painting))\n",
        "\n",
        "print('Test Accuracy: {}'.format(accuracy))"
      ],
      "execution_count": 23,
      "outputs": [
        {
          "output_type": "stream",
          "text": [
            "100%|██████████| 16/16 [00:09<00:00,  1.62it/s]"
          ],
          "name": "stderr"
        },
        {
          "output_type": "stream",
          "text": [
            "Test Accuracy: 0.478515625\n"
          ],
          "name": "stdout"
        },
        {
          "output_type": "stream",
          "text": [
            "\n"
          ],
          "name": "stderr"
        }
      ]
    },
    {
      "cell_type": "code",
      "metadata": {
        "id": "IPzBRkB3iKWU",
        "colab_type": "code",
        "outputId": "3eabe65c-0e80-4ab1-a135-b31a8b56b4d1",
        "colab": {
          "base_uri": "https://localhost:8080/",
          "height": 34
        }
      },
      "source": [
        "loss.item()"
      ],
      "execution_count": 24,
      "outputs": [
        {
          "output_type": "execute_result",
          "data": {
            "text/plain": [
              "10.876704216003418"
            ]
          },
          "metadata": {
            "tags": []
          },
          "execution_count": 24
        }
      ]
    },
    {
      "cell_type": "markdown",
      "metadata": {
        "id": "2NHDb2yBC7jX",
        "colab_type": "text"
      },
      "source": [
        "# Model with DANN"
      ]
    },
    {
      "cell_type": "markdown",
      "metadata": {
        "id": "f9PNdrqJdkSO",
        "colab_type": "text"
      },
      "source": [
        "## Network"
      ]
    },
    {
      "cell_type": "code",
      "metadata": {
        "id": "xC1hCskMXaTC",
        "colab_type": "code",
        "colab": {}
      },
      "source": [
        "net = alexNetDA(num_classes = 7)\n",
        "net = net.to(DEVICE)"
      ],
      "execution_count": 0,
      "outputs": []
    },
    {
      "cell_type": "markdown",
      "metadata": {
        "id": "NemzVoaidnQA",
        "colab_type": "text"
      },
      "source": [
        "## Loss, Optim and Scheduler"
      ]
    },
    {
      "cell_type": "code",
      "metadata": {
        "id": "PbFj42qsER6M",
        "colab_type": "code",
        "colab": {}
      },
      "source": [
        "criterion_class = nn.CrossEntropyLoss() \n",
        "criterion_domain = nn.CrossEntropyLoss()\n",
        "\n",
        "parameters_to_optimize = net.parameters() \n",
        "\n",
        "#optimizer = optim.SGD(parameters_to_optimize, lr=LR, momentum=MOMENTUM, weight_decay=WEIGHT_DECAY)\n",
        "optimizer = optim.Adam(parameters_to_optimize, LR)\n",
        "\n",
        "\n",
        "scheduler = optim.lr_scheduler.StepLR(optimizer, step_size=STEP_SIZE, gamma=GAMMA)"
      ],
      "execution_count": 0,
      "outputs": []
    },
    {
      "cell_type": "markdown",
      "metadata": {
        "id": "TgONyH0xfN9W",
        "colab_type": "text"
      },
      "source": [
        "## Test function"
      ]
    },
    {
      "cell_type": "code",
      "metadata": {
        "id": "Qw4arKipfR0Q",
        "colab_type": "code",
        "colab": {}
      },
      "source": [
        "def testFunction(datasetName, epoch):  \n",
        "  net = torch.load('model_epoch_' + str(epoch) + '.pt')\n",
        "  net = net.to(DEVICE) # this will bring the network to GPU if DEVICE is cuda\n",
        "  net.train(False) # Set Network to evaluation mode\n",
        "  if (datasetName == 'photo'):\n",
        "    dataLoader = DataLoader(photos, batch_size=BATCH_SIZE, shuffle=True, num_workers=4)\n",
        "  elif( datasetName == 'artPainting'):\n",
        "    dataLoader = DataLoader(art_painting, batch_size=BATCH_SIZE, shuffle=False, num_workers=4)\n",
        "\n",
        "  lenLoader = len(dataLoader)\n",
        "  iterator = iter(dataLoader)\n",
        "  totalLen = 0\n",
        "  running_corrects = 0\n",
        "  criterion = nn.CrossEntropyLoss() \n",
        "  for i in range(lenLoader):\n",
        "    t_img, t_label = next(iterator)\n",
        "\n",
        "    t_img = t_img.to(DEVICE)\n",
        "    t_label = t_label.to(DEVICE)\n",
        "\n",
        "    # Forward Pass\n",
        "    classes_output = net(t_img)\n",
        "\n",
        "    loss = criterion(classes_output, t_label)\n",
        "\n",
        "    # Get predictions\n",
        "    _, preds = torch.max(classes_output.data, 1)\n",
        "\n",
        "    # Update Corrects\n",
        "    running_corrects += torch.sum(preds == t_label.data).data.item()\n",
        "    totalLen += len(t_img)\n",
        "\n",
        "  # Calculate Accuracy\n",
        "  accuracy = running_corrects / float(totalLen)\n",
        "\n",
        "  print(f'Accuracy on  {datasetName}' f' during epoch {epoch}' f' is {accuracy}' f' loss is {loss}')"
      ],
      "execution_count": 0,
      "outputs": []
    },
    {
      "cell_type": "markdown",
      "metadata": {
        "id": "yW0rUNTbduSm",
        "colab_type": "text"
      },
      "source": [
        "## Train "
      ]
    },
    {
      "cell_type": "code",
      "metadata": {
        "id": "UoZJAcaHEtYT",
        "colab_type": "code",
        "colab": {}
      },
      "source": [
        "#photos_dataloader = DataLoader(photos, batch_size=BATCH_SIZE, shuffle=True, num_workers=4)\n",
        "#art_painting_dataloader = DataLoader(art_painting, batch_size=BATCH_SIZE, shuffle=False, num_workers=4)\n",
        "\n",
        "max_batches = max(len(photos_dataloader), len(art_painting_dataloader))\n",
        "min_batches = min(len(photos_dataloader), len(art_painting_dataloader))"
      ],
      "execution_count": 0,
      "outputs": []
    },
    {
      "cell_type": "code",
      "metadata": {
        "id": "O4tSP1-uEPQt",
        "colab_type": "code",
        "outputId": "e732a19a-c51b-4f9b-a3a0-0f4dc0b89790",
        "colab": {
          "base_uri": "https://localhost:8080/",
          "height": 1000
        }
      },
      "source": [
        "# By default, everything is loaded to cpu\n",
        "net = net.to(DEVICE) # this will bring the network to GPU if DEVICE is cuda\n",
        "\n",
        "cudnn.benchmark # Calling this optimizes runtime\n",
        "running_corrects = 0\n",
        "current_step = 0\n",
        "# Start iterating over the epochs\n",
        "# Iterate over the dataset\n",
        "for epoch in range(NUM_EPOCHS):\n",
        "  scheduler.step() \n",
        "  iterPh = iter(photos_dataloader)\n",
        "  iterAP = iter(art_painting_dataloader)\n",
        "  for batch in range(max_batches):\n",
        "    net.train() # Sets module in training mode\n",
        "    optimizer.zero_grad() # Zero-ing the gradients\n",
        "    if( batch == min_batches):\n",
        "      iterPh = iter(photos_dataloader)\n",
        "    images_source, labels_source = next(iterPh)\n",
        "    labels_domain = torch.zeros(len(images_source), dtype=torch.long)\n",
        "    \n",
        "    # Bring data over the device of choice\n",
        "    images_source = images_source.to(DEVICE)\n",
        "    labels_source = labels_source.to(DEVICE)\n",
        "    labels_domain = labels_domain.to(DEVICE)\n",
        "\n",
        "  \n",
        "    # Get the output for classes and domains; class_pred, domain_pred\n",
        "    classes_output = net(images_source)\n",
        "    # Compute the loss on the source domain\n",
        "    loss_s_label = criterion_class(classes_output, labels_source)\n",
        "\n",
        "    domain_output = net(images_source, alfa)\n",
        "    # Compute the loss on the source domain\n",
        "    loss_s_domain = criterion_domain(domain_output, labels_domain)\n",
        "\n",
        "    # Get the output for targets\n",
        "    targets, _ = next(iterAP)\n",
        "    target_domain = torch.ones(len(targets), dtype=torch.long)\n",
        "\n",
        "    # Bring data over the device of choice\n",
        "    targets = targets.to(DEVICE)\n",
        "    target_domain = target_domain.to(DEVICE)\n",
        "\n",
        "    target_output = net(targets, alfa)\n",
        "\n",
        "    # Compute the loss on the source domain\n",
        "    loss_t_domain = criterion_domain(target_output,target_domain)\n",
        "\n",
        "    loss = loss_s_label + loss_s_domain + loss_t_domain\n",
        "    loss.backward()  # backward pass: computes gradients\n",
        "\n",
        "    optimizer.step() # update weights based on accumulated gradients\n",
        "\n",
        "    current_step += 1\n",
        "\n",
        "    print(f'[{batch+1}/{max_batches}] '\n",
        "          f'class_loss: {loss_s_label.item():.4f} ' f's_domain_loss: {loss_s_domain.item():.4f} '\n",
        "          f't_domain_loss: {loss_t_domain.item():.4f} '\n",
        "          )  \n",
        "  torch.save(net, 'model_epoch_{0}.pt'.format(epoch))\n",
        "  testFunction('photo', epoch)\n",
        "  testFunction('artPainting', epoch)\n",
        "  "
      ],
      "execution_count": 29,
      "outputs": [
        {
          "output_type": "stream",
          "text": [
            "/usr/local/lib/python3.6/dist-packages/torch/optim/lr_scheduler.py:123: UserWarning: Detected call of `lr_scheduler.step()` before `optimizer.step()`. In PyTorch 1.1.0 and later, you should call them in the opposite order: `optimizer.step()` before `lr_scheduler.step()`.  Failure to do this will result in PyTorch skipping the first value of the learning rate schedule. See more details at https://pytorch.org/docs/stable/optim.html#how-to-adjust-learning-rate\n",
            "  \"https://pytorch.org/docs/stable/optim.html#how-to-adjust-learning-rate\", UserWarning)\n"
          ],
          "name": "stderr"
        },
        {
          "output_type": "stream",
          "text": [
            "[1/16] class_loss: 1.9096 s_domain_loss: 0.5665 t_domain_loss: 0.8743 \n",
            "[2/16] class_loss: 1.3034 s_domain_loss: 0.6973 t_domain_loss: 0.6983 \n",
            "[3/16] class_loss: 1.0588 s_domain_loss: 0.7857 t_domain_loss: 0.6153 \n",
            "[4/16] class_loss: 0.7645 s_domain_loss: 0.7648 t_domain_loss: 0.5997 \n",
            "[5/16] class_loss: 0.6219 s_domain_loss: 0.7296 t_domain_loss: 0.6371 \n",
            "[6/16] class_loss: 0.4314 s_domain_loss: 0.6431 t_domain_loss: 0.6884 \n",
            "[7/16] class_loss: 0.2951 s_domain_loss: 0.6099 t_domain_loss: 0.7337 \n",
            "[8/16] class_loss: 0.3522 s_domain_loss: 0.6059 t_domain_loss: 0.7399 \n",
            "[9/16] class_loss: 0.3453 s_domain_loss: 0.5721 t_domain_loss: 0.7321 \n",
            "[10/16] class_loss: 0.3839 s_domain_loss: 0.5945 t_domain_loss: 0.7043 \n",
            "[11/16] class_loss: 0.2979 s_domain_loss: 0.6344 t_domain_loss: 0.6490 \n",
            "[12/16] class_loss: 0.2380 s_domain_loss: 0.6542 t_domain_loss: 0.6149 \n",
            "[13/16] class_loss: 0.2660 s_domain_loss: 0.6797 t_domain_loss: 0.6032 \n",
            "[14/16] class_loss: 0.1433 s_domain_loss: 0.7670 t_domain_loss: 0.5964 \n",
            "[15/16] class_loss: 0.2127 s_domain_loss: 0.6076 t_domain_loss: 0.5913 \n",
            "[16/16] class_loss: 0.1310 s_domain_loss: 0.5567 t_domain_loss: 0.6272 \n",
            "Accuracy on  photo during epoch 0 is 0.948502994011976 loss is 0.4015279710292816\n",
            "Accuracy on  artPainting during epoch 0 is 0.45068359375 loss is 9.41987419128418\n",
            "[1/16] class_loss: 0.0721 s_domain_loss: 0.5273 t_domain_loss: 0.5670 \n",
            "[2/16] class_loss: 0.1418 s_domain_loss: 0.5589 t_domain_loss: 0.5749 \n",
            "[3/16] class_loss: 0.1375 s_domain_loss: 0.5033 t_domain_loss: 0.5951 \n",
            "[4/16] class_loss: 0.1766 s_domain_loss: 0.5264 t_domain_loss: 0.5931 \n",
            "[5/16] class_loss: 0.0943 s_domain_loss: 0.4958 t_domain_loss: 0.5809 \n",
            "[6/16] class_loss: 0.1928 s_domain_loss: 0.5049 t_domain_loss: 0.5530 \n",
            "[7/16] class_loss: 0.1069 s_domain_loss: 0.5203 t_domain_loss: 0.5428 \n",
            "[8/16] class_loss: 0.1808 s_domain_loss: 0.5573 t_domain_loss: 0.5048 \n",
            "[9/16] class_loss: 0.1130 s_domain_loss: 0.5316 t_domain_loss: 0.5062 \n",
            "[10/16] class_loss: 0.1316 s_domain_loss: 0.5011 t_domain_loss: 0.4997 \n",
            "[11/16] class_loss: 0.1710 s_domain_loss: 0.5490 t_domain_loss: 0.4995 \n",
            "[12/16] class_loss: 0.1542 s_domain_loss: 0.5251 t_domain_loss: 0.4993 \n",
            "[13/16] class_loss: 0.1090 s_domain_loss: 0.5202 t_domain_loss: 0.5311 \n",
            "[14/16] class_loss: 0.0284 s_domain_loss: 0.7736 t_domain_loss: 0.5332 \n",
            "[15/16] class_loss: 0.0689 s_domain_loss: 0.4848 t_domain_loss: 0.5256 \n",
            "[16/16] class_loss: 0.1296 s_domain_loss: 0.4734 t_domain_loss: 0.5517 \n",
            "Accuracy on  photo during epoch 1 is 0.974251497005988 loss is 0.00010124842083314434\n",
            "Accuracy on  artPainting during epoch 1 is 0.43115234375 loss is 9.06026840209961\n",
            "[1/16] class_loss: 0.0885 s_domain_loss: 0.4283 t_domain_loss: 0.4839 \n",
            "[2/16] class_loss: 0.0648 s_domain_loss: 0.4462 t_domain_loss: 0.4904 \n",
            "[3/16] class_loss: 0.0787 s_domain_loss: 0.3865 t_domain_loss: 0.5013 \n",
            "[4/16] class_loss: 0.0237 s_domain_loss: 0.3930 t_domain_loss: 0.4771 \n",
            "[5/16] class_loss: 0.0720 s_domain_loss: 0.4276 t_domain_loss: 0.4569 \n",
            "[6/16] class_loss: 0.0617 s_domain_loss: 0.4256 t_domain_loss: 0.4310 \n",
            "[7/16] class_loss: 0.0916 s_domain_loss: 0.4538 t_domain_loss: 0.4115 \n",
            "[8/16] class_loss: 0.0491 s_domain_loss: 0.4891 t_domain_loss: 0.3902 \n",
            "[9/16] class_loss: 0.0448 s_domain_loss: 0.4685 t_domain_loss: 0.3987 \n",
            "[10/16] class_loss: 0.0270 s_domain_loss: 0.3832 t_domain_loss: 0.3985 \n",
            "[11/16] class_loss: 0.0488 s_domain_loss: 0.4280 t_domain_loss: 0.4067 \n",
            "[12/16] class_loss: 0.0412 s_domain_loss: 0.3530 t_domain_loss: 0.3986 \n",
            "[13/16] class_loss: 0.0282 s_domain_loss: 0.4325 t_domain_loss: 0.4408 \n",
            "[14/16] class_loss: 0.0003 s_domain_loss: 0.7767 t_domain_loss: 0.4150 \n",
            "[15/16] class_loss: 0.0197 s_domain_loss: 0.3260 t_domain_loss: 0.4123 \n",
            "[16/16] class_loss: 0.0736 s_domain_loss: 0.4058 t_domain_loss: 0.4169 \n",
            "Accuracy on  photo during epoch 2 is 0.9970059880239521 loss is 0.005905628204345703\n",
            "Accuracy on  artPainting during epoch 2 is 0.44482421875 loss is 8.494041442871094\n",
            "[1/16] class_loss: 0.0223 s_domain_loss: 0.3439 t_domain_loss: 0.3753 \n",
            "[2/16] class_loss: 0.0149 s_domain_loss: 0.3140 t_domain_loss: 0.3894 \n",
            "[3/16] class_loss: 0.0325 s_domain_loss: 0.3199 t_domain_loss: 0.4026 \n",
            "[4/16] class_loss: 0.0310 s_domain_loss: 0.3200 t_domain_loss: 0.3758 \n",
            "[5/16] class_loss: 0.0253 s_domain_loss: 0.2988 t_domain_loss: 0.3704 \n",
            "[6/16] class_loss: 0.0359 s_domain_loss: 0.3387 t_domain_loss: 0.3571 \n",
            "[7/16] class_loss: 0.0289 s_domain_loss: 0.3571 t_domain_loss: 0.3457 \n",
            "[8/16] class_loss: 0.0306 s_domain_loss: 0.3488 t_domain_loss: 0.3266 \n",
            "[9/16] class_loss: 0.0155 s_domain_loss: 0.3713 t_domain_loss: 0.3244 \n",
            "[10/16] class_loss: 0.0090 s_domain_loss: 0.3076 t_domain_loss: 0.3030 \n",
            "[11/16] class_loss: 0.0216 s_domain_loss: 0.3689 t_domain_loss: 0.3024 \n",
            "[12/16] class_loss: 0.0178 s_domain_loss: 0.4054 t_domain_loss: 0.2810 \n",
            "[13/16] class_loss: 0.0171 s_domain_loss: 0.2923 t_domain_loss: 0.3420 \n",
            "[14/16] class_loss: 0.0831 s_domain_loss: 1.0270 t_domain_loss: 0.3193 \n",
            "[15/16] class_loss: 0.0215 s_domain_loss: 0.3032 t_domain_loss: 0.3417 \n",
            "[16/16] class_loss: 0.0277 s_domain_loss: 0.3001 t_domain_loss: 0.3714 \n",
            "Accuracy on  photo during epoch 3 is 0.9952095808383233 loss is 0.05764468386769295\n",
            "Accuracy on  artPainting during epoch 3 is 0.462890625 loss is 8.631989479064941\n",
            "[1/16] class_loss: 0.0248 s_domain_loss: 0.2928 t_domain_loss: 0.3642 \n",
            "[2/16] class_loss: 0.0165 s_domain_loss: 0.2694 t_domain_loss: 0.3709 \n",
            "[3/16] class_loss: 0.0535 s_domain_loss: 0.2076 t_domain_loss: 0.3823 \n",
            "[4/16] class_loss: 0.0081 s_domain_loss: 0.1930 t_domain_loss: 0.3512 \n",
            "[5/16] class_loss: 0.0383 s_domain_loss: 0.3319 t_domain_loss: 0.3380 \n",
            "[6/16] class_loss: 0.0228 s_domain_loss: 0.2082 t_domain_loss: 0.3123 \n",
            "[7/16] class_loss: 0.0351 s_domain_loss: 0.2493 t_domain_loss: 0.2950 \n",
            "[8/16] class_loss: 0.0067 s_domain_loss: 0.2993 t_domain_loss: 0.2663 \n",
            "[9/16] class_loss: 0.0272 s_domain_loss: 0.2388 t_domain_loss: 0.2582 \n",
            "[10/16] class_loss: 0.0135 s_domain_loss: 0.2638 t_domain_loss: 0.2290 \n",
            "[11/16] class_loss: 0.0081 s_domain_loss: 0.2812 t_domain_loss: 0.2217 \n",
            "[12/16] class_loss: 0.0149 s_domain_loss: 0.3678 t_domain_loss: 0.1962 \n",
            "[13/16] class_loss: 0.0132 s_domain_loss: 0.3074 t_domain_loss: 0.2509 \n",
            "[14/16] class_loss: 0.0156 s_domain_loss: 1.1429 t_domain_loss: 0.2279 \n",
            "[15/16] class_loss: 0.0239 s_domain_loss: 0.2501 t_domain_loss: 0.2391 \n",
            "[16/16] class_loss: 0.0065 s_domain_loss: 0.3041 t_domain_loss: 0.2557 \n",
            "Accuracy on  photo during epoch 4 is 0.9988023952095808 loss is 0.0010248819598928094\n",
            "Accuracy on  artPainting during epoch 4 is 0.482421875 loss is 9.825510025024414\n",
            "[1/16] class_loss: 0.0158 s_domain_loss: 0.2759 t_domain_loss: 0.2658 \n",
            "[2/16] class_loss: 0.0053 s_domain_loss: 0.2222 t_domain_loss: 0.2762 \n",
            "[3/16] class_loss: 0.0203 s_domain_loss: 0.1609 t_domain_loss: 0.3114 \n",
            "[4/16] class_loss: 0.0228 s_domain_loss: 0.1819 t_domain_loss: 0.3030 \n",
            "[5/16] class_loss: 0.0059 s_domain_loss: 0.1657 t_domain_loss: 0.3093 \n",
            "[6/16] class_loss: 0.0061 s_domain_loss: 0.2184 t_domain_loss: 0.2963 \n",
            "[7/16] class_loss: 0.0205 s_domain_loss: 0.2589 t_domain_loss: 0.2968 \n",
            "[8/16] class_loss: 0.0073 s_domain_loss: 0.1743 t_domain_loss: 0.2756 \n",
            "[9/16] class_loss: 0.0120 s_domain_loss: 0.1628 t_domain_loss: 0.2840 \n",
            "[10/16] class_loss: 0.0277 s_domain_loss: 0.1903 t_domain_loss: 0.2446 \n",
            "[11/16] class_loss: 0.0067 s_domain_loss: 0.1888 t_domain_loss: 0.2287 \n",
            "[12/16] class_loss: 0.0040 s_domain_loss: 0.2307 t_domain_loss: 0.1948 \n",
            "[13/16] class_loss: 0.0109 s_domain_loss: 0.2570 t_domain_loss: 0.2251 \n",
            "[14/16] class_loss: 0.0106 s_domain_loss: 0.9232 t_domain_loss: 0.1839 \n",
            "[15/16] class_loss: 0.0060 s_domain_loss: 0.2013 t_domain_loss: 0.1736 \n",
            "[16/16] class_loss: 0.0098 s_domain_loss: 0.2610 t_domain_loss: 0.1747 \n",
            "Accuracy on  photo during epoch 5 is 0.9982035928143712 loss is 0.00014925003051757812\n",
            "Accuracy on  artPainting during epoch 5 is 0.48193359375 loss is 8.399645805358887\n",
            "[1/16] class_loss: 0.0072 s_domain_loss: 0.2281 t_domain_loss: 0.1732 \n",
            "[2/16] class_loss: 0.0097 s_domain_loss: 0.2669 t_domain_loss: 0.1931 \n",
            "[3/16] class_loss: 0.0271 s_domain_loss: 0.1857 t_domain_loss: 0.2120 \n",
            "[4/16] class_loss: 0.0069 s_domain_loss: 0.1677 t_domain_loss: 0.1963 \n",
            "[5/16] class_loss: 0.0078 s_domain_loss: 0.1642 t_domain_loss: 0.2163 \n",
            "[6/16] class_loss: 0.0102 s_domain_loss: 0.1220 t_domain_loss: 0.2366 \n",
            "[7/16] class_loss: 0.0115 s_domain_loss: 0.1333 t_domain_loss: 0.2490 \n",
            "[8/16] class_loss: 0.0136 s_domain_loss: 0.1397 t_domain_loss: 0.2352 \n",
            "[9/16] class_loss: 0.0143 s_domain_loss: 0.1440 t_domain_loss: 0.2501 \n",
            "[10/16] class_loss: 0.0125 s_domain_loss: 0.1312 t_domain_loss: 0.2147 \n",
            "[11/16] class_loss: 0.0048 s_domain_loss: 0.1709 t_domain_loss: 0.2063 \n",
            "[12/16] class_loss: 0.0144 s_domain_loss: 0.2118 t_domain_loss: 0.1782 \n",
            "[13/16] class_loss: 0.0069 s_domain_loss: 0.1775 t_domain_loss: 0.2088 \n",
            "[14/16] class_loss: 0.0000 s_domain_loss: 1.5530 t_domain_loss: 0.1744 \n",
            "[15/16] class_loss: 0.0122 s_domain_loss: 0.1678 t_domain_loss: 0.1577 \n",
            "[16/16] class_loss: 0.0294 s_domain_loss: 0.2335 t_domain_loss: 0.1563 \n",
            "Accuracy on  photo during epoch 6 is 0.9994011976047904 loss is 4.4981639803154394e-05\n",
            "Accuracy on  artPainting during epoch 6 is 0.4326171875 loss is 7.906753063201904\n",
            "[1/16] class_loss: 0.0210 s_domain_loss: 0.2470 t_domain_loss: 0.1616 \n",
            "[2/16] class_loss: 0.0112 s_domain_loss: 0.3257 t_domain_loss: 0.1638 \n",
            "[3/16] class_loss: 0.0022 s_domain_loss: 0.1497 t_domain_loss: 0.1737 \n",
            "[4/16] class_loss: 0.0137 s_domain_loss: 0.2111 t_domain_loss: 0.1609 \n",
            "[5/16] class_loss: 0.0019 s_domain_loss: 0.1050 t_domain_loss: 0.1851 \n",
            "[6/16] class_loss: 0.0298 s_domain_loss: 0.1488 t_domain_loss: 0.2110 \n",
            "[7/16] class_loss: 0.0184 s_domain_loss: 0.1758 t_domain_loss: 0.2172 \n",
            "[8/16] class_loss: 0.0054 s_domain_loss: 0.1301 t_domain_loss: 0.2066 \n",
            "[9/16] class_loss: 0.0053 s_domain_loss: 0.1731 t_domain_loss: 0.2275 \n",
            "[10/16] class_loss: 0.0044 s_domain_loss: 0.1417 t_domain_loss: 0.2040 \n",
            "[11/16] class_loss: 0.0034 s_domain_loss: 0.1514 t_domain_loss: 0.1990 \n",
            "[12/16] class_loss: 0.0092 s_domain_loss: 0.1260 t_domain_loss: 0.1798 \n",
            "[13/16] class_loss: 0.0207 s_domain_loss: 0.1207 t_domain_loss: 0.2196 \n",
            "[14/16] class_loss: 0.0014 s_domain_loss: 0.5242 t_domain_loss: 0.1786 \n",
            "[15/16] class_loss: 0.0063 s_domain_loss: 0.1276 t_domain_loss: 0.1556 \n",
            "[16/16] class_loss: 0.0042 s_domain_loss: 0.1388 t_domain_loss: 0.1462 \n",
            "Accuracy on  photo during epoch 7 is 1.0 loss is 0.011559724807739258\n",
            "Accuracy on  artPainting during epoch 7 is 0.4697265625 loss is 8.796290397644043\n",
            "[1/16] class_loss: 0.0117 s_domain_loss: 0.1817 t_domain_loss: 0.1379 \n",
            "[2/16] class_loss: 0.0035 s_domain_loss: 0.1557 t_domain_loss: 0.1359 \n",
            "[3/16] class_loss: 0.0019 s_domain_loss: 0.1855 t_domain_loss: 0.1479 \n",
            "[4/16] class_loss: 0.0060 s_domain_loss: 0.1002 t_domain_loss: 0.1323 \n",
            "[5/16] class_loss: 0.0028 s_domain_loss: 0.1293 t_domain_loss: 0.1317 \n",
            "[6/16] class_loss: 0.0033 s_domain_loss: 0.1851 t_domain_loss: 0.1475 \n",
            "[7/16] class_loss: 0.0022 s_domain_loss: 0.1620 t_domain_loss: 0.1492 \n",
            "[8/16] class_loss: 0.0028 s_domain_loss: 0.1379 t_domain_loss: 0.1373 \n",
            "[9/16] class_loss: 0.0032 s_domain_loss: 0.1208 t_domain_loss: 0.1573 \n",
            "[10/16] class_loss: 0.0021 s_domain_loss: 0.0996 t_domain_loss: 0.1559 \n",
            "[11/16] class_loss: 0.0044 s_domain_loss: 0.0824 t_domain_loss: 0.1521 \n",
            "[12/16] class_loss: 0.0042 s_domain_loss: 0.0903 t_domain_loss: 0.1242 \n",
            "[13/16] class_loss: 0.0032 s_domain_loss: 0.0758 t_domain_loss: 0.1711 \n",
            "[14/16] class_loss: 0.0079 s_domain_loss: 1.0015 t_domain_loss: 0.1384 \n",
            "[15/16] class_loss: 0.0046 s_domain_loss: 0.1034 t_domain_loss: 0.1221 \n",
            "[16/16] class_loss: 0.0131 s_domain_loss: 0.0885 t_domain_loss: 0.1277 \n",
            "Accuracy on  photo during epoch 8 is 1.0 loss is 0.0012850761413574219\n",
            "Accuracy on  artPainting during epoch 8 is 0.4638671875 loss is 8.965543746948242\n",
            "[1/16] class_loss: 0.0088 s_domain_loss: 0.1421 t_domain_loss: 0.1364 \n",
            "[2/16] class_loss: 0.0025 s_domain_loss: 0.2409 t_domain_loss: 0.1383 \n",
            "[3/16] class_loss: 0.0014 s_domain_loss: 0.1032 t_domain_loss: 0.1605 \n",
            "[4/16] class_loss: 0.0047 s_domain_loss: 0.0851 t_domain_loss: 0.1326 \n",
            "[5/16] class_loss: 0.0032 s_domain_loss: 0.1404 t_domain_loss: 0.1413 \n",
            "[6/16] class_loss: 0.0046 s_domain_loss: 0.0701 t_domain_loss: 0.1513 \n",
            "[7/16] class_loss: 0.0061 s_domain_loss: 0.0964 t_domain_loss: 0.1513 \n",
            "[8/16] class_loss: 0.0046 s_domain_loss: 0.1518 t_domain_loss: 0.1448 \n",
            "[9/16] class_loss: 0.0025 s_domain_loss: 0.1001 t_domain_loss: 0.1744 \n",
            "[10/16] class_loss: 0.0053 s_domain_loss: 0.1016 t_domain_loss: 0.1426 \n",
            "[11/16] class_loss: 0.0027 s_domain_loss: 0.1592 t_domain_loss: 0.1222 \n",
            "[12/16] class_loss: 0.0019 s_domain_loss: 0.0822 t_domain_loss: 0.1073 \n",
            "[13/16] class_loss: 0.0096 s_domain_loss: 0.0945 t_domain_loss: 0.1652 \n",
            "[14/16] class_loss: 0.0002 s_domain_loss: 1.1139 t_domain_loss: 0.1370 \n",
            "[15/16] class_loss: 0.0017 s_domain_loss: 0.1466 t_domain_loss: 0.1241 \n",
            "[16/16] class_loss: 0.0018 s_domain_loss: 0.0658 t_domain_loss: 0.1236 \n",
            "Accuracy on  photo during epoch 9 is 1.0 loss is 0.003983179572969675\n",
            "Accuracy on  artPainting during epoch 9 is 0.4580078125 loss is 9.714385986328125\n",
            "[1/16] class_loss: 0.0028 s_domain_loss: 0.0492 t_domain_loss: 0.1537 \n",
            "[2/16] class_loss: 0.0014 s_domain_loss: 0.1505 t_domain_loss: 0.1472 \n",
            "[3/16] class_loss: 0.0016 s_domain_loss: 0.0997 t_domain_loss: 0.1400 \n",
            "[4/16] class_loss: 0.0028 s_domain_loss: 0.0982 t_domain_loss: 0.1276 \n",
            "[5/16] class_loss: 0.0013 s_domain_loss: 0.1139 t_domain_loss: 0.1285 \n",
            "[6/16] class_loss: 0.0028 s_domain_loss: 0.0885 t_domain_loss: 0.1424 \n",
            "[7/16] class_loss: 0.0057 s_domain_loss: 0.1052 t_domain_loss: 0.1417 \n",
            "[8/16] class_loss: 0.0012 s_domain_loss: 0.0944 t_domain_loss: 0.1300 \n",
            "[9/16] class_loss: 0.0046 s_domain_loss: 0.0766 t_domain_loss: 0.1589 \n",
            "[10/16] class_loss: 0.0047 s_domain_loss: 0.0989 t_domain_loss: 0.1500 \n",
            "[11/16] class_loss: 0.0021 s_domain_loss: 0.1706 t_domain_loss: 0.1203 \n",
            "[12/16] class_loss: 0.0024 s_domain_loss: 0.0791 t_domain_loss: 0.1079 \n",
            "[13/16] class_loss: 0.0020 s_domain_loss: 0.1297 t_domain_loss: 0.1478 \n",
            "[14/16] class_loss: 0.0000 s_domain_loss: 1.5317 t_domain_loss: 0.1105 \n",
            "[15/16] class_loss: 0.0029 s_domain_loss: 0.0645 t_domain_loss: 0.1224 \n",
            "[16/16] class_loss: 0.0072 s_domain_loss: 0.1123 t_domain_loss: 0.1357 \n",
            "Accuracy on  photo during epoch 10 is 1.0 loss is 0.008917252533137798\n",
            "Accuracy on  artPainting during epoch 10 is 0.38232421875 loss is 12.110819816589355\n",
            "[1/16] class_loss: 0.0221 s_domain_loss: 0.2230 t_domain_loss: 0.1886 \n",
            "[2/16] class_loss: 0.0026 s_domain_loss: 0.1804 t_domain_loss: 0.1741 \n",
            "[3/16] class_loss: 0.0013 s_domain_loss: 0.1009 t_domain_loss: 0.1576 \n",
            "[4/16] class_loss: 0.0009 s_domain_loss: 0.1338 t_domain_loss: 0.1396 \n",
            "[5/16] class_loss: 0.0013 s_domain_loss: 0.1360 t_domain_loss: 0.1349 \n",
            "[6/16] class_loss: 0.0057 s_domain_loss: 0.0571 t_domain_loss: 0.1700 \n",
            "[7/16] class_loss: 0.0110 s_domain_loss: 0.0505 t_domain_loss: 0.1582 \n",
            "[8/16] class_loss: 0.0093 s_domain_loss: 0.1060 t_domain_loss: 0.1820 \n",
            "[9/16] class_loss: 0.0057 s_domain_loss: 0.0670 t_domain_loss: 0.1804 \n",
            "[10/16] class_loss: 0.0039 s_domain_loss: 0.0790 t_domain_loss: 0.1397 \n",
            "[11/16] class_loss: 0.0018 s_domain_loss: 0.0563 t_domain_loss: 0.1134 \n",
            "[12/16] class_loss: 0.0045 s_domain_loss: 0.0991 t_domain_loss: 0.1179 \n",
            "[13/16] class_loss: 0.0052 s_domain_loss: 0.1549 t_domain_loss: 0.1398 \n",
            "[14/16] class_loss: 0.0005 s_domain_loss: 0.8123 t_domain_loss: 0.1182 \n",
            "[15/16] class_loss: 0.0039 s_domain_loss: 0.1477 t_domain_loss: 0.0986 \n",
            "[16/16] class_loss: 0.0010 s_domain_loss: 0.1161 t_domain_loss: 0.1011 \n",
            "Accuracy on  photo during epoch 11 is 1.0 loss is 0.00019137065100949258\n",
            "Accuracy on  artPainting during epoch 11 is 0.482421875 loss is 8.912824630737305\n",
            "[1/16] class_loss: 0.0024 s_domain_loss: 0.1517 t_domain_loss: 0.1251 \n",
            "[2/16] class_loss: 0.0061 s_domain_loss: 0.1024 t_domain_loss: 0.1138 \n",
            "[3/16] class_loss: 0.0024 s_domain_loss: 0.1189 t_domain_loss: 0.1092 \n",
            "[4/16] class_loss: 0.0022 s_domain_loss: 0.0699 t_domain_loss: 0.1043 \n",
            "[5/16] class_loss: 0.0019 s_domain_loss: 0.0827 t_domain_loss: 0.1256 \n",
            "[6/16] class_loss: 0.0017 s_domain_loss: 0.1230 t_domain_loss: 0.1343 \n",
            "[7/16] class_loss: 0.0022 s_domain_loss: 0.0816 t_domain_loss: 0.1237 \n",
            "[8/16] class_loss: 0.0029 s_domain_loss: 0.1063 t_domain_loss: 0.1155 \n",
            "[9/16] class_loss: 0.0012 s_domain_loss: 0.0945 t_domain_loss: 0.1223 \n",
            "[10/16] class_loss: 0.0018 s_domain_loss: 0.1038 t_domain_loss: 0.1025 \n",
            "[11/16] class_loss: 0.0034 s_domain_loss: 0.1272 t_domain_loss: 0.1266 \n",
            "[12/16] class_loss: 0.0029 s_domain_loss: 0.0616 t_domain_loss: 0.1026 \n",
            "[13/16] class_loss: 0.0027 s_domain_loss: 0.0929 t_domain_loss: 0.1611 \n",
            "[14/16] class_loss: 0.0000 s_domain_loss: 0.7676 t_domain_loss: 0.1029 \n",
            "[15/16] class_loss: 0.0009 s_domain_loss: 0.1185 t_domain_loss: 0.0860 \n",
            "[16/16] class_loss: 0.0080 s_domain_loss: 0.0777 t_domain_loss: 0.0849 \n",
            "Accuracy on  photo during epoch 12 is 1.0 loss is 0.0019690196495503187\n",
            "Accuracy on  artPainting during epoch 12 is 0.45751953125 loss is 8.354167938232422\n",
            "[1/16] class_loss: 0.0048 s_domain_loss: 0.0888 t_domain_loss: 0.0947 \n",
            "[2/16] class_loss: 0.0089 s_domain_loss: 0.0620 t_domain_loss: 0.1071 \n",
            "[3/16] class_loss: 0.0050 s_domain_loss: 0.0633 t_domain_loss: 0.1118 \n",
            "[4/16] class_loss: 0.0016 s_domain_loss: 0.0589 t_domain_loss: 0.1173 \n",
            "[5/16] class_loss: 0.0040 s_domain_loss: 0.0666 t_domain_loss: 0.1170 \n",
            "[6/16] class_loss: 0.0018 s_domain_loss: 0.0407 t_domain_loss: 0.1227 \n",
            "[7/16] class_loss: 0.0019 s_domain_loss: 0.0730 t_domain_loss: 0.1183 \n",
            "[8/16] class_loss: 0.0023 s_domain_loss: 0.1065 t_domain_loss: 0.1048 \n",
            "[9/16] class_loss: 0.0016 s_domain_loss: 0.1262 t_domain_loss: 0.1186 \n",
            "[10/16] class_loss: 0.0025 s_domain_loss: 0.0593 t_domain_loss: 0.1046 \n",
            "[11/16] class_loss: 0.0008 s_domain_loss: 0.0802 t_domain_loss: 0.1163 \n",
            "[12/16] class_loss: 0.0035 s_domain_loss: 0.0705 t_domain_loss: 0.0981 \n",
            "[13/16] class_loss: 0.0031 s_domain_loss: 0.0892 t_domain_loss: 0.1122 \n",
            "[14/16] class_loss: 0.0082 s_domain_loss: 1.6551 t_domain_loss: 0.1005 \n",
            "[15/16] class_loss: 0.0027 s_domain_loss: 0.0583 t_domain_loss: 0.0878 \n",
            "[16/16] class_loss: 0.0007 s_domain_loss: 0.0651 t_domain_loss: 0.0811 \n",
            "Accuracy on  photo during epoch 13 is 1.0 loss is 0.0006651083822362125\n",
            "Accuracy on  artPainting during epoch 13 is 0.4755859375 loss is 9.296907424926758\n",
            "[1/16] class_loss: 0.0010 s_domain_loss: 0.0692 t_domain_loss: 0.1040 \n",
            "[2/16] class_loss: 0.0021 s_domain_loss: 0.0890 t_domain_loss: 0.0978 \n",
            "[3/16] class_loss: 0.0107 s_domain_loss: 0.0654 t_domain_loss: 0.1048 \n",
            "[4/16] class_loss: 0.0054 s_domain_loss: 0.0486 t_domain_loss: 0.0961 \n",
            "[5/16] class_loss: 0.0029 s_domain_loss: 0.0445 t_domain_loss: 0.0946 \n",
            "[6/16] class_loss: 0.0012 s_domain_loss: 0.0636 t_domain_loss: 0.1093 \n",
            "[7/16] class_loss: 0.0009 s_domain_loss: 0.0745 t_domain_loss: 0.1135 \n",
            "[8/16] class_loss: 0.0011 s_domain_loss: 0.0305 t_domain_loss: 0.1269 \n",
            "[9/16] class_loss: 0.0020 s_domain_loss: 0.0304 t_domain_loss: 0.1319 \n",
            "[10/16] class_loss: 0.0018 s_domain_loss: 0.0342 t_domain_loss: 0.1000 \n",
            "[11/16] class_loss: 0.0043 s_domain_loss: 0.0374 t_domain_loss: 0.1086 \n",
            "[12/16] class_loss: 0.0041 s_domain_loss: 0.0497 t_domain_loss: 0.0873 \n",
            "[13/16] class_loss: 0.0024 s_domain_loss: 0.0869 t_domain_loss: 0.1006 \n",
            "[14/16] class_loss: 0.0001 s_domain_loss: 1.4083 t_domain_loss: 0.0814 \n",
            "[15/16] class_loss: 0.0008 s_domain_loss: 0.0648 t_domain_loss: 0.0929 \n",
            "[16/16] class_loss: 0.0209 s_domain_loss: 0.1050 t_domain_loss: 0.1199 \n",
            "Accuracy on  photo during epoch 14 is 1.0 loss is 0.0009120305185206234\n",
            "Accuracy on  artPainting during epoch 14 is 0.453125 loss is 10.370957374572754\n",
            "[1/16] class_loss: 0.0033 s_domain_loss: 0.2340 t_domain_loss: 0.1157 \n",
            "[2/16] class_loss: 0.0032 s_domain_loss: 0.0562 t_domain_loss: 0.1164 \n",
            "[3/16] class_loss: 0.0014 s_domain_loss: 0.0511 t_domain_loss: 0.1126 \n",
            "[4/16] class_loss: 0.0046 s_domain_loss: 0.1239 t_domain_loss: 0.1146 \n",
            "[5/16] class_loss: 0.0102 s_domain_loss: 0.0401 t_domain_loss: 0.0982 \n",
            "[6/16] class_loss: 0.0209 s_domain_loss: 0.0555 t_domain_loss: 0.1079 \n",
            "[7/16] class_loss: 0.0054 s_domain_loss: 0.0621 t_domain_loss: 0.1043 \n",
            "[8/16] class_loss: 0.0015 s_domain_loss: 0.1304 t_domain_loss: 0.1021 \n",
            "[9/16] class_loss: 0.0079 s_domain_loss: 0.0453 t_domain_loss: 0.1239 \n",
            "[10/16] class_loss: 0.0034 s_domain_loss: 0.0856 t_domain_loss: 0.1104 \n",
            "[11/16] class_loss: 0.0027 s_domain_loss: 0.0359 t_domain_loss: 0.0906 \n",
            "[12/16] class_loss: 0.0101 s_domain_loss: 0.0503 t_domain_loss: 0.0886 \n",
            "[13/16] class_loss: 0.0246 s_domain_loss: 0.0444 t_domain_loss: 0.1087 \n",
            "[14/16] class_loss: 0.0004 s_domain_loss: 1.4643 t_domain_loss: 0.0944 \n",
            "[15/16] class_loss: 0.0094 s_domain_loss: 0.0250 t_domain_loss: 0.0923 \n",
            "[16/16] class_loss: 0.0029 s_domain_loss: 0.1729 t_domain_loss: 0.0877 \n",
            "Accuracy on  photo during epoch 15 is 0.9994011976047904 loss is 0.0077153840102255344\n",
            "Accuracy on  artPainting during epoch 15 is 0.48291015625 loss is 7.893115997314453\n",
            "[1/16] class_loss: 0.0025 s_domain_loss: 0.0334 t_domain_loss: 0.0939 \n",
            "[2/16] class_loss: 0.0129 s_domain_loss: 0.0982 t_domain_loss: 0.0897 \n",
            "[3/16] class_loss: 0.0425 s_domain_loss: 0.2965 t_domain_loss: 0.1062 \n",
            "[4/16] class_loss: 0.0094 s_domain_loss: 0.1344 t_domain_loss: 0.1051 \n",
            "[5/16] class_loss: 0.0140 s_domain_loss: 0.0794 t_domain_loss: 0.1029 \n",
            "[6/16] class_loss: 0.0031 s_domain_loss: 0.1107 t_domain_loss: 0.1175 \n",
            "[7/16] class_loss: 0.0058 s_domain_loss: 0.0827 t_domain_loss: 0.1222 \n",
            "[8/16] class_loss: 0.0107 s_domain_loss: 0.0966 t_domain_loss: 0.1096 \n",
            "[9/16] class_loss: 0.0099 s_domain_loss: 0.0836 t_domain_loss: 0.1417 \n",
            "[10/16] class_loss: 0.0163 s_domain_loss: 0.0698 t_domain_loss: 0.1267 \n",
            "[11/16] class_loss: 0.0126 s_domain_loss: 0.0451 t_domain_loss: 0.1118 \n",
            "[12/16] class_loss: 0.0013 s_domain_loss: 0.0513 t_domain_loss: 0.1022 \n",
            "[13/16] class_loss: 0.0030 s_domain_loss: 0.0585 t_domain_loss: 0.1860 \n",
            "[14/16] class_loss: 0.0107 s_domain_loss: 1.4718 t_domain_loss: 0.1317 \n",
            "[15/16] class_loss: 0.0030 s_domain_loss: 0.0850 t_domain_loss: 0.1238 \n",
            "[16/16] class_loss: 0.0220 s_domain_loss: 0.1358 t_domain_loss: 0.0994 \n",
            "Accuracy on  photo during epoch 16 is 0.9940119760479041 loss is 0.00027561187744140625\n",
            "Accuracy on  artPainting during epoch 16 is 0.40283203125 loss is 9.431865692138672\n",
            "[1/16] class_loss: 0.0206 s_domain_loss: 0.3011 t_domain_loss: 0.0935 \n",
            "[2/16] class_loss: 0.0288 s_domain_loss: 0.1157 t_domain_loss: 0.0969 \n",
            "[3/16] class_loss: 0.0113 s_domain_loss: 0.0710 t_domain_loss: 0.1003 \n",
            "[4/16] class_loss: 0.0039 s_domain_loss: 0.0568 t_domain_loss: 0.0998 \n",
            "[5/16] class_loss: 0.0019 s_domain_loss: 0.0440 t_domain_loss: 0.1051 \n",
            "[6/16] class_loss: 0.0069 s_domain_loss: 0.0519 t_domain_loss: 0.1183 \n",
            "[7/16] class_loss: 0.0472 s_domain_loss: 0.0262 t_domain_loss: 0.1294 \n",
            "[8/16] class_loss: 0.0116 s_domain_loss: 0.0384 t_domain_loss: 0.1037 \n",
            "[9/16] class_loss: 0.0034 s_domain_loss: 0.0348 t_domain_loss: 0.1077 \n",
            "[10/16] class_loss: 0.0040 s_domain_loss: 0.1507 t_domain_loss: 0.0915 \n",
            "[11/16] class_loss: 0.0040 s_domain_loss: 0.0313 t_domain_loss: 0.0849 \n",
            "[12/16] class_loss: 0.0054 s_domain_loss: 0.0402 t_domain_loss: 0.0803 \n",
            "[13/16] class_loss: 0.0184 s_domain_loss: 0.1141 t_domain_loss: 0.1219 \n",
            "[14/16] class_loss: 0.0015 s_domain_loss: 1.9391 t_domain_loss: 0.0870 \n",
            "[15/16] class_loss: 0.0014 s_domain_loss: 0.0609 t_domain_loss: 0.0961 \n",
            "[16/16] class_loss: 0.0013 s_domain_loss: 0.0448 t_domain_loss: 0.0874 \n",
            "Accuracy on  photo during epoch 17 is 1.0 loss is 1.3828277587890625e-05\n",
            "Accuracy on  artPainting during epoch 17 is 0.4697265625 loss is 9.93759536743164\n",
            "[1/16] class_loss: 0.0070 s_domain_loss: 0.0449 t_domain_loss: 0.1192 \n",
            "[2/16] class_loss: 0.0015 s_domain_loss: 0.0788 t_domain_loss: 0.1240 \n",
            "[3/16] class_loss: 0.0014 s_domain_loss: 0.2171 t_domain_loss: 0.1200 \n",
            "[4/16] class_loss: 0.0031 s_domain_loss: 0.0895 t_domain_loss: 0.0946 \n",
            "[5/16] class_loss: 0.0092 s_domain_loss: 0.0368 t_domain_loss: 0.0932 \n",
            "[6/16] class_loss: 0.0043 s_domain_loss: 0.0498 t_domain_loss: 0.0969 \n",
            "[7/16] class_loss: 0.0057 s_domain_loss: 0.0256 t_domain_loss: 0.1062 \n",
            "[8/16] class_loss: 0.0015 s_domain_loss: 0.0398 t_domain_loss: 0.1024 \n",
            "[9/16] class_loss: 0.0021 s_domain_loss: 0.0626 t_domain_loss: 0.1108 \n",
            "[10/16] class_loss: 0.0050 s_domain_loss: 0.0552 t_domain_loss: 0.1166 \n",
            "[11/16] class_loss: 0.0007 s_domain_loss: 0.0421 t_domain_loss: 0.1000 \n",
            "[12/16] class_loss: 0.0006 s_domain_loss: 0.0526 t_domain_loss: 0.1000 \n",
            "[13/16] class_loss: 0.0017 s_domain_loss: 0.0679 t_domain_loss: 0.1026 \n",
            "[14/16] class_loss: 0.0003 s_domain_loss: 1.1821 t_domain_loss: 0.0787 \n",
            "[15/16] class_loss: 0.0026 s_domain_loss: 0.0278 t_domain_loss: 0.0740 \n",
            "[16/16] class_loss: 0.0055 s_domain_loss: 0.0696 t_domain_loss: 0.0714 \n",
            "Accuracy on  photo during epoch 18 is 1.0 loss is 9.5367431640625e-07\n",
            "Accuracy on  artPainting during epoch 18 is 0.48046875 loss is 9.026165962219238\n",
            "[1/16] class_loss: 0.0031 s_domain_loss: 0.0713 t_domain_loss: 0.0834 \n",
            "[2/16] class_loss: 0.0041 s_domain_loss: 0.0385 t_domain_loss: 0.0919 \n",
            "[3/16] class_loss: 0.0040 s_domain_loss: 0.0263 t_domain_loss: 0.0920 \n",
            "[4/16] class_loss: 0.0008 s_domain_loss: 0.0213 t_domain_loss: 0.0933 \n",
            "[5/16] class_loss: 0.0029 s_domain_loss: 0.1259 t_domain_loss: 0.0918 \n",
            "[6/16] class_loss: 0.0056 s_domain_loss: 0.0242 t_domain_loss: 0.0898 \n",
            "[7/16] class_loss: 0.0026 s_domain_loss: 0.0471 t_domain_loss: 0.0926 \n",
            "[8/16] class_loss: 0.0092 s_domain_loss: 0.0223 t_domain_loss: 0.0831 \n",
            "[9/16] class_loss: 0.0006 s_domain_loss: 0.0851 t_domain_loss: 0.0885 \n",
            "[10/16] class_loss: 0.0027 s_domain_loss: 0.0358 t_domain_loss: 0.0879 \n",
            "[11/16] class_loss: 0.0010 s_domain_loss: 0.0361 t_domain_loss: 0.0769 \n",
            "[12/16] class_loss: 0.0008 s_domain_loss: 0.0220 t_domain_loss: 0.0749 \n",
            "[13/16] class_loss: 0.0009 s_domain_loss: 0.0250 t_domain_loss: 0.0969 \n",
            "[14/16] class_loss: 0.0000 s_domain_loss: 1.4541 t_domain_loss: 0.0775 \n",
            "[15/16] class_loss: 0.0010 s_domain_loss: 0.0274 t_domain_loss: 0.0747 \n",
            "[16/16] class_loss: 0.0005 s_domain_loss: 0.0181 t_domain_loss: 0.0648 \n",
            "Accuracy on  photo during epoch 19 is 1.0 loss is 0.00040753683424554765\n",
            "Accuracy on  artPainting during epoch 19 is 0.4833984375 loss is 9.24211311340332\n"
          ],
          "name": "stdout"
        }
      ]
    },
    {
      "cell_type": "code",
      "metadata": {
        "id": "xu1dmt7k_W1P",
        "colab_type": "code",
        "colab": {
          "base_uri": "https://localhost:8080/",
          "height": 34
        },
        "outputId": "7513ecbe-c6d4-4dfe-8af6-e6160fe5ed98"
      },
      "source": [
        "LR"
      ],
      "execution_count": 30,
      "outputs": [
        {
          "output_type": "execute_result",
          "data": {
            "text/plain": [
              "0.0001"
            ]
          },
          "metadata": {
            "tags": []
          },
          "execution_count": 30
        }
      ]
    },
    {
      "cell_type": "code",
      "metadata": {
        "id": "u01ZFqgWF4zG",
        "colab_type": "code",
        "colab": {
          "base_uri": "https://localhost:8080/",
          "height": 34
        },
        "outputId": "33add59b-52e1-4a88-886c-262fff0c251f"
      },
      "source": [
        "alfa"
      ],
      "execution_count": 31,
      "outputs": [
        {
          "output_type": "execute_result",
          "data": {
            "text/plain": [
              "1"
            ]
          },
          "metadata": {
            "tags": []
          },
          "execution_count": 31
        }
      ]
    }
  ]
}