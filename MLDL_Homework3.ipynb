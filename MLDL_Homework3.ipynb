{
  "nbformat": 4,
  "nbformat_minor": 0,
  "metadata": {
    "colab": {
      "name": "MLDL - Homework3.ipynb",
      "provenance": [],
      "toc_visible": true,
      "include_colab_link": true
    },
    "kernelspec": {
      "name": "python3",
      "display_name": "Python 3"
    },
    "accelerator": "GPU",
    "widgets": {
      "application/vnd.jupyter.widget-state+json": {
        "b27d3a40265243488fd11a407213e472": {
          "model_module": "@jupyter-widgets/controls",
          "model_name": "HBoxModel",
          "state": {
            "_view_name": "HBoxView",
            "_dom_classes": [],
            "_model_name": "HBoxModel",
            "_view_module": "@jupyter-widgets/controls",
            "_model_module_version": "1.5.0",
            "_view_count": null,
            "_view_module_version": "1.5.0",
            "box_style": "",
            "layout": "IPY_MODEL_b147a8b7adda424b8ef55a15193338a7",
            "_model_module": "@jupyter-widgets/controls",
            "children": [
              "IPY_MODEL_b32d353464a647528dec300d382a127e",
              "IPY_MODEL_1b24545ffe8b47dfbe3c9712ec8e2a7c"
            ]
          }
        },
        "b147a8b7adda424b8ef55a15193338a7": {
          "model_module": "@jupyter-widgets/base",
          "model_name": "LayoutModel",
          "state": {
            "_view_name": "LayoutView",
            "grid_template_rows": null,
            "right": null,
            "justify_content": null,
            "_view_module": "@jupyter-widgets/base",
            "overflow": null,
            "_model_module_version": "1.2.0",
            "_view_count": null,
            "flex_flow": null,
            "width": null,
            "min_width": null,
            "border": null,
            "align_items": null,
            "bottom": null,
            "_model_module": "@jupyter-widgets/base",
            "top": null,
            "grid_column": null,
            "overflow_y": null,
            "overflow_x": null,
            "grid_auto_flow": null,
            "grid_area": null,
            "grid_template_columns": null,
            "flex": null,
            "_model_name": "LayoutModel",
            "justify_items": null,
            "grid_row": null,
            "max_height": null,
            "align_content": null,
            "visibility": null,
            "align_self": null,
            "height": null,
            "min_height": null,
            "padding": null,
            "grid_auto_rows": null,
            "grid_gap": null,
            "max_width": null,
            "order": null,
            "_view_module_version": "1.2.0",
            "grid_template_areas": null,
            "object_position": null,
            "object_fit": null,
            "grid_auto_columns": null,
            "margin": null,
            "display": null,
            "left": null
          }
        },
        "b32d353464a647528dec300d382a127e": {
          "model_module": "@jupyter-widgets/controls",
          "model_name": "FloatProgressModel",
          "state": {
            "_view_name": "ProgressView",
            "style": "IPY_MODEL_76e4a2a1afe0489d8f863acfa72e8ecf",
            "_dom_classes": [],
            "description": "100%",
            "_model_name": "FloatProgressModel",
            "bar_style": "success",
            "max": 244418560,
            "_view_module": "@jupyter-widgets/controls",
            "_model_module_version": "1.5.0",
            "value": 244418560,
            "_view_count": null,
            "_view_module_version": "1.5.0",
            "orientation": "horizontal",
            "min": 0,
            "description_tooltip": null,
            "_model_module": "@jupyter-widgets/controls",
            "layout": "IPY_MODEL_379ffb9e48334f17a950bb6a6da7edea"
          }
        },
        "1b24545ffe8b47dfbe3c9712ec8e2a7c": {
          "model_module": "@jupyter-widgets/controls",
          "model_name": "HTMLModel",
          "state": {
            "_view_name": "HTMLView",
            "style": "IPY_MODEL_4d4c49b132f9459f8228d100e0e72e35",
            "_dom_classes": [],
            "description": "",
            "_model_name": "HTMLModel",
            "placeholder": "​",
            "_view_module": "@jupyter-widgets/controls",
            "_model_module_version": "1.5.0",
            "value": " 233M/233M [02:02&lt;00:00, 1.99MB/s]",
            "_view_count": null,
            "_view_module_version": "1.5.0",
            "description_tooltip": null,
            "_model_module": "@jupyter-widgets/controls",
            "layout": "IPY_MODEL_f172d51e05404b35bbbdc55c52da9db8"
          }
        },
        "76e4a2a1afe0489d8f863acfa72e8ecf": {
          "model_module": "@jupyter-widgets/controls",
          "model_name": "ProgressStyleModel",
          "state": {
            "_view_name": "StyleView",
            "_model_name": "ProgressStyleModel",
            "description_width": "initial",
            "_view_module": "@jupyter-widgets/base",
            "_model_module_version": "1.5.0",
            "_view_count": null,
            "_view_module_version": "1.2.0",
            "bar_color": null,
            "_model_module": "@jupyter-widgets/controls"
          }
        },
        "379ffb9e48334f17a950bb6a6da7edea": {
          "model_module": "@jupyter-widgets/base",
          "model_name": "LayoutModel",
          "state": {
            "_view_name": "LayoutView",
            "grid_template_rows": null,
            "right": null,
            "justify_content": null,
            "_view_module": "@jupyter-widgets/base",
            "overflow": null,
            "_model_module_version": "1.2.0",
            "_view_count": null,
            "flex_flow": null,
            "width": null,
            "min_width": null,
            "border": null,
            "align_items": null,
            "bottom": null,
            "_model_module": "@jupyter-widgets/base",
            "top": null,
            "grid_column": null,
            "overflow_y": null,
            "overflow_x": null,
            "grid_auto_flow": null,
            "grid_area": null,
            "grid_template_columns": null,
            "flex": null,
            "_model_name": "LayoutModel",
            "justify_items": null,
            "grid_row": null,
            "max_height": null,
            "align_content": null,
            "visibility": null,
            "align_self": null,
            "height": null,
            "min_height": null,
            "padding": null,
            "grid_auto_rows": null,
            "grid_gap": null,
            "max_width": null,
            "order": null,
            "_view_module_version": "1.2.0",
            "grid_template_areas": null,
            "object_position": null,
            "object_fit": null,
            "grid_auto_columns": null,
            "margin": null,
            "display": null,
            "left": null
          }
        },
        "4d4c49b132f9459f8228d100e0e72e35": {
          "model_module": "@jupyter-widgets/controls",
          "model_name": "DescriptionStyleModel",
          "state": {
            "_view_name": "StyleView",
            "_model_name": "DescriptionStyleModel",
            "description_width": "",
            "_view_module": "@jupyter-widgets/base",
            "_model_module_version": "1.5.0",
            "_view_count": null,
            "_view_module_version": "1.2.0",
            "_model_module": "@jupyter-widgets/controls"
          }
        },
        "f172d51e05404b35bbbdc55c52da9db8": {
          "model_module": "@jupyter-widgets/base",
          "model_name": "LayoutModel",
          "state": {
            "_view_name": "LayoutView",
            "grid_template_rows": null,
            "right": null,
            "justify_content": null,
            "_view_module": "@jupyter-widgets/base",
            "overflow": null,
            "_model_module_version": "1.2.0",
            "_view_count": null,
            "flex_flow": null,
            "width": null,
            "min_width": null,
            "border": null,
            "align_items": null,
            "bottom": null,
            "_model_module": "@jupyter-widgets/base",
            "top": null,
            "grid_column": null,
            "overflow_y": null,
            "overflow_x": null,
            "grid_auto_flow": null,
            "grid_area": null,
            "grid_template_columns": null,
            "flex": null,
            "_model_name": "LayoutModel",
            "justify_items": null,
            "grid_row": null,
            "max_height": null,
            "align_content": null,
            "visibility": null,
            "align_self": null,
            "height": null,
            "min_height": null,
            "padding": null,
            "grid_auto_rows": null,
            "grid_gap": null,
            "max_width": null,
            "order": null,
            "_view_module_version": "1.2.0",
            "grid_template_areas": null,
            "object_position": null,
            "object_fit": null,
            "grid_auto_columns": null,
            "margin": null,
            "display": null,
            "left": null
          }
        }
      }
    }
  },
  "cells": [
    {
      "cell_type": "markdown",
      "metadata": {
        "id": "view-in-github",
        "colab_type": "text"
      },
      "source": [
        "<a href=\"https://colab.research.google.com/github/luciainnocenti/Homework3-PACS/blob/master/MLDL_Homework3.ipynb\" target=\"_parent\"><img src=\"https://colab.research.google.com/assets/colab-badge.svg\" alt=\"Open In Colab\"/></a>"
      ]
    },
    {
      "cell_type": "markdown",
      "metadata": {
        "id": "fo942LMOdlh4",
        "colab_type": "text"
      },
      "source": [
        "#**Import libraries**"
      ]
    },
    {
      "cell_type": "code",
      "metadata": {
        "id": "DokFOdD1dJEl",
        "colab_type": "code",
        "colab": {}
      },
      "source": [
        "import os\n",
        "import logging\n",
        "\n",
        "import torch\n",
        "import torch.nn as nn\n",
        "import torch.optim as optim\n",
        "from torch.utils.data import Subset, DataLoader\n",
        "from torch.backends import cudnn\n",
        "\n",
        "import torchvision\n",
        "from torchvision import transforms\n",
        "\n",
        "from PIL import Image\n",
        "from tqdm import tqdm\n",
        "\n",
        "\n",
        "from numpy import random \n",
        "\n",
        "random.seed(33)"
      ],
      "execution_count": 0,
      "outputs": []
    },
    {
      "cell_type": "markdown",
      "metadata": {
        "id": "OIDLJuIXK_vh",
        "colab_type": "text"
      },
      "source": [
        "#**Set Arguments**"
      ]
    },
    {
      "cell_type": "code",
      "metadata": {
        "id": "d5PkYfqfK_SA",
        "colab_type": "code",
        "colab": {}
      },
      "source": [
        "DEVICE = 'cuda' # 'cuda' or 'cpu'\n",
        "\n",
        "BATCH_SIZE = 128     # Higher batch sizes allows for larger learning rates. An empirical heuristic suggests that, when changing\n",
        "                     # the batch size, learning rate should change by the same factor to have comparable results\n",
        "\n",
        "MOMENTUM = 0.9       # Hyperparameter for SGD, keep this at 0.9 when using SGD\n",
        "WEIGHT_DECAY = 5e-5  # Regularization, you can keep this at the default\n",
        "\n",
        "NUM_EPOCHS = 20      # Total number of training epochs (iterations over dataset)\n",
        "STEP_SIZE = 20       # How many epochs before decreasing learning rate (if using a step-down policy)\n",
        "GAMMA = 0.1          # Multiplicative factor for learning rate step-down\n",
        "\n",
        "LOG_FREQUENCY = 10\n",
        "\n",
        "alfa = 0.01\n",
        "LR = 1e-4          # The initial Learning Rate"
      ],
      "execution_count": 0,
      "outputs": []
    },
    {
      "cell_type": "markdown",
      "metadata": {
        "id": "9gwii0TBHvzh",
        "colab_type": "text"
      },
      "source": [
        "#**Define Data Preprocessing**"
      ]
    },
    {
      "cell_type": "code",
      "metadata": {
        "id": "QUDdw4j2H0Mc",
        "colab_type": "code",
        "colab": {}
      },
      "source": [
        "# Define transforms for training phase\n",
        "train_transform = transforms.Compose([transforms.Resize(256),      # Resizes short size of the PIL image to 256\n",
        "                                      transforms.CenterCrop(224),  # Crops a central square patch of the image\n",
        "                                                                   # 224 because torchvision's AlexNet needs a 224x224 input!\n",
        "                                                                   # Remember this when applying different transformations, otherwise you get an error\n",
        "                                      #transforms.RandomCrop( 64 , padding =2) ,\n",
        "                                      transforms.ToTensor(), # Turn PIL Image to torch.Tensor\n",
        "                                      transforms.Normalize((0.5, 0.5, 0.5), (0.5, 0.5, 0.5)) # Normalizes tensor with mean and standard deviation\n",
        "])\n",
        "# Define transforms for the test phase\n",
        "test_transform = transforms.Compose([transforms.Resize(256),\n",
        "                                      transforms.CenterCrop(224),\n",
        "                                      transforms.ToTensor(),\n",
        "                                      transforms.Normalize((0.5, 0.5, 0.5), (0.5, 0.5, 0.5))                                    \n",
        "])"
      ],
      "execution_count": 0,
      "outputs": []
    },
    {
      "cell_type": "markdown",
      "metadata": {
        "id": "2qYIHPzYLY7i",
        "colab_type": "text"
      },
      "source": [
        "#**Prepare Dataset**"
      ]
    },
    {
      "cell_type": "code",
      "metadata": {
        "id": "QfVq_uDHLbsR",
        "colab_type": "code",
        "outputId": "6d1c713e-b164-41da-9cd9-aa9aa21cd578",
        "colab": {
          "base_uri": "https://localhost:8080/",
          "height": 194
        }
      },
      "source": [
        "# Clone github repository with data\n",
        "!git clone https://github.com/luciainnocenti/Homework3-PACS.git\n",
        "!mv 'Homework3-PACS' 'HW_PACS'\n",
        "\n",
        "from HW_PACS.dataset import PACS_Dataset \n",
        "\n",
        "rootPhoto = \"HW_PACS/PACS/photo\"\n",
        "photos = PACS_Dataset(root = rootPhoto, transform = train_transform)\n",
        "\n",
        "rootArt_painting = \"HW_PACS/PACS/art_painting\"\n",
        "art_painting = PACS_Dataset(root = rootArt_painting, transform = test_transform)\n",
        "\n",
        "# Check dataset sizes\n",
        "print('Train Dataset: {}'.format(len(photos)))\n",
        "print('Test Dataset: {}'.format(len(art_painting)))"
      ],
      "execution_count": 4,
      "outputs": [
        {
          "output_type": "stream",
          "text": [
            "Cloning into 'Homework3-PACS'...\n",
            "remote: Enumerating objects: 61, done.\u001b[K\n",
            "remote: Counting objects: 100% (61/61), done.\u001b[K\n",
            "remote: Compressing objects: 100% (61/61), done.\u001b[K\n",
            "remote: Total 10093 (delta 35), reused 0 (delta 0), pack-reused 10032\u001b[K\n",
            "Receiving objects: 100% (10093/10093), 174.16 MiB | 31.29 MiB/s, done.\n",
            "Resolving deltas: 100% (36/36), done.\n",
            "Checking out files: 100% (9995/9995), done.\n",
            "Train Dataset: 1670\n",
            "Test Dataset: 2048\n"
          ],
          "name": "stdout"
        }
      ]
    },
    {
      "cell_type": "markdown",
      "metadata": {
        "id": "FYEDQ7Z21ldN",
        "colab_type": "text"
      },
      "source": [
        "#**Prepare Dataloaders**"
      ]
    },
    {
      "cell_type": "code",
      "metadata": {
        "id": "VriRw8SI1nle",
        "colab_type": "code",
        "colab": {}
      },
      "source": [
        "# Dataloaders iterate over pytorch datasets and transparently provide useful functions (e.g. parallelization and shuffling)\n",
        "photos_dataloader = DataLoader(photos, batch_size=BATCH_SIZE, shuffle=True, num_workers=4)\n",
        "art_painting_dataloader = DataLoader(art_painting, batch_size=BATCH_SIZE, shuffle=False, num_workers=4)"
      ],
      "execution_count": 0,
      "outputs": []
    },
    {
      "cell_type": "markdown",
      "metadata": {
        "id": "AxYUli9d9uYQ",
        "colab_type": "text"
      },
      "source": [
        "#**Model without DANN**"
      ]
    },
    {
      "cell_type": "markdown",
      "metadata": {
        "id": "gbZ1t5Qs2z4j",
        "colab_type": "text"
      },
      "source": [
        "##**Prepare Network**"
      ]
    },
    {
      "cell_type": "code",
      "metadata": {
        "id": "exHUjtXa22DN",
        "colab_type": "code",
        "outputId": "66bda7c1-24e0-4271-a7bf-3f25c44bebf1",
        "colab": {
          "base_uri": "https://localhost:8080/",
          "height": 84,
          "referenced_widgets": [
            "b27d3a40265243488fd11a407213e472",
            "b147a8b7adda424b8ef55a15193338a7",
            "b32d353464a647528dec300d382a127e",
            "1b24545ffe8b47dfbe3c9712ec8e2a7c",
            "76e4a2a1afe0489d8f863acfa72e8ecf",
            "379ffb9e48334f17a950bb6a6da7edea",
            "4d4c49b132f9459f8228d100e0e72e35",
            "f172d51e05404b35bbbdc55c52da9db8"
          ]
        }
      },
      "source": [
        "from HW_PACS.gradient_reversal_example import alexNetDA \n",
        "\n",
        "net = alexNetDA(num_classes = 7)\n"
      ],
      "execution_count": 6,
      "outputs": [
        {
          "output_type": "stream",
          "text": [
            "Downloading: \"https://download.pytorch.org/models/alexnet-owt-4df8aa71.pth\" to /root/.cache/torch/checkpoints/alexnet-owt-4df8aa71.pth\n"
          ],
          "name": "stderr"
        },
        {
          "output_type": "display_data",
          "data": {
            "application/vnd.jupyter.widget-view+json": {
              "model_id": "b27d3a40265243488fd11a407213e472",
              "version_minor": 0,
              "version_major": 2
            },
            "text/plain": [
              "HBox(children=(FloatProgress(value=0.0, max=244418560.0), HTML(value='')))"
            ]
          },
          "metadata": {
            "tags": []
          }
        },
        {
          "output_type": "stream",
          "text": [
            "\n"
          ],
          "name": "stdout"
        }
      ]
    },
    {
      "cell_type": "markdown",
      "metadata": {
        "id": "KEyL3H_R4qCf",
        "colab_type": "text"
      },
      "source": [
        "##**Prepare Training**"
      ]
    },
    {
      "cell_type": "code",
      "metadata": {
        "id": "9sjq00G94tSc",
        "colab_type": "code",
        "colab": {}
      },
      "source": [
        "# Define loss function\n",
        "criterion = nn.CrossEntropyLoss() # for classification, we use Cross Entropy\n",
        "\n",
        "# Choose parameters to optimize\n",
        "# To access a different set of parameters, you have to access submodules of AlexNet\n",
        "# (nn.Module objects, like AlexNet, implement the Composite Pattern)\n",
        "# e.g.: parameters of the fully connected layers: net.classifier.parameters()\n",
        "# e.g.: parameters of the convolutional layers: look at alexnet's source code ;) \n",
        "parameters_to_optimize = net.parameters() # In this case we optimize over all the parameters of AlexNet\n",
        "\n",
        "# Define optimizer\n",
        "# An optimizer updates the weights based on loss\n",
        "# We use SGD with momentum\n",
        "\n",
        "optimizer = optim.SGD(parameters_to_optimize, lr=LR, momentum=MOMENTUM, weight_decay=WEIGHT_DECAY)\n",
        "\n",
        "#optimizer = optim.Adam(parameters_to_optimize, LR)\n",
        "\n",
        "# Define scheduler\n",
        "# A scheduler dynamically changes learning rate\n",
        "# The most common schedule is the step(-down), which multiplies learning rate by gamma every STEP_SIZE epochs\n",
        "scheduler = optim.lr_scheduler.StepLR(optimizer, step_size=STEP_SIZE, gamma=GAMMA)"
      ],
      "execution_count": 0,
      "outputs": []
    },
    {
      "cell_type": "code",
      "metadata": {
        "id": "ZcoQ5fD49yT_",
        "colab_type": "code",
        "outputId": "dbcccf42-0623-4121-a9b7-edeb16344c6c",
        "colab": {
          "base_uri": "https://localhost:8080/",
          "height": 1000
        }
      },
      "source": [
        "# By default, everything is loaded to cpu\n",
        "net = net.to(DEVICE) # this will bring the network to GPU if DEVICE is cuda\n",
        "\n",
        "cudnn.benchmark # Calling this optimizes runtime\n",
        "running_corrects = 0\n",
        "current_step = 0\n",
        "# Start iterating over the epochs\n",
        "# Iterate over the dataset\n",
        "for epoch in range(NUM_EPOCHS):\n",
        "  scheduler.step() \n",
        "  \n",
        "  for images, labels in  tqdm(photos_dataloader):\n",
        "\n",
        "    # Bring data over the device of choice\n",
        "    images = images.to(DEVICE)\n",
        "    labels = labels.to(DEVICE)\n",
        "\n",
        "    net.train() # Sets module in training mode\n",
        "\n",
        "    # PyTorch, by default, accumulates gradients after each backward pass\n",
        "    # We need to manually set the gradients to zero before starting a new iteration\n",
        "    optimizer.zero_grad() # Zero-ing the gradients\n",
        "\n",
        "    # Forward pass to the network\n",
        "    outputs = net(images)\n",
        "\n",
        "    # Compute loss based on output and ground truth\n",
        "    loss = criterion(outputs, labels)\n",
        "\n",
        "    # Log loss\n",
        "    if current_step % LOG_FREQUENCY == 0:\n",
        "      print('Step {}, Loss {}'.format(current_step, loss.item()))\n",
        "\n",
        "    # Compute gradients for each layer and update weights\n",
        "\n",
        "    loss.backward()  # backward pass: computes gradients\n",
        "\n",
        "    optimizer.step() # update weights based on accumulated gradients\n",
        "\n",
        "    current_step += 1\n",
        "    # Get predictions\n",
        "    _, preds = torch.max(outputs.data, 1)\n",
        "\n",
        "    # Update Corrects\n",
        "    running_corrects += torch.sum(preds == labels.data).data.item()\n",
        "\n",
        "  # Calculate Accuracy\n",
        "  accuracy = running_corrects / float(len(photos))\n",
        "  print(\"Accuracy on training set = \"  + str(accuracy))\n",
        "  running_corrects = 0\n",
        "    "
      ],
      "execution_count": 8,
      "outputs": [
        {
          "output_type": "stream",
          "text": [
            "/usr/local/lib/python3.6/dist-packages/torch/optim/lr_scheduler.py:123: UserWarning: Detected call of `lr_scheduler.step()` before `optimizer.step()`. In PyTorch 1.1.0 and later, you should call them in the opposite order: `optimizer.step()` before `lr_scheduler.step()`.  Failure to do this will result in PyTorch skipping the first value of the learning rate schedule. See more details at https://pytorch.org/docs/stable/optim.html#how-to-adjust-learning-rate\n",
            "  \"https://pytorch.org/docs/stable/optim.html#how-to-adjust-learning-rate\", UserWarning)\n",
            "  7%|▋         | 1/14 [00:02<00:37,  2.90s/it]"
          ],
          "name": "stderr"
        },
        {
          "output_type": "stream",
          "text": [
            "Step 0, Loss 2.2608163356781006\n"
          ],
          "name": "stdout"
        },
        {
          "output_type": "stream",
          "text": [
            " 79%|███████▊  | 11/14 [00:07<00:01,  1.99it/s]"
          ],
          "name": "stderr"
        },
        {
          "output_type": "stream",
          "text": [
            "Step 10, Loss 1.4924300909042358\n"
          ],
          "name": "stdout"
        },
        {
          "output_type": "stream",
          "text": [
            "100%|██████████| 14/14 [00:08<00:00,  1.70it/s]\n",
            "  0%|          | 0/14 [00:00<?, ?it/s]"
          ],
          "name": "stderr"
        },
        {
          "output_type": "stream",
          "text": [
            "Accuracy on training set = 0.2832335329341317\n"
          ],
          "name": "stdout"
        },
        {
          "output_type": "stream",
          "text": [
            " 50%|█████     | 7/14 [00:05<00:05,  1.38it/s]"
          ],
          "name": "stderr"
        },
        {
          "output_type": "stream",
          "text": [
            "Step 20, Loss 0.9703448414802551\n"
          ],
          "name": "stdout"
        },
        {
          "output_type": "stream",
          "text": [
            "100%|██████████| 14/14 [00:08<00:00,  1.70it/s]\n",
            "  0%|          | 0/14 [00:00<?, ?it/s]"
          ],
          "name": "stderr"
        },
        {
          "output_type": "stream",
          "text": [
            "Accuracy on training set = 0.6778443113772455\n"
          ],
          "name": "stdout"
        },
        {
          "output_type": "stream",
          "text": [
            " 21%|██▏       | 3/14 [00:03<00:16,  1.46s/it]"
          ],
          "name": "stderr"
        },
        {
          "output_type": "stream",
          "text": [
            "Step 30, Loss 0.7714464068412781\n"
          ],
          "name": "stdout"
        },
        {
          "output_type": "stream",
          "text": [
            " 93%|█████████▎| 13/14 [00:08<00:00,  2.61it/s]"
          ],
          "name": "stderr"
        },
        {
          "output_type": "stream",
          "text": [
            "Step 40, Loss 0.5865378975868225\n"
          ],
          "name": "stdout"
        },
        {
          "output_type": "stream",
          "text": [
            "100%|██████████| 14/14 [00:08<00:00,  1.71it/s]\n",
            "  0%|          | 0/14 [00:00<?, ?it/s]"
          ],
          "name": "stderr"
        },
        {
          "output_type": "stream",
          "text": [
            "Accuracy on training set = 0.8179640718562874\n"
          ],
          "name": "stdout"
        },
        {
          "output_type": "stream",
          "text": [
            " 64%|██████▍   | 9/14 [00:07<00:04,  1.22it/s]"
          ],
          "name": "stderr"
        },
        {
          "output_type": "stream",
          "text": [
            "Step 50, Loss 0.43751442432403564\n"
          ],
          "name": "stdout"
        },
        {
          "output_type": "stream",
          "text": [
            "100%|██████████| 14/14 [00:08<00:00,  1.71it/s]\n",
            "  0%|          | 0/14 [00:00<?, ?it/s]"
          ],
          "name": "stderr"
        },
        {
          "output_type": "stream",
          "text": [
            "Accuracy on training set = 0.8532934131736527\n"
          ],
          "name": "stdout"
        },
        {
          "output_type": "stream",
          "text": [
            " 36%|███▌      | 5/14 [00:04<00:10,  1.16s/it]"
          ],
          "name": "stderr"
        },
        {
          "output_type": "stream",
          "text": [
            "Step 60, Loss 0.46380677819252014\n"
          ],
          "name": "stdout"
        },
        {
          "output_type": "stream",
          "text": [
            "100%|██████████| 14/14 [00:08<00:00,  1.71it/s]\n",
            "  0%|          | 0/14 [00:00<?, ?it/s]"
          ],
          "name": "stderr"
        },
        {
          "output_type": "stream",
          "text": [
            "Accuracy on training set = 0.8982035928143712\n"
          ],
          "name": "stdout"
        },
        {
          "output_type": "stream",
          "text": [
            "\r  7%|▋         | 1/14 [00:02<00:35,  2.73s/it]"
          ],
          "name": "stderr"
        },
        {
          "output_type": "stream",
          "text": [
            "Step 70, Loss 0.31047648191452026\n"
          ],
          "name": "stdout"
        },
        {
          "output_type": "stream",
          "text": [
            " 79%|███████▊  | 11/14 [00:07<00:01,  1.90it/s]"
          ],
          "name": "stderr"
        },
        {
          "output_type": "stream",
          "text": [
            "Step 80, Loss 0.34664228558540344\n"
          ],
          "name": "stdout"
        },
        {
          "output_type": "stream",
          "text": [
            "100%|██████████| 14/14 [00:08<00:00,  1.70it/s]\n",
            "  0%|          | 0/14 [00:00<?, ?it/s]"
          ],
          "name": "stderr"
        },
        {
          "output_type": "stream",
          "text": [
            "Accuracy on training set = 0.9041916167664671\n"
          ],
          "name": "stdout"
        },
        {
          "output_type": "stream",
          "text": [
            " 50%|█████     | 7/14 [00:05<00:05,  1.34it/s]"
          ],
          "name": "stderr"
        },
        {
          "output_type": "stream",
          "text": [
            "Step 90, Loss 0.2939363121986389\n"
          ],
          "name": "stdout"
        },
        {
          "output_type": "stream",
          "text": [
            "100%|██████████| 14/14 [00:08<00:00,  1.69it/s]\n",
            "  0%|          | 0/14 [00:00<?, ?it/s]"
          ],
          "name": "stderr"
        },
        {
          "output_type": "stream",
          "text": [
            "Accuracy on training set = 0.9197604790419162\n"
          ],
          "name": "stdout"
        },
        {
          "output_type": "stream",
          "text": [
            " 21%|██▏       | 3/14 [00:03<00:15,  1.43s/it]"
          ],
          "name": "stderr"
        },
        {
          "output_type": "stream",
          "text": [
            "Step 100, Loss 0.26095470786094666\n"
          ],
          "name": "stdout"
        },
        {
          "output_type": "stream",
          "text": [
            " 93%|█████████▎| 13/14 [00:08<00:00,  2.60it/s]"
          ],
          "name": "stderr"
        },
        {
          "output_type": "stream",
          "text": [
            "Step 110, Loss 0.2364848554134369\n"
          ],
          "name": "stdout"
        },
        {
          "output_type": "stream",
          "text": [
            "100%|██████████| 14/14 [00:08<00:00,  1.71it/s]\n",
            "  0%|          | 0/14 [00:00<?, ?it/s]"
          ],
          "name": "stderr"
        },
        {
          "output_type": "stream",
          "text": [
            "Accuracy on training set = 0.9299401197604791\n"
          ],
          "name": "stdout"
        },
        {
          "output_type": "stream",
          "text": [
            " 64%|██████▍   | 9/14 [00:07<00:04,  1.18it/s]"
          ],
          "name": "stderr"
        },
        {
          "output_type": "stream",
          "text": [
            "Step 120, Loss 0.22142234444618225\n"
          ],
          "name": "stdout"
        },
        {
          "output_type": "stream",
          "text": [
            "100%|██████████| 14/14 [00:08<00:00,  1.70it/s]\n",
            "  0%|          | 0/14 [00:00<?, ?it/s]"
          ],
          "name": "stderr"
        },
        {
          "output_type": "stream",
          "text": [
            "Accuracy on training set = 0.9347305389221557\n"
          ],
          "name": "stdout"
        },
        {
          "output_type": "stream",
          "text": [
            " 36%|███▌      | 5/14 [00:04<00:10,  1.17s/it]"
          ],
          "name": "stderr"
        },
        {
          "output_type": "stream",
          "text": [
            "Step 130, Loss 0.26054254174232483\n"
          ],
          "name": "stdout"
        },
        {
          "output_type": "stream",
          "text": [
            "100%|██████████| 14/14 [00:08<00:00,  1.70it/s]\n",
            "  0%|          | 0/14 [00:00<?, ?it/s]"
          ],
          "name": "stderr"
        },
        {
          "output_type": "stream",
          "text": [
            "Accuracy on training set = 0.937125748502994\n"
          ],
          "name": "stdout"
        },
        {
          "output_type": "stream",
          "text": [
            "\r  7%|▋         | 1/14 [00:02<00:35,  2.72s/it]"
          ],
          "name": "stderr"
        },
        {
          "output_type": "stream",
          "text": [
            "Step 140, Loss 0.20670059323310852\n"
          ],
          "name": "stdout"
        },
        {
          "output_type": "stream",
          "text": [
            " 79%|███████▊  | 11/14 [00:07<00:01,  1.91it/s]"
          ],
          "name": "stderr"
        },
        {
          "output_type": "stream",
          "text": [
            "Step 150, Loss 0.20475319027900696\n"
          ],
          "name": "stdout"
        },
        {
          "output_type": "stream",
          "text": [
            "100%|██████████| 14/14 [00:08<00:00,  1.68it/s]\n",
            "  0%|          | 0/14 [00:00<?, ?it/s]"
          ],
          "name": "stderr"
        },
        {
          "output_type": "stream",
          "text": [
            "Accuracy on training set = 0.9425149700598803\n"
          ],
          "name": "stdout"
        },
        {
          "output_type": "stream",
          "text": [
            " 50%|█████     | 7/14 [00:05<00:04,  1.41it/s]"
          ],
          "name": "stderr"
        },
        {
          "output_type": "stream",
          "text": [
            "Step 160, Loss 0.20883376896381378\n"
          ],
          "name": "stdout"
        },
        {
          "output_type": "stream",
          "text": [
            "100%|██████████| 14/14 [00:08<00:00,  1.71it/s]\n",
            "  0%|          | 0/14 [00:00<?, ?it/s]"
          ],
          "name": "stderr"
        },
        {
          "output_type": "stream",
          "text": [
            "Accuracy on training set = 0.9431137724550899\n"
          ],
          "name": "stdout"
        },
        {
          "output_type": "stream",
          "text": [
            " 21%|██▏       | 3/14 [00:03<00:15,  1.41s/it]"
          ],
          "name": "stderr"
        },
        {
          "output_type": "stream",
          "text": [
            "Step 170, Loss 0.14849509298801422\n"
          ],
          "name": "stdout"
        },
        {
          "output_type": "stream",
          "text": [
            " 93%|█████████▎| 13/14 [00:08<00:00,  2.38it/s]"
          ],
          "name": "stderr"
        },
        {
          "output_type": "stream",
          "text": [
            "Step 180, Loss 0.10037189722061157\n"
          ],
          "name": "stdout"
        },
        {
          "output_type": "stream",
          "text": [
            "100%|██████████| 14/14 [00:08<00:00,  1.71it/s]\n",
            "  0%|          | 0/14 [00:00<?, ?it/s]"
          ],
          "name": "stderr"
        },
        {
          "output_type": "stream",
          "text": [
            "Accuracy on training set = 0.9461077844311377\n"
          ],
          "name": "stdout"
        },
        {
          "output_type": "stream",
          "text": [
            " 64%|██████▍   | 9/14 [00:07<00:04,  1.23it/s]"
          ],
          "name": "stderr"
        },
        {
          "output_type": "stream",
          "text": [
            "Step 190, Loss 0.14971432089805603\n"
          ],
          "name": "stdout"
        },
        {
          "output_type": "stream",
          "text": [
            "100%|██████████| 14/14 [00:08<00:00,  1.70it/s]\n",
            "  0%|          | 0/14 [00:00<?, ?it/s]"
          ],
          "name": "stderr"
        },
        {
          "output_type": "stream",
          "text": [
            "Accuracy on training set = 0.9425149700598803\n"
          ],
          "name": "stdout"
        },
        {
          "output_type": "stream",
          "text": [
            " 36%|███▌      | 5/14 [00:04<00:09,  1.05s/it]"
          ],
          "name": "stderr"
        },
        {
          "output_type": "stream",
          "text": [
            "Step 200, Loss 0.1344422698020935\n"
          ],
          "name": "stdout"
        },
        {
          "output_type": "stream",
          "text": [
            "100%|██████████| 14/14 [00:08<00:00,  1.70it/s]\n",
            "  0%|          | 0/14 [00:00<?, ?it/s]"
          ],
          "name": "stderr"
        },
        {
          "output_type": "stream",
          "text": [
            "Accuracy on training set = 0.9491017964071856\n"
          ],
          "name": "stdout"
        },
        {
          "output_type": "stream",
          "text": [
            "\r  7%|▋         | 1/14 [00:02<00:35,  2.76s/it]"
          ],
          "name": "stderr"
        },
        {
          "output_type": "stream",
          "text": [
            "Step 210, Loss 0.137672558426857\n"
          ],
          "name": "stdout"
        },
        {
          "output_type": "stream",
          "text": [
            " 79%|███████▊  | 11/14 [00:07<00:01,  1.93it/s]"
          ],
          "name": "stderr"
        },
        {
          "output_type": "stream",
          "text": [
            "Step 220, Loss 0.15378734469413757\n"
          ],
          "name": "stdout"
        },
        {
          "output_type": "stream",
          "text": [
            "100%|██████████| 14/14 [00:08<00:00,  1.68it/s]\n",
            "  0%|          | 0/14 [00:00<?, ?it/s]"
          ],
          "name": "stderr"
        },
        {
          "output_type": "stream",
          "text": [
            "Accuracy on training set = 0.9532934131736527\n"
          ],
          "name": "stdout"
        },
        {
          "output_type": "stream",
          "text": [
            " 50%|█████     | 7/14 [00:05<00:05,  1.37it/s]"
          ],
          "name": "stderr"
        },
        {
          "output_type": "stream",
          "text": [
            "Step 230, Loss 0.15543265640735626\n"
          ],
          "name": "stdout"
        },
        {
          "output_type": "stream",
          "text": [
            "100%|██████████| 14/14 [00:08<00:00,  1.70it/s]\n",
            "  0%|          | 0/14 [00:00<?, ?it/s]"
          ],
          "name": "stderr"
        },
        {
          "output_type": "stream",
          "text": [
            "Accuracy on training set = 0.9520958083832335\n"
          ],
          "name": "stdout"
        },
        {
          "output_type": "stream",
          "text": [
            " 21%|██▏       | 3/14 [00:03<00:17,  1.61s/it]"
          ],
          "name": "stderr"
        },
        {
          "output_type": "stream",
          "text": [
            "Step 240, Loss 0.09048034250736237\n"
          ],
          "name": "stdout"
        },
        {
          "output_type": "stream",
          "text": [
            " 93%|█████████▎| 13/14 [00:08<00:00,  2.75it/s]"
          ],
          "name": "stderr"
        },
        {
          "output_type": "stream",
          "text": [
            "Step 250, Loss 0.12963412702083588\n"
          ],
          "name": "stdout"
        },
        {
          "output_type": "stream",
          "text": [
            "100%|██████████| 14/14 [00:08<00:00,  1.70it/s]\n",
            "  0%|          | 0/14 [00:00<?, ?it/s]"
          ],
          "name": "stderr"
        },
        {
          "output_type": "stream",
          "text": [
            "Accuracy on training set = 0.9520958083832335\n"
          ],
          "name": "stdout"
        },
        {
          "output_type": "stream",
          "text": [
            " 64%|██████▍   | 9/14 [00:07<00:04,  1.25it/s]"
          ],
          "name": "stderr"
        },
        {
          "output_type": "stream",
          "text": [
            "Step 260, Loss 0.08770130574703217\n"
          ],
          "name": "stdout"
        },
        {
          "output_type": "stream",
          "text": [
            "100%|██████████| 14/14 [00:08<00:00,  1.70it/s]\n",
            "  0%|          | 0/14 [00:00<?, ?it/s]"
          ],
          "name": "stderr"
        },
        {
          "output_type": "stream",
          "text": [
            "Accuracy on training set = 0.9604790419161676\n"
          ],
          "name": "stdout"
        },
        {
          "output_type": "stream",
          "text": [
            " 36%|███▌      | 5/14 [00:05<00:10,  1.21s/it]"
          ],
          "name": "stderr"
        },
        {
          "output_type": "stream",
          "text": [
            "Step 270, Loss 0.13364626467227936\n"
          ],
          "name": "stdout"
        },
        {
          "output_type": "stream",
          "text": [
            "100%|██████████| 14/14 [00:08<00:00,  1.72it/s]"
          ],
          "name": "stderr"
        },
        {
          "output_type": "stream",
          "text": [
            "Accuracy on training set = 0.9610778443113772\n"
          ],
          "name": "stdout"
        },
        {
          "output_type": "stream",
          "text": [
            "\n"
          ],
          "name": "stderr"
        }
      ]
    },
    {
      "cell_type": "markdown",
      "metadata": {
        "id": "UsHFI-GAJd69",
        "colab_type": "text"
      },
      "source": [
        "##**Test**"
      ]
    },
    {
      "cell_type": "code",
      "metadata": {
        "id": "EO3HV5pqJg1o",
        "colab_type": "code",
        "outputId": "5e844b02-00d6-4d09-b7cc-2eecb19e2fe4",
        "colab": {
          "base_uri": "https://localhost:8080/",
          "height": 52
        }
      },
      "source": [
        "net = net.to(DEVICE) # this will bring the network to GPU if DEVICE is cuda\n",
        "net.train(False) # Set Network to evaluation mode\n",
        "\n",
        "running_corrects = 0\n",
        "for images, labels in tqdm(art_painting_dataloader):\n",
        "  images = images.to(DEVICE)\n",
        "  labels = labels.to(DEVICE)\n",
        "\n",
        "  # Forward Pass\n",
        "  outputs = net(images)\n",
        "\n",
        "  loss = criterion(outputs, labels)\n",
        "\n",
        "  # Get predictions\n",
        "  _, preds = torch.max(outputs.data, 1)\n",
        "\n",
        "  # Update Corrects\n",
        "  running_corrects += torch.sum(preds == labels.data).data.item()\n",
        "\n",
        "# Calculate Accuracy\n",
        "accuracy = running_corrects / float(len(art_painting))\n",
        "\n",
        "print('Test Accuracy: {}'.format(accuracy))"
      ],
      "execution_count": 9,
      "outputs": [
        {
          "output_type": "stream",
          "text": [
            "100%|██████████| 16/16 [00:09<00:00,  1.75it/s]"
          ],
          "name": "stderr"
        },
        {
          "output_type": "stream",
          "text": [
            "Test Accuracy: 0.42578125\n"
          ],
          "name": "stdout"
        },
        {
          "output_type": "stream",
          "text": [
            "\n"
          ],
          "name": "stderr"
        }
      ]
    },
    {
      "cell_type": "code",
      "metadata": {
        "id": "IPzBRkB3iKWU",
        "colab_type": "code",
        "outputId": "10913eb3-6bf9-4a57-9ab8-3d91187a3372",
        "colab": {
          "base_uri": "https://localhost:8080/",
          "height": 34
        }
      },
      "source": [
        "loss.item()"
      ],
      "execution_count": 10,
      "outputs": [
        {
          "output_type": "execute_result",
          "data": {
            "text/plain": [
              "4.378206253051758"
            ]
          },
          "metadata": {
            "tags": []
          },
          "execution_count": 10
        }
      ]
    },
    {
      "cell_type": "markdown",
      "metadata": {
        "id": "2NHDb2yBC7jX",
        "colab_type": "text"
      },
      "source": [
        "# Model with DANN"
      ]
    },
    {
      "cell_type": "markdown",
      "metadata": {
        "id": "f9PNdrqJdkSO",
        "colab_type": "text"
      },
      "source": [
        "## Network"
      ]
    },
    {
      "cell_type": "code",
      "metadata": {
        "id": "xC1hCskMXaTC",
        "colab_type": "code",
        "colab": {}
      },
      "source": [
        "net = alexNetDA(num_classes = 7)\n",
        "net = net.to(DEVICE)"
      ],
      "execution_count": 0,
      "outputs": []
    },
    {
      "cell_type": "markdown",
      "metadata": {
        "id": "NemzVoaidnQA",
        "colab_type": "text"
      },
      "source": [
        "## Loss, Optim and Scheduler"
      ]
    },
    {
      "cell_type": "code",
      "metadata": {
        "id": "PbFj42qsER6M",
        "colab_type": "code",
        "colab": {}
      },
      "source": [
        "criterion_class = nn.CrossEntropyLoss() \n",
        "criterion_domain = nn.CrossEntropyLoss()\n",
        "\n",
        "parameters_to_optimize = net.parameters() \n",
        "\n",
        "optimizer = optim.SGD(parameters_to_optimize, lr=LR, momentum=MOMENTUM, weight_decay=WEIGHT_DECAY)\n",
        "\n",
        "scheduler = optim.lr_scheduler.StepLR(optimizer, step_size=STEP_SIZE, gamma=GAMMA)"
      ],
      "execution_count": 0,
      "outputs": []
    },
    {
      "cell_type": "markdown",
      "metadata": {
        "id": "yW0rUNTbduSm",
        "colab_type": "text"
      },
      "source": [
        "## Train "
      ]
    },
    {
      "cell_type": "code",
      "metadata": {
        "id": "UoZJAcaHEtYT",
        "colab_type": "code",
        "colab": {}
      },
      "source": [
        "#photos_dataloader = DataLoader(photos, batch_size=BATCH_SIZE, shuffle=True, num_workers=4)\n",
        "#art_painting_dataloader = DataLoader(art_painting, batch_size=BATCH_SIZE, shuffle=False, num_workers=4)\n",
        "\n",
        "max_batches = min(len(photos_dataloader), len(art_painting_dataloader))"
      ],
      "execution_count": 0,
      "outputs": []
    },
    {
      "cell_type": "code",
      "metadata": {
        "id": "O4tSP1-uEPQt",
        "colab_type": "code",
        "outputId": "4b4f1831-5d0f-4b3c-8ab9-2b18b1c99c32",
        "colab": {
          "base_uri": "https://localhost:8080/",
          "height": 1000
        }
      },
      "source": [
        "# By default, everything is loaded to cpu\n",
        "net = net.to(DEVICE) # this will bring the network to GPU if DEVICE is cuda\n",
        "\n",
        "cudnn.benchmark # Calling this optimizes runtime\n",
        "running_corrects = 0\n",
        "current_step = 0\n",
        "# Start iterating over the epochs\n",
        "# Iterate over the dataset\n",
        "for epoch in range(NUM_EPOCHS):\n",
        "  scheduler.step() \n",
        "  iterPh = iter(photos_dataloader)\n",
        "  iterAP = iter(art_painting_dataloader)\n",
        "  for batch in range(max_batches):\n",
        "    net.train() # Sets module in training mode\n",
        "    optimizer.zero_grad() # Zero-ing the gradients\n",
        "\n",
        "    images_source, labels_source = next(iterPh)\n",
        "    labels_domain = torch.zeros(len(images_source), dtype=torch.long)\n",
        "    \n",
        "    # Bring data over the device of choice\n",
        "    images_source = images_source.to(DEVICE)\n",
        "    labels_source = labels_source.to(DEVICE)\n",
        "    labels_domain = labels_domain.to(DEVICE)\n",
        "\n",
        "  \n",
        "    # Get the output for classes and domains; class_pred, domain_pred\n",
        "    classes_output = net(images_source)\n",
        "    # Compute the loss on the source domain\n",
        "    loss_s_label = criterion_class(classes_output, labels_source)\n",
        "\n",
        "    domain_output = net(images_source, alfa)\n",
        "    # Compute the loss on the source domain\n",
        "    loss_s_domain = criterion_domain(domain_output, labels_domain)\n",
        "\n",
        "    #In orter to compute the accuracy, count the right preditected labels\n",
        "    _, preds = torch.max(classes_output.data, 1)\n",
        "    \n",
        "    running_corrects += torch.sum(preds == labels_source.data).data.item()\n",
        "    \n",
        "    # Get the output for targets\n",
        "    targets, _ = next(iterAP)\n",
        "    target_domain = torch.ones(len(targets), dtype=torch.long)\n",
        "\n",
        "    # Bring data over the device of choice\n",
        "    targets = targets.to(DEVICE)\n",
        "    target_domain = target_domain.to(DEVICE)\n",
        "\n",
        "    target_output = net(targets, alfa)\n",
        "\n",
        "    # Compute the loss on the source domain\n",
        "    loss_t_domain = criterion_domain(target_output,target_domain)\n",
        "\n",
        "    loss = loss_s_label + loss_s_domain + loss_t_domain\n",
        "    loss.backward()  # backward pass: computes gradients\n",
        "\n",
        "    optimizer.step() # update weights based on accumulated gradients\n",
        "\n",
        "    current_step += 1\n",
        "\n",
        "    print(f'[{batch+1}/{max_batches}] '\n",
        "          f'class_loss: {loss_s_label.item():.4f} ' f's_domain_loss: {loss_s_domain.item():.4f} '\n",
        "          f't_domain_loss: {loss_t_domain.item():.4f} '\n",
        "          )  \n",
        "  # Calculate Accuracy \n",
        "  accuracy = running_corrects/float(len(photos))\n",
        "  print(f'Accuracy is: {accuracy}')\n",
        "  running_corrects = 0\n",
        "  "
      ],
      "execution_count": 14,
      "outputs": [
        {
          "output_type": "stream",
          "text": [
            "/usr/local/lib/python3.6/dist-packages/torch/optim/lr_scheduler.py:123: UserWarning: Detected call of `lr_scheduler.step()` before `optimizer.step()`. In PyTorch 1.1.0 and later, you should call them in the opposite order: `optimizer.step()` before `lr_scheduler.step()`.  Failure to do this will result in PyTorch skipping the first value of the learning rate schedule. See more details at https://pytorch.org/docs/stable/optim.html#how-to-adjust-learning-rate\n",
            "  \"https://pytorch.org/docs/stable/optim.html#how-to-adjust-learning-rate\", UserWarning)\n"
          ],
          "name": "stderr"
        },
        {
          "output_type": "stream",
          "text": [
            "[1/14] class_loss: 2.2305 s_domain_loss: 0.7442 t_domain_loss: 0.6904 \n",
            "[2/14] class_loss: 2.1185 s_domain_loss: 0.7292 t_domain_loss: 0.7024 \n",
            "[3/14] class_loss: 2.2026 s_domain_loss: 0.7306 t_domain_loss: 0.7061 \n",
            "[4/14] class_loss: 2.0835 s_domain_loss: 0.7203 t_domain_loss: 0.7048 \n",
            "[5/14] class_loss: 2.0098 s_domain_loss: 0.7061 t_domain_loss: 0.7117 \n",
            "[6/14] class_loss: 1.9836 s_domain_loss: 0.7172 t_domain_loss: 0.7138 \n",
            "[7/14] class_loss: 1.8946 s_domain_loss: 0.7046 t_domain_loss: 0.7223 \n",
            "[8/14] class_loss: 1.7800 s_domain_loss: 0.7029 t_domain_loss: 0.7266 \n",
            "[9/14] class_loss: 1.5583 s_domain_loss: 0.6895 t_domain_loss: 0.7237 \n",
            "[10/14] class_loss: 1.5529 s_domain_loss: 0.6857 t_domain_loss: 0.7317 \n",
            "[11/14] class_loss: 1.5012 s_domain_loss: 0.6757 t_domain_loss: 0.7368 \n",
            "[12/14] class_loss: 1.3897 s_domain_loss: 0.6733 t_domain_loss: 0.7399 \n",
            "[13/14] class_loss: 1.3876 s_domain_loss: 0.6782 t_domain_loss: 0.7357 \n",
            "[14/14] class_loss: 1.2718 s_domain_loss: 0.6933 t_domain_loss: 0.7367 \n",
            "Accuracy is: 0.3149700598802395\n",
            "[1/14] class_loss: 1.3184 s_domain_loss: 0.6771 t_domain_loss: 0.7274 \n",
            "[2/14] class_loss: 1.1031 s_domain_loss: 0.6819 t_domain_loss: 0.7332 \n",
            "[3/14] class_loss: 1.0195 s_domain_loss: 0.6811 t_domain_loss: 0.7297 \n",
            "[4/14] class_loss: 1.0362 s_domain_loss: 0.6881 t_domain_loss: 0.7234 \n",
            "[5/14] class_loss: 1.1051 s_domain_loss: 0.6776 t_domain_loss: 0.7203 \n",
            "[6/14] class_loss: 0.9867 s_domain_loss: 0.6848 t_domain_loss: 0.7149 \n",
            "[7/14] class_loss: 0.9261 s_domain_loss: 0.6946 t_domain_loss: 0.7167 \n",
            "[8/14] class_loss: 0.9910 s_domain_loss: 0.6898 t_domain_loss: 0.7098 \n",
            "[9/14] class_loss: 0.9400 s_domain_loss: 0.7004 t_domain_loss: 0.7026 \n",
            "[10/14] class_loss: 0.8917 s_domain_loss: 0.7027 t_domain_loss: 0.7033 \n",
            "[11/14] class_loss: 0.8465 s_domain_loss: 0.7070 t_domain_loss: 0.7025 \n",
            "[12/14] class_loss: 0.9660 s_domain_loss: 0.7131 t_domain_loss: 0.7053 \n",
            "[13/14] class_loss: 0.8367 s_domain_loss: 0.7022 t_domain_loss: 0.7063 \n",
            "[14/14] class_loss: 0.5668 s_domain_loss: 0.6992 t_domain_loss: 0.7077 \n",
            "Accuracy is: 0.6766467065868264\n",
            "[1/14] class_loss: 0.7126 s_domain_loss: 0.6988 t_domain_loss: 0.7007 \n",
            "[2/14] class_loss: 0.7427 s_domain_loss: 0.6993 t_domain_loss: 0.7082 \n",
            "[3/14] class_loss: 0.8030 s_domain_loss: 0.6911 t_domain_loss: 0.7088 \n",
            "[4/14] class_loss: 0.6101 s_domain_loss: 0.6888 t_domain_loss: 0.7088 \n",
            "[5/14] class_loss: 0.7270 s_domain_loss: 0.6950 t_domain_loss: 0.7101 \n",
            "[6/14] class_loss: 0.6417 s_domain_loss: 0.6880 t_domain_loss: 0.7088 \n",
            "[7/14] class_loss: 0.7347 s_domain_loss: 0.6923 t_domain_loss: 0.7160 \n",
            "[8/14] class_loss: 0.6299 s_domain_loss: 0.6815 t_domain_loss: 0.7121 \n",
            "[9/14] class_loss: 0.5231 s_domain_loss: 0.6831 t_domain_loss: 0.7103 \n",
            "[10/14] class_loss: 0.4866 s_domain_loss: 0.6792 t_domain_loss: 0.7128 \n",
            "[11/14] class_loss: 0.5997 s_domain_loss: 0.6906 t_domain_loss: 0.7113 \n",
            "[12/14] class_loss: 0.4913 s_domain_loss: 0.6884 t_domain_loss: 0.7143 \n",
            "[13/14] class_loss: 0.5639 s_domain_loss: 0.6845 t_domain_loss: 0.7136 \n",
            "[14/14] class_loss: 0.5839 s_domain_loss: 0.6908 t_domain_loss: 0.7149 \n",
            "Accuracy is: 0.8203592814371258\n",
            "[1/14] class_loss: 0.5577 s_domain_loss: 0.6834 t_domain_loss: 0.7066 \n",
            "[2/14] class_loss: 0.4956 s_domain_loss: 0.6845 t_domain_loss: 0.7116 \n",
            "[3/14] class_loss: 0.4652 s_domain_loss: 0.6824 t_domain_loss: 0.7092 \n",
            "[4/14] class_loss: 0.5284 s_domain_loss: 0.6862 t_domain_loss: 0.7083 \n",
            "[5/14] class_loss: 0.5146 s_domain_loss: 0.6871 t_domain_loss: 0.7068 \n",
            "[6/14] class_loss: 0.4086 s_domain_loss: 0.6893 t_domain_loss: 0.7020 \n",
            "[7/14] class_loss: 0.4500 s_domain_loss: 0.6884 t_domain_loss: 0.7071 \n",
            "[8/14] class_loss: 0.4775 s_domain_loss: 0.6874 t_domain_loss: 0.7022 \n",
            "[9/14] class_loss: 0.5313 s_domain_loss: 0.6856 t_domain_loss: 0.7014 \n",
            "[10/14] class_loss: 0.3509 s_domain_loss: 0.6871 t_domain_loss: 0.7033 \n",
            "[11/14] class_loss: 0.4238 s_domain_loss: 0.6878 t_domain_loss: 0.7019 \n",
            "[12/14] class_loss: 0.4303 s_domain_loss: 0.6902 t_domain_loss: 0.7055 \n",
            "[13/14] class_loss: 0.4243 s_domain_loss: 0.6827 t_domain_loss: 0.7043 \n",
            "[14/14] class_loss: 0.1912 s_domain_loss: 0.7125 t_domain_loss: 0.7083 \n",
            "Accuracy is: 0.881437125748503\n",
            "[1/14] class_loss: 0.4576 s_domain_loss: 0.6889 t_domain_loss: 0.6990 \n",
            "[2/14] class_loss: 0.3520 s_domain_loss: 0.6875 t_domain_loss: 0.7028 \n",
            "[3/14] class_loss: 0.4166 s_domain_loss: 0.6923 t_domain_loss: 0.6994 \n",
            "[4/14] class_loss: 0.3235 s_domain_loss: 0.6850 t_domain_loss: 0.6999 \n",
            "[5/14] class_loss: 0.2962 s_domain_loss: 0.6800 t_domain_loss: 0.6991 \n",
            "[6/14] class_loss: 0.3315 s_domain_loss: 0.6866 t_domain_loss: 0.6944 \n",
            "[7/14] class_loss: 0.3826 s_domain_loss: 0.6912 t_domain_loss: 0.6997 \n",
            "[8/14] class_loss: 0.3241 s_domain_loss: 0.6887 t_domain_loss: 0.6966 \n",
            "[9/14] class_loss: 0.3603 s_domain_loss: 0.6820 t_domain_loss: 0.6982 \n",
            "[10/14] class_loss: 0.3545 s_domain_loss: 0.6758 t_domain_loss: 0.7012 \n",
            "[11/14] class_loss: 0.3459 s_domain_loss: 0.6862 t_domain_loss: 0.7008 \n",
            "[12/14] class_loss: 0.4242 s_domain_loss: 0.6893 t_domain_loss: 0.7049 \n",
            "[13/14] class_loss: 0.3640 s_domain_loss: 0.6862 t_domain_loss: 0.7035 \n",
            "[14/14] class_loss: 0.2835 s_domain_loss: 0.6926 t_domain_loss: 0.7082 \n",
            "Accuracy is: 0.9017964071856287\n",
            "[1/14] class_loss: 0.2740 s_domain_loss: 0.6766 t_domain_loss: 0.7011 \n",
            "[2/14] class_loss: 0.3444 s_domain_loss: 0.6795 t_domain_loss: 0.7059 \n",
            "[3/14] class_loss: 0.3041 s_domain_loss: 0.6789 t_domain_loss: 0.7031 \n",
            "[4/14] class_loss: 0.3018 s_domain_loss: 0.6699 t_domain_loss: 0.7048 \n",
            "[5/14] class_loss: 0.3749 s_domain_loss: 0.6709 t_domain_loss: 0.7039 \n",
            "[6/14] class_loss: 0.3211 s_domain_loss: 0.6859 t_domain_loss: 0.6983 \n",
            "[7/14] class_loss: 0.2824 s_domain_loss: 0.6765 t_domain_loss: 0.7021 \n",
            "[8/14] class_loss: 0.2826 s_domain_loss: 0.6707 t_domain_loss: 0.6974 \n",
            "[9/14] class_loss: 0.4138 s_domain_loss: 0.6861 t_domain_loss: 0.6982 \n",
            "[10/14] class_loss: 0.2881 s_domain_loss: 0.6777 t_domain_loss: 0.6991 \n",
            "[11/14] class_loss: 0.3668 s_domain_loss: 0.6775 t_domain_loss: 0.6973 \n",
            "[12/14] class_loss: 0.3260 s_domain_loss: 0.6854 t_domain_loss: 0.7003 \n",
            "[13/14] class_loss: 0.3086 s_domain_loss: 0.6859 t_domain_loss: 0.6984 \n",
            "[14/14] class_loss: 0.1556 s_domain_loss: 0.7072 t_domain_loss: 0.7022 \n",
            "Accuracy is: 0.9029940119760479\n",
            "[1/14] class_loss: 0.2663 s_domain_loss: 0.6816 t_domain_loss: 0.6944 \n",
            "[2/14] class_loss: 0.3000 s_domain_loss: 0.6829 t_domain_loss: 0.6996 \n",
            "[3/14] class_loss: 0.3181 s_domain_loss: 0.6737 t_domain_loss: 0.6974 \n",
            "[4/14] class_loss: 0.3039 s_domain_loss: 0.6861 t_domain_loss: 0.6994 \n",
            "[5/14] class_loss: 0.2551 s_domain_loss: 0.6708 t_domain_loss: 0.6997 \n",
            "[6/14] class_loss: 0.2335 s_domain_loss: 0.6735 t_domain_loss: 0.6949 \n",
            "[7/14] class_loss: 0.2965 s_domain_loss: 0.6752 t_domain_loss: 0.6990 \n",
            "[8/14] class_loss: 0.3006 s_domain_loss: 0.6736 t_domain_loss: 0.6951 \n",
            "[9/14] class_loss: 0.2705 s_domain_loss: 0.6755 t_domain_loss: 0.6970 \n",
            "[10/14] class_loss: 0.2629 s_domain_loss: 0.6814 t_domain_loss: 0.6979 \n",
            "[11/14] class_loss: 0.2795 s_domain_loss: 0.6774 t_domain_loss: 0.6959 \n",
            "[12/14] class_loss: 0.2575 s_domain_loss: 0.6720 t_domain_loss: 0.6995 \n",
            "[13/14] class_loss: 0.2671 s_domain_loss: 0.6771 t_domain_loss: 0.6976 \n",
            "[14/14] class_loss: 0.2669 s_domain_loss: 0.7024 t_domain_loss: 0.7016 \n",
            "Accuracy is: 0.922754491017964\n",
            "[1/14] class_loss: 0.2460 s_domain_loss: 0.6752 t_domain_loss: 0.6934 \n",
            "[2/14] class_loss: 0.2886 s_domain_loss: 0.6753 t_domain_loss: 0.6989 \n",
            "[3/14] class_loss: 0.2620 s_domain_loss: 0.6734 t_domain_loss: 0.6966 \n",
            "[4/14] class_loss: 0.3016 s_domain_loss: 0.6693 t_domain_loss: 0.6982 \n",
            "[5/14] class_loss: 0.3060 s_domain_loss: 0.6711 t_domain_loss: 0.6988 \n",
            "[6/14] class_loss: 0.2790 s_domain_loss: 0.6684 t_domain_loss: 0.6935 \n",
            "[7/14] class_loss: 0.2529 s_domain_loss: 0.6769 t_domain_loss: 0.6970 \n",
            "[8/14] class_loss: 0.2407 s_domain_loss: 0.6815 t_domain_loss: 0.6929 \n",
            "[9/14] class_loss: 0.2506 s_domain_loss: 0.6646 t_domain_loss: 0.6949 \n",
            "[10/14] class_loss: 0.1919 s_domain_loss: 0.6744 t_domain_loss: 0.6953 \n",
            "[11/14] class_loss: 0.1972 s_domain_loss: 0.6770 t_domain_loss: 0.6927 \n",
            "[12/14] class_loss: 0.2434 s_domain_loss: 0.6744 t_domain_loss: 0.6965 \n",
            "[13/14] class_loss: 0.2134 s_domain_loss: 0.6685 t_domain_loss: 0.6943 \n",
            "[14/14] class_loss: 0.2372 s_domain_loss: 0.7103 t_domain_loss: 0.6984 \n",
            "Accuracy is: 0.9233532934131736\n",
            "[1/14] class_loss: 0.2131 s_domain_loss: 0.6767 t_domain_loss: 0.6895 \n",
            "[2/14] class_loss: 0.1739 s_domain_loss: 0.6740 t_domain_loss: 0.6954 \n",
            "[3/14] class_loss: 0.2660 s_domain_loss: 0.6712 t_domain_loss: 0.6933 \n",
            "[4/14] class_loss: 0.2468 s_domain_loss: 0.6713 t_domain_loss: 0.6945 \n",
            "[5/14] class_loss: 0.2882 s_domain_loss: 0.6631 t_domain_loss: 0.6959 \n",
            "[6/14] class_loss: 0.2235 s_domain_loss: 0.6624 t_domain_loss: 0.6904 \n",
            "[7/14] class_loss: 0.1595 s_domain_loss: 0.6806 t_domain_loss: 0.6934 \n",
            "[8/14] class_loss: 0.1680 s_domain_loss: 0.6698 t_domain_loss: 0.6897 \n",
            "[9/14] class_loss: 0.2916 s_domain_loss: 0.6797 t_domain_loss: 0.6924 \n",
            "[10/14] class_loss: 0.2138 s_domain_loss: 0.6782 t_domain_loss: 0.6934 \n",
            "[11/14] class_loss: 0.2322 s_domain_loss: 0.6686 t_domain_loss: 0.6913 \n",
            "[12/14] class_loss: 0.1794 s_domain_loss: 0.6606 t_domain_loss: 0.6955 \n",
            "[13/14] class_loss: 0.3028 s_domain_loss: 0.6665 t_domain_loss: 0.6932 \n",
            "[14/14] class_loss: 0.0942 s_domain_loss: 0.6816 t_domain_loss: 0.6973 \n",
            "Accuracy is: 0.9335329341317365\n",
            "[1/14] class_loss: 0.2869 s_domain_loss: 0.6682 t_domain_loss: 0.6867 \n",
            "[2/14] class_loss: 0.2142 s_domain_loss: 0.6740 t_domain_loss: 0.6915 \n",
            "[3/14] class_loss: 0.2135 s_domain_loss: 0.6738 t_domain_loss: 0.6881 \n",
            "[4/14] class_loss: 0.2024 s_domain_loss: 0.6797 t_domain_loss: 0.6885 \n",
            "[5/14] class_loss: 0.1923 s_domain_loss: 0.6711 t_domain_loss: 0.6898 \n",
            "[6/14] class_loss: 0.1804 s_domain_loss: 0.6611 t_domain_loss: 0.6843 \n",
            "[7/14] class_loss: 0.2196 s_domain_loss: 0.6738 t_domain_loss: 0.6876 \n",
            "[8/14] class_loss: 0.2324 s_domain_loss: 0.6728 t_domain_loss: 0.6842 \n",
            "[9/14] class_loss: 0.1993 s_domain_loss: 0.6777 t_domain_loss: 0.6875 \n",
            "[10/14] class_loss: 0.1784 s_domain_loss: 0.6693 t_domain_loss: 0.6887 \n",
            "[11/14] class_loss: 0.1532 s_domain_loss: 0.6575 t_domain_loss: 0.6865 \n",
            "[12/14] class_loss: 0.2419 s_domain_loss: 0.6691 t_domain_loss: 0.6908 \n",
            "[13/14] class_loss: 0.1682 s_domain_loss: 0.6668 t_domain_loss: 0.6891 \n",
            "[14/14] class_loss: 0.6024 s_domain_loss: 0.7016 t_domain_loss: 0.6948 \n",
            "Accuracy is: 0.9305389221556887\n",
            "[1/14] class_loss: 0.1960 s_domain_loss: 0.6676 t_domain_loss: 0.6840 \n",
            "[2/14] class_loss: 0.1678 s_domain_loss: 0.6711 t_domain_loss: 0.6895 \n",
            "[3/14] class_loss: 0.2232 s_domain_loss: 0.6802 t_domain_loss: 0.6865 \n",
            "[4/14] class_loss: 0.2253 s_domain_loss: 0.6720 t_domain_loss: 0.6872 \n",
            "[5/14] class_loss: 0.2035 s_domain_loss: 0.6655 t_domain_loss: 0.6894 \n",
            "[6/14] class_loss: 0.1822 s_domain_loss: 0.6759 t_domain_loss: 0.6835 \n",
            "[7/14] class_loss: 0.2134 s_domain_loss: 0.6664 t_domain_loss: 0.6870 \n",
            "[8/14] class_loss: 0.1953 s_domain_loss: 0.6581 t_domain_loss: 0.6837 \n",
            "[9/14] class_loss: 0.1953 s_domain_loss: 0.6641 t_domain_loss: 0.6870 \n",
            "[10/14] class_loss: 0.2272 s_domain_loss: 0.6635 t_domain_loss: 0.6875 \n",
            "[11/14] class_loss: 0.1660 s_domain_loss: 0.6620 t_domain_loss: 0.6845 \n",
            "[12/14] class_loss: 0.1901 s_domain_loss: 0.6652 t_domain_loss: 0.6881 \n",
            "[13/14] class_loss: 0.2185 s_domain_loss: 0.6643 t_domain_loss: 0.6861 \n",
            "[14/14] class_loss: 0.1011 s_domain_loss: 0.7358 t_domain_loss: 0.6921 \n",
            "Accuracy is: 0.9377245508982036\n",
            "[1/14] class_loss: 0.1489 s_domain_loss: 0.6622 t_domain_loss: 0.6826 \n",
            "[2/14] class_loss: 0.2231 s_domain_loss: 0.6640 t_domain_loss: 0.6896 \n",
            "[3/14] class_loss: 0.2243 s_domain_loss: 0.6694 t_domain_loss: 0.6875 \n",
            "[4/14] class_loss: 0.2042 s_domain_loss: 0.6669 t_domain_loss: 0.6888 \n",
            "[5/14] class_loss: 0.1825 s_domain_loss: 0.6706 t_domain_loss: 0.6924 \n",
            "[6/14] class_loss: 0.1598 s_domain_loss: 0.6516 t_domain_loss: 0.6870 \n",
            "[7/14] class_loss: 0.1323 s_domain_loss: 0.6552 t_domain_loss: 0.6905 \n",
            "[8/14] class_loss: 0.1556 s_domain_loss: 0.6589 t_domain_loss: 0.6863 \n",
            "[9/14] class_loss: 0.1916 s_domain_loss: 0.6621 t_domain_loss: 0.6895 \n",
            "[10/14] class_loss: 0.2486 s_domain_loss: 0.6620 t_domain_loss: 0.6890 \n",
            "[11/14] class_loss: 0.1165 s_domain_loss: 0.6549 t_domain_loss: 0.6851 \n",
            "[12/14] class_loss: 0.2124 s_domain_loss: 0.6549 t_domain_loss: 0.6876 \n",
            "[13/14] class_loss: 0.1555 s_domain_loss: 0.6576 t_domain_loss: 0.6846 \n",
            "[14/14] class_loss: 0.1330 s_domain_loss: 0.6642 t_domain_loss: 0.6899 \n",
            "Accuracy is: 0.9520958083832335\n",
            "[1/14] class_loss: 0.1913 s_domain_loss: 0.6603 t_domain_loss: 0.6756 \n",
            "[2/14] class_loss: 0.1586 s_domain_loss: 0.6735 t_domain_loss: 0.6790 \n",
            "[3/14] class_loss: 0.1684 s_domain_loss: 0.6956 t_domain_loss: 0.6746 \n",
            "[4/14] class_loss: 0.1522 s_domain_loss: 0.6667 t_domain_loss: 0.6746 \n",
            "[5/14] class_loss: 0.2120 s_domain_loss: 0.6588 t_domain_loss: 0.6780 \n",
            "[6/14] class_loss: 0.1920 s_domain_loss: 0.6612 t_domain_loss: 0.6721 \n",
            "[7/14] class_loss: 0.1796 s_domain_loss: 0.6707 t_domain_loss: 0.6763 \n",
            "[8/14] class_loss: 0.1508 s_domain_loss: 0.6681 t_domain_loss: 0.6738 \n",
            "[9/14] class_loss: 0.1452 s_domain_loss: 0.6593 t_domain_loss: 0.6793 \n",
            "[10/14] class_loss: 0.1636 s_domain_loss: 0.6594 t_domain_loss: 0.6812 \n",
            "[11/14] class_loss: 0.1665 s_domain_loss: 0.6570 t_domain_loss: 0.6796 \n",
            "[12/14] class_loss: 0.1810 s_domain_loss: 0.6567 t_domain_loss: 0.6844 \n",
            "[13/14] class_loss: 0.1693 s_domain_loss: 0.6736 t_domain_loss: 0.6828 \n",
            "[14/14] class_loss: 0.1851 s_domain_loss: 0.6898 t_domain_loss: 0.6914 \n",
            "Accuracy is: 0.9473053892215569\n",
            "[1/14] class_loss: 0.1732 s_domain_loss: 0.6733 t_domain_loss: 0.6810 \n",
            "[2/14] class_loss: 0.2099 s_domain_loss: 0.6624 t_domain_loss: 0.6883 \n",
            "[3/14] class_loss: 0.1377 s_domain_loss: 0.6553 t_domain_loss: 0.6860 \n",
            "[4/14] class_loss: 0.1395 s_domain_loss: 0.6515 t_domain_loss: 0.6866 \n",
            "[5/14] class_loss: 0.1521 s_domain_loss: 0.6447 t_domain_loss: 0.6900 \n",
            "[6/14] class_loss: 0.1707 s_domain_loss: 0.6580 t_domain_loss: 0.6830 \n",
            "[7/14] class_loss: 0.1390 s_domain_loss: 0.6575 t_domain_loss: 0.6856 \n",
            "[8/14] class_loss: 0.1538 s_domain_loss: 0.6545 t_domain_loss: 0.6805 \n",
            "[9/14] class_loss: 0.1543 s_domain_loss: 0.6507 t_domain_loss: 0.6838 \n",
            "[10/14] class_loss: 0.2155 s_domain_loss: 0.6645 t_domain_loss: 0.6828 \n",
            "[11/14] class_loss: 0.2017 s_domain_loss: 0.6483 t_domain_loss: 0.6785 \n",
            "[12/14] class_loss: 0.1512 s_domain_loss: 0.6449 t_domain_loss: 0.6805 \n",
            "[13/14] class_loss: 0.1331 s_domain_loss: 0.6588 t_domain_loss: 0.6768 \n",
            "[14/14] class_loss: 0.2189 s_domain_loss: 0.6937 t_domain_loss: 0.6832 \n",
            "Accuracy is: 0.9538922155688623\n",
            "[1/14] class_loss: 0.2112 s_domain_loss: 0.6580 t_domain_loss: 0.6690 \n",
            "[2/14] class_loss: 0.1996 s_domain_loss: 0.6794 t_domain_loss: 0.6742 \n",
            "[3/14] class_loss: 0.1582 s_domain_loss: 0.6613 t_domain_loss: 0.6708 \n",
            "[4/14] class_loss: 0.1074 s_domain_loss: 0.6597 t_domain_loss: 0.6710 \n",
            "[5/14] class_loss: 0.1329 s_domain_loss: 0.6689 t_domain_loss: 0.6752 \n",
            "[6/14] class_loss: 0.1496 s_domain_loss: 0.6543 t_domain_loss: 0.6701 \n",
            "[7/14] class_loss: 0.1105 s_domain_loss: 0.6579 t_domain_loss: 0.6745 \n",
            "[8/14] class_loss: 0.1787 s_domain_loss: 0.6670 t_domain_loss: 0.6708 \n",
            "[9/14] class_loss: 0.1657 s_domain_loss: 0.6552 t_domain_loss: 0.6766 \n",
            "[10/14] class_loss: 0.1280 s_domain_loss: 0.6644 t_domain_loss: 0.6778 \n",
            "[11/14] class_loss: 0.1527 s_domain_loss: 0.6713 t_domain_loss: 0.6755 \n",
            "[12/14] class_loss: 0.2142 s_domain_loss: 0.6512 t_domain_loss: 0.6803 \n",
            "[13/14] class_loss: 0.1304 s_domain_loss: 0.6474 t_domain_loss: 0.6803 \n",
            "[14/14] class_loss: 0.0267 s_domain_loss: 0.7005 t_domain_loss: 0.6888 \n",
            "Accuracy is: 0.9544910179640719\n",
            "[1/14] class_loss: 0.1766 s_domain_loss: 0.6514 t_domain_loss: 0.6760 \n",
            "[2/14] class_loss: 0.1527 s_domain_loss: 0.6516 t_domain_loss: 0.6823 \n",
            "[3/14] class_loss: 0.2681 s_domain_loss: 0.6646 t_domain_loss: 0.6787 \n",
            "[4/14] class_loss: 0.1157 s_domain_loss: 0.6412 t_domain_loss: 0.6783 \n",
            "[5/14] class_loss: 0.1484 s_domain_loss: 0.6461 t_domain_loss: 0.6821 \n",
            "[6/14] class_loss: 0.1194 s_domain_loss: 0.6409 t_domain_loss: 0.6749 \n",
            "[7/14] class_loss: 0.0659 s_domain_loss: 0.6457 t_domain_loss: 0.6768 \n",
            "[8/14] class_loss: 0.1204 s_domain_loss: 0.6678 t_domain_loss: 0.6702 \n",
            "[9/14] class_loss: 0.1542 s_domain_loss: 0.6655 t_domain_loss: 0.6737 \n",
            "[10/14] class_loss: 0.1042 s_domain_loss: 0.6425 t_domain_loss: 0.6734 \n",
            "[11/14] class_loss: 0.1446 s_domain_loss: 0.6619 t_domain_loss: 0.6687 \n",
            "[12/14] class_loss: 0.1734 s_domain_loss: 0.6739 t_domain_loss: 0.6714 \n",
            "[13/14] class_loss: 0.1426 s_domain_loss: 0.6718 t_domain_loss: 0.6702 \n",
            "[14/14] class_loss: 0.0870 s_domain_loss: 0.7566 t_domain_loss: 0.6797 \n",
            "Accuracy is: 0.9532934131736527\n",
            "[1/14] class_loss: 0.1682 s_domain_loss: 0.6577 t_domain_loss: 0.6676 \n",
            "[2/14] class_loss: 0.0979 s_domain_loss: 0.6581 t_domain_loss: 0.6754 \n",
            "[3/14] class_loss: 0.1305 s_domain_loss: 0.6429 t_domain_loss: 0.6734 \n",
            "[4/14] class_loss: 0.1551 s_domain_loss: 0.6405 t_domain_loss: 0.6739 \n",
            "[5/14] class_loss: 0.0926 s_domain_loss: 0.6609 t_domain_loss: 0.6794 \n",
            "[6/14] class_loss: 0.1054 s_domain_loss: 0.6407 t_domain_loss: 0.6737 \n",
            "[7/14] class_loss: 0.1429 s_domain_loss: 0.6362 t_domain_loss: 0.6774 \n",
            "[8/14] class_loss: 0.1730 s_domain_loss: 0.6504 t_domain_loss: 0.6717 \n",
            "[9/14] class_loss: 0.1748 s_domain_loss: 0.6599 t_domain_loss: 0.6756 \n",
            "[10/14] class_loss: 0.1722 s_domain_loss: 0.6468 t_domain_loss: 0.6755 \n",
            "[11/14] class_loss: 0.1536 s_domain_loss: 0.6666 t_domain_loss: 0.6710 \n",
            "[12/14] class_loss: 0.1234 s_domain_loss: 0.6492 t_domain_loss: 0.6741 \n",
            "[13/14] class_loss: 0.1686 s_domain_loss: 0.6612 t_domain_loss: 0.6720 \n",
            "[14/14] class_loss: 0.3113 s_domain_loss: 0.7169 t_domain_loss: 0.6815 \n",
            "Accuracy is: 0.9574850299401197\n",
            "[1/14] class_loss: 0.1022 s_domain_loss: 0.6572 t_domain_loss: 0.6674 \n",
            "[2/14] class_loss: 0.1538 s_domain_loss: 0.6530 t_domain_loss: 0.6739 \n",
            "[3/14] class_loss: 0.1397 s_domain_loss: 0.6448 t_domain_loss: 0.6705 \n",
            "[4/14] class_loss: 0.1416 s_domain_loss: 0.6572 t_domain_loss: 0.6692 \n",
            "[5/14] class_loss: 0.0965 s_domain_loss: 0.6302 t_domain_loss: 0.6748 \n",
            "[6/14] class_loss: 0.1059 s_domain_loss: 0.6413 t_domain_loss: 0.6682 \n",
            "[7/14] class_loss: 0.1866 s_domain_loss: 0.6511 t_domain_loss: 0.6706 \n",
            "[8/14] class_loss: 0.1343 s_domain_loss: 0.6523 t_domain_loss: 0.6645 \n",
            "[9/14] class_loss: 0.1710 s_domain_loss: 0.6674 t_domain_loss: 0.6682 \n",
            "[10/14] class_loss: 0.1171 s_domain_loss: 0.6610 t_domain_loss: 0.6693 \n",
            "[11/14] class_loss: 0.1325 s_domain_loss: 0.6495 t_domain_loss: 0.6653 \n",
            "[12/14] class_loss: 0.1056 s_domain_loss: 0.6533 t_domain_loss: 0.6684 \n",
            "[13/14] class_loss: 0.2389 s_domain_loss: 0.6642 t_domain_loss: 0.6684 \n",
            "[14/14] class_loss: 0.3630 s_domain_loss: 0.7490 t_domain_loss: 0.6790 \n",
            "Accuracy is: 0.9574850299401197\n",
            "[1/14] class_loss: 0.1524 s_domain_loss: 0.6570 t_domain_loss: 0.6672 \n",
            "[2/14] class_loss: 0.1162 s_domain_loss: 0.6333 t_domain_loss: 0.6759 \n",
            "[3/14] class_loss: 0.1162 s_domain_loss: 0.6381 t_domain_loss: 0.6729 \n",
            "[4/14] class_loss: 0.1679 s_domain_loss: 0.6412 t_domain_loss: 0.6720 \n",
            "[5/14] class_loss: 0.0856 s_domain_loss: 0.6363 t_domain_loss: 0.6774 \n",
            "[6/14] class_loss: 0.1326 s_domain_loss: 0.6358 t_domain_loss: 0.6710 \n",
            "[7/14] class_loss: 0.1091 s_domain_loss: 0.6305 t_domain_loss: 0.6737 \n",
            "[8/14] class_loss: 0.1541 s_domain_loss: 0.6640 t_domain_loss: 0.6677 \n",
            "[9/14] class_loss: 0.1272 s_domain_loss: 0.6483 t_domain_loss: 0.6710 \n",
            "[10/14] class_loss: 0.1345 s_domain_loss: 0.6416 t_domain_loss: 0.6717 \n",
            "[11/14] class_loss: 0.2100 s_domain_loss: 0.6567 t_domain_loss: 0.6667 \n",
            "[12/14] class_loss: 0.1533 s_domain_loss: 0.6490 t_domain_loss: 0.6685 \n",
            "[13/14] class_loss: 0.0855 s_domain_loss: 0.6611 t_domain_loss: 0.6665 \n",
            "[14/14] class_loss: 0.3296 s_domain_loss: 0.6808 t_domain_loss: 0.6764 \n",
            "Accuracy is: 0.9574850299401197\n",
            "[1/14] class_loss: 0.0742 s_domain_loss: 0.6467 t_domain_loss: 0.6617 \n",
            "[2/14] class_loss: 0.1717 s_domain_loss: 0.6525 t_domain_loss: 0.6669 \n",
            "[3/14] class_loss: 0.1787 s_domain_loss: 0.6652 t_domain_loss: 0.6621 \n",
            "[4/14] class_loss: 0.1341 s_domain_loss: 0.6650 t_domain_loss: 0.6601 \n",
            "[5/14] class_loss: 0.1532 s_domain_loss: 0.6477 t_domain_loss: 0.6654 \n",
            "[6/14] class_loss: 0.1192 s_domain_loss: 0.6507 t_domain_loss: 0.6592 \n",
            "[7/14] class_loss: 0.1314 s_domain_loss: 0.6360 t_domain_loss: 0.6631 \n",
            "[8/14] class_loss: 0.1401 s_domain_loss: 0.6387 t_domain_loss: 0.6590 \n",
            "[9/14] class_loss: 0.1334 s_domain_loss: 0.6451 t_domain_loss: 0.6639 \n",
            "[10/14] class_loss: 0.0994 s_domain_loss: 0.6610 t_domain_loss: 0.6664 \n",
            "[11/14] class_loss: 0.1945 s_domain_loss: 0.6606 t_domain_loss: 0.6633 \n",
            "[12/14] class_loss: 0.0985 s_domain_loss: 0.6417 t_domain_loss: 0.6668 \n",
            "[13/14] class_loss: 0.1147 s_domain_loss: 0.6445 t_domain_loss: 0.6666 \n",
            "[14/14] class_loss: 0.0335 s_domain_loss: 0.6975 t_domain_loss: 0.6777 \n",
            "Accuracy is: 0.9592814371257485\n"
          ],
          "name": "stdout"
        }
      ]
    },
    {
      "cell_type": "markdown",
      "metadata": {
        "id": "TgONyH0xfN9W",
        "colab_type": "text"
      },
      "source": [
        "## Test"
      ]
    },
    {
      "cell_type": "code",
      "metadata": {
        "id": "Qw4arKipfR0Q",
        "colab_type": "code",
        "outputId": "563c1bf0-0f7d-4c58-ddff-c0ee032926ca",
        "colab": {
          "base_uri": "https://localhost:8080/",
          "height": 70
        }
      },
      "source": [
        "net = net.to(DEVICE) # this will bring the network to GPU if DEVICE is cuda\n",
        "net.train(False) # Set Network to evaluation mode\n",
        "\n",
        "running_corrects = 0\n",
        "for images, labels in tqdm(art_painting_dataloader):\n",
        "  images = images.to(DEVICE)\n",
        "  labels = labels.to(DEVICE)\n",
        "\n",
        "  # Forward Pass\n",
        "  outputs = net(images)\n",
        "\n",
        "  loss = criterion(outputs, labels)\n",
        "\n",
        "  # Get predictions\n",
        "  _, preds = torch.max(outputs.data, 1)\n",
        "\n",
        "  # Update Corrects\n",
        "  running_corrects += torch.sum(preds == labels.data).data.item()\n",
        "\n",
        "# Calculate Accuracy\n",
        "accuracy = running_corrects / float(len(art_painting))\n",
        "\n",
        "print('Test Accuracy: {}'.format(accuracy))\n",
        "print('Loss is: ' + str(loss.item()))"
      ],
      "execution_count": 15,
      "outputs": [
        {
          "output_type": "stream",
          "text": [
            "100%|██████████| 16/16 [00:07<00:00,  2.03it/s]"
          ],
          "name": "stderr"
        },
        {
          "output_type": "stream",
          "text": [
            "Test Accuracy: 0.453125\n",
            "Loss is: 5.24220085144043\n"
          ],
          "name": "stdout"
        },
        {
          "output_type": "stream",
          "text": [
            "\n"
          ],
          "name": "stderr"
        }
      ]
    },
    {
      "cell_type": "code",
      "metadata": {
        "id": "sIyWY1Mn-ZP8",
        "colab_type": "code",
        "outputId": "e9df192e-8b8c-4805-fed2-4931abdb01fe",
        "colab": {
          "base_uri": "https://localhost:8080/",
          "height": 34
        }
      },
      "source": [
        "LR"
      ],
      "execution_count": 16,
      "outputs": [
        {
          "output_type": "execute_result",
          "data": {
            "text/plain": [
              "0.0001"
            ]
          },
          "metadata": {
            "tags": []
          },
          "execution_count": 16
        }
      ]
    },
    {
      "cell_type": "code",
      "metadata": {
        "id": "TGi68vVW-a3G",
        "colab_type": "code",
        "outputId": "656cdd49-abb4-4796-bc3f-809fa3062fd4",
        "colab": {
          "base_uri": "https://localhost:8080/",
          "height": 34
        }
      },
      "source": [
        "alfa"
      ],
      "execution_count": 17,
      "outputs": [
        {
          "output_type": "execute_result",
          "data": {
            "text/plain": [
              "0.01"
            ]
          },
          "metadata": {
            "tags": []
          },
          "execution_count": 17
        }
      ]
    },
    {
      "cell_type": "code",
      "metadata": {
        "id": "rYzdDu7l-b5R",
        "colab_type": "code",
        "outputId": "e87b0acd-48c8-49b0-c8d1-43c30d27b750",
        "colab": {
          "base_uri": "https://localhost:8080/",
          "height": 34
        }
      },
      "source": [
        "NUM_EPOCHS"
      ],
      "execution_count": 18,
      "outputs": [
        {
          "output_type": "execute_result",
          "data": {
            "text/plain": [
              "20"
            ]
          },
          "metadata": {
            "tags": []
          },
          "execution_count": 18
        }
      ]
    }
  ]
}